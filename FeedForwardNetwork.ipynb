{
  "nbformat": 4,
  "nbformat_minor": 0,
  "metadata": {
    "colab": {
      "provenance": [],
      "authorship_tag": "ABX9TyMhIuu1aokzlBsZ5sQxrhLK"
    },
    "kernelspec": {
      "name": "python3",
      "display_name": "Python 3"
    },
    "language_info": {
      "name": "python"
    },
    "widgets": {
      "application/vnd.jupyter.widget-state+json": {
        "49494fd4e1cd4635a98c22d06cddff74": {
          "model_module": "@jupyter-widgets/controls",
          "model_name": "HBoxModel",
          "state": {
            "_view_name": "HBoxView",
            "_dom_classes": [],
            "_model_name": "HBoxModel",
            "_view_module": "@jupyter-widgets/controls",
            "_model_module_version": "1.5.0",
            "_view_count": null,
            "_view_module_version": "1.5.0",
            "box_style": "",
            "layout": "IPY_MODEL_e2053bdcba76418db3062b213804caa3",
            "_model_module": "@jupyter-widgets/controls",
            "children": [
              "IPY_MODEL_fa28c707d7a94e99a0ddf0913bc66af6",
              "IPY_MODEL_ad19386d04c74f01b79057831b62d36d"
            ]
          },
          "model_module_version": "1.5.0"
        },
        "e2053bdcba76418db3062b213804caa3": {
          "model_module": "@jupyter-widgets/base",
          "model_name": "LayoutModel",
          "state": {
            "_view_name": "LayoutView",
            "grid_template_rows": null,
            "right": null,
            "justify_content": null,
            "_view_module": "@jupyter-widgets/base",
            "overflow": null,
            "_model_module_version": "1.2.0",
            "_view_count": null,
            "flex_flow": null,
            "width": null,
            "min_width": null,
            "border": null,
            "align_items": null,
            "bottom": null,
            "_model_module": "@jupyter-widgets/base",
            "top": null,
            "grid_column": null,
            "overflow_y": null,
            "overflow_x": null,
            "grid_auto_flow": null,
            "grid_area": null,
            "grid_template_columns": null,
            "flex": null,
            "_model_name": "LayoutModel",
            "justify_items": null,
            "grid_row": null,
            "max_height": null,
            "align_content": null,
            "visibility": null,
            "align_self": null,
            "height": null,
            "min_height": null,
            "padding": null,
            "grid_auto_rows": null,
            "grid_gap": null,
            "max_width": null,
            "order": null,
            "_view_module_version": "1.2.0",
            "grid_template_areas": null,
            "object_position": null,
            "object_fit": null,
            "grid_auto_columns": null,
            "margin": null,
            "display": null,
            "left": null
          },
          "model_module_version": "1.2.0"
        },
        "fa28c707d7a94e99a0ddf0913bc66af6": {
          "model_module": "@jupyter-widgets/controls",
          "model_name": "FloatProgressModel",
          "state": {
            "_view_name": "ProgressView",
            "style": "IPY_MODEL_d0f31f6a703645588b24d3941deb094f",
            "_dom_classes": [],
            "description": "100%",
            "_model_name": "FloatProgressModel",
            "bar_style": "success",
            "max": 1000,
            "_view_module": "@jupyter-widgets/controls",
            "_model_module_version": "1.5.0",
            "value": 1000,
            "_view_count": null,
            "_view_module_version": "1.5.0",
            "orientation": "horizontal",
            "min": 0,
            "description_tooltip": null,
            "_model_module": "@jupyter-widgets/controls",
            "layout": "IPY_MODEL_d57d9eb6d6e14285a41f1653a3795d11"
          },
          "model_module_version": "1.5.0"
        },
        "ad19386d04c74f01b79057831b62d36d": {
          "model_module": "@jupyter-widgets/controls",
          "model_name": "HTMLModel",
          "state": {
            "_view_name": "HTMLView",
            "style": "IPY_MODEL_1baca26504d9495086639e1c3c85b0a1",
            "_dom_classes": [],
            "description": "",
            "_model_name": "HTMLModel",
            "placeholder": "​",
            "_view_module": "@jupyter-widgets/controls",
            "_model_module_version": "1.5.0",
            "value": " 1000/1000 [08:03&lt;00:00,  2.07epoch/s]",
            "_view_count": null,
            "_view_module_version": "1.5.0",
            "description_tooltip": null,
            "_model_module": "@jupyter-widgets/controls",
            "layout": "IPY_MODEL_363001744686412098a8e1c3e0179c1f"
          },
          "model_module_version": "1.5.0"
        },
        "d0f31f6a703645588b24d3941deb094f": {
          "model_module": "@jupyter-widgets/controls",
          "model_name": "ProgressStyleModel",
          "state": {
            "_view_name": "StyleView",
            "_model_name": "ProgressStyleModel",
            "description_width": "initial",
            "_view_module": "@jupyter-widgets/base",
            "_model_module_version": "1.5.0",
            "_view_count": null,
            "_view_module_version": "1.2.0",
            "bar_color": null,
            "_model_module": "@jupyter-widgets/controls"
          },
          "model_module_version": "1.5.0"
        },
        "d57d9eb6d6e14285a41f1653a3795d11": {
          "model_module": "@jupyter-widgets/base",
          "model_name": "LayoutModel",
          "state": {
            "_view_name": "LayoutView",
            "grid_template_rows": null,
            "right": null,
            "justify_content": null,
            "_view_module": "@jupyter-widgets/base",
            "overflow": null,
            "_model_module_version": "1.2.0",
            "_view_count": null,
            "flex_flow": null,
            "width": null,
            "min_width": null,
            "border": null,
            "align_items": null,
            "bottom": null,
            "_model_module": "@jupyter-widgets/base",
            "top": null,
            "grid_column": null,
            "overflow_y": null,
            "overflow_x": null,
            "grid_auto_flow": null,
            "grid_area": null,
            "grid_template_columns": null,
            "flex": null,
            "_model_name": "LayoutModel",
            "justify_items": null,
            "grid_row": null,
            "max_height": null,
            "align_content": null,
            "visibility": null,
            "align_self": null,
            "height": null,
            "min_height": null,
            "padding": null,
            "grid_auto_rows": null,
            "grid_gap": null,
            "max_width": null,
            "order": null,
            "_view_module_version": "1.2.0",
            "grid_template_areas": null,
            "object_position": null,
            "object_fit": null,
            "grid_auto_columns": null,
            "margin": null,
            "display": null,
            "left": null
          },
          "model_module_version": "1.2.0"
        },
        "1baca26504d9495086639e1c3c85b0a1": {
          "model_module": "@jupyter-widgets/controls",
          "model_name": "DescriptionStyleModel",
          "state": {
            "_view_name": "StyleView",
            "_model_name": "DescriptionStyleModel",
            "description_width": "",
            "_view_module": "@jupyter-widgets/base",
            "_model_module_version": "1.5.0",
            "_view_count": null,
            "_view_module_version": "1.2.0",
            "_model_module": "@jupyter-widgets/controls"
          },
          "model_module_version": "1.5.0"
        },
        "363001744686412098a8e1c3e0179c1f": {
          "model_module": "@jupyter-widgets/base",
          "model_name": "LayoutModel",
          "state": {
            "_view_name": "LayoutView",
            "grid_template_rows": null,
            "right": null,
            "justify_content": null,
            "_view_module": "@jupyter-widgets/base",
            "overflow": null,
            "_model_module_version": "1.2.0",
            "_view_count": null,
            "flex_flow": null,
            "width": null,
            "min_width": null,
            "border": null,
            "align_items": null,
            "bottom": null,
            "_model_module": "@jupyter-widgets/base",
            "top": null,
            "grid_column": null,
            "overflow_y": null,
            "overflow_x": null,
            "grid_auto_flow": null,
            "grid_area": null,
            "grid_template_columns": null,
            "flex": null,
            "_model_name": "LayoutModel",
            "justify_items": null,
            "grid_row": null,
            "max_height": null,
            "align_content": null,
            "visibility": null,
            "align_self": null,
            "height": null,
            "min_height": null,
            "padding": null,
            "grid_auto_rows": null,
            "grid_gap": null,
            "max_width": null,
            "order": null,
            "_view_module_version": "1.2.0",
            "grid_template_areas": null,
            "object_position": null,
            "object_fit": null,
            "grid_auto_columns": null,
            "margin": null,
            "display": null,
            "left": null
          },
          "model_module_version": "1.2.0"
        },
        "4a938530822e49d0b43c1bfc8b620d66": {
          "model_module": "@jupyter-widgets/controls",
          "model_name": "HBoxModel",
          "state": {
            "_view_name": "HBoxView",
            "_dom_classes": [],
            "_model_name": "HBoxModel",
            "_view_module": "@jupyter-widgets/controls",
            "_model_module_version": "1.5.0",
            "_view_count": null,
            "_view_module_version": "1.5.0",
            "box_style": "",
            "layout": "IPY_MODEL_18032888d4d64f78b7c504c1c404a428",
            "_model_module": "@jupyter-widgets/controls",
            "children": [
              "IPY_MODEL_b3e736ebac0b4850ba36a559db41b299",
              "IPY_MODEL_33e39fff437c4228a8f923f088e811cf"
            ]
          },
          "model_module_version": "1.5.0"
        },
        "18032888d4d64f78b7c504c1c404a428": {
          "model_module": "@jupyter-widgets/base",
          "model_name": "LayoutModel",
          "state": {
            "_view_name": "LayoutView",
            "grid_template_rows": null,
            "right": null,
            "justify_content": null,
            "_view_module": "@jupyter-widgets/base",
            "overflow": null,
            "_model_module_version": "1.2.0",
            "_view_count": null,
            "flex_flow": null,
            "width": null,
            "min_width": null,
            "border": null,
            "align_items": null,
            "bottom": null,
            "_model_module": "@jupyter-widgets/base",
            "top": null,
            "grid_column": null,
            "overflow_y": null,
            "overflow_x": null,
            "grid_auto_flow": null,
            "grid_area": null,
            "grid_template_columns": null,
            "flex": null,
            "_model_name": "LayoutModel",
            "justify_items": null,
            "grid_row": null,
            "max_height": null,
            "align_content": null,
            "visibility": null,
            "align_self": null,
            "height": null,
            "min_height": null,
            "padding": null,
            "grid_auto_rows": null,
            "grid_gap": null,
            "max_width": null,
            "order": null,
            "_view_module_version": "1.2.0",
            "grid_template_areas": null,
            "object_position": null,
            "object_fit": null,
            "grid_auto_columns": null,
            "margin": null,
            "display": null,
            "left": null
          },
          "model_module_version": "1.2.0"
        },
        "b3e736ebac0b4850ba36a559db41b299": {
          "model_module": "@jupyter-widgets/controls",
          "model_name": "FloatProgressModel",
          "state": {
            "_view_name": "ProgressView",
            "style": "IPY_MODEL_9d30ef0dc2e84ca6944b41caaa496ac0",
            "_dom_classes": [],
            "description": "100%",
            "_model_name": "FloatProgressModel",
            "bar_style": "success",
            "max": 2000,
            "_view_module": "@jupyter-widgets/controls",
            "_model_module_version": "1.5.0",
            "value": 2000,
            "_view_count": null,
            "_view_module_version": "1.5.0",
            "orientation": "horizontal",
            "min": 0,
            "description_tooltip": null,
            "_model_module": "@jupyter-widgets/controls",
            "layout": "IPY_MODEL_7a59a55b6639438fb0428f9a12270e66"
          },
          "model_module_version": "1.5.0"
        },
        "33e39fff437c4228a8f923f088e811cf": {
          "model_module": "@jupyter-widgets/controls",
          "model_name": "HTMLModel",
          "state": {
            "_view_name": "HTMLView",
            "style": "IPY_MODEL_f57621444d234c69b71ce45288d25b18",
            "_dom_classes": [],
            "description": "",
            "_model_name": "HTMLModel",
            "placeholder": "​",
            "_view_module": "@jupyter-widgets/controls",
            "_model_module_version": "1.5.0",
            "value": " 2000/2000 [00:58&lt;00:00, 34.01epoch/s]",
            "_view_count": null,
            "_view_module_version": "1.5.0",
            "description_tooltip": null,
            "_model_module": "@jupyter-widgets/controls",
            "layout": "IPY_MODEL_e76839a6ceba4196a652a45959d1dd57"
          },
          "model_module_version": "1.5.0"
        },
        "9d30ef0dc2e84ca6944b41caaa496ac0": {
          "model_module": "@jupyter-widgets/controls",
          "model_name": "ProgressStyleModel",
          "state": {
            "_view_name": "StyleView",
            "_model_name": "ProgressStyleModel",
            "description_width": "initial",
            "_view_module": "@jupyter-widgets/base",
            "_model_module_version": "1.5.0",
            "_view_count": null,
            "_view_module_version": "1.2.0",
            "bar_color": null,
            "_model_module": "@jupyter-widgets/controls"
          },
          "model_module_version": "1.5.0"
        },
        "7a59a55b6639438fb0428f9a12270e66": {
          "model_module": "@jupyter-widgets/base",
          "model_name": "LayoutModel",
          "state": {
            "_view_name": "LayoutView",
            "grid_template_rows": null,
            "right": null,
            "justify_content": null,
            "_view_module": "@jupyter-widgets/base",
            "overflow": null,
            "_model_module_version": "1.2.0",
            "_view_count": null,
            "flex_flow": null,
            "width": null,
            "min_width": null,
            "border": null,
            "align_items": null,
            "bottom": null,
            "_model_module": "@jupyter-widgets/base",
            "top": null,
            "grid_column": null,
            "overflow_y": null,
            "overflow_x": null,
            "grid_auto_flow": null,
            "grid_area": null,
            "grid_template_columns": null,
            "flex": null,
            "_model_name": "LayoutModel",
            "justify_items": null,
            "grid_row": null,
            "max_height": null,
            "align_content": null,
            "visibility": null,
            "align_self": null,
            "height": null,
            "min_height": null,
            "padding": null,
            "grid_auto_rows": null,
            "grid_gap": null,
            "max_width": null,
            "order": null,
            "_view_module_version": "1.2.0",
            "grid_template_areas": null,
            "object_position": null,
            "object_fit": null,
            "grid_auto_columns": null,
            "margin": null,
            "display": null,
            "left": null
          },
          "model_module_version": "1.2.0"
        },
        "f57621444d234c69b71ce45288d25b18": {
          "model_module": "@jupyter-widgets/controls",
          "model_name": "DescriptionStyleModel",
          "state": {
            "_view_name": "StyleView",
            "_model_name": "DescriptionStyleModel",
            "description_width": "",
            "_view_module": "@jupyter-widgets/base",
            "_model_module_version": "1.5.0",
            "_view_count": null,
            "_view_module_version": "1.2.0",
            "_model_module": "@jupyter-widgets/controls"
          },
          "model_module_version": "1.5.0"
        },
        "e76839a6ceba4196a652a45959d1dd57": {
          "model_module": "@jupyter-widgets/base",
          "model_name": "LayoutModel",
          "state": {
            "_view_name": "LayoutView",
            "grid_template_rows": null,
            "right": null,
            "justify_content": null,
            "_view_module": "@jupyter-widgets/base",
            "overflow": null,
            "_model_module_version": "1.2.0",
            "_view_count": null,
            "flex_flow": null,
            "width": null,
            "min_width": null,
            "border": null,
            "align_items": null,
            "bottom": null,
            "_model_module": "@jupyter-widgets/base",
            "top": null,
            "grid_column": null,
            "overflow_y": null,
            "overflow_x": null,
            "grid_auto_flow": null,
            "grid_area": null,
            "grid_template_columns": null,
            "flex": null,
            "_model_name": "LayoutModel",
            "justify_items": null,
            "grid_row": null,
            "max_height": null,
            "align_content": null,
            "visibility": null,
            "align_self": null,
            "height": null,
            "min_height": null,
            "padding": null,
            "grid_auto_rows": null,
            "grid_gap": null,
            "max_width": null,
            "order": null,
            "_view_module_version": "1.2.0",
            "grid_template_areas": null,
            "object_position": null,
            "object_fit": null,
            "grid_auto_columns": null,
            "margin": null,
            "display": null,
            "left": null
          },
          "model_module_version": "1.2.0"
        },
        "96d2c03fe4de4ce3b597a4a9debb1e93": {
          "model_module": "@jupyter-widgets/controls",
          "model_name": "HBoxModel",
          "state": {
            "_view_name": "HBoxView",
            "_dom_classes": [],
            "_model_name": "HBoxModel",
            "_view_module": "@jupyter-widgets/controls",
            "_model_module_version": "1.5.0",
            "_view_count": null,
            "_view_module_version": "1.5.0",
            "box_style": "",
            "layout": "IPY_MODEL_a07f764787ff48ef9120dc0932a860d7",
            "_model_module": "@jupyter-widgets/controls",
            "children": [
              "IPY_MODEL_ebbd28e198d6407db229e28f7ba163da",
              "IPY_MODEL_03e5ce364d3b4853bd40f4fc41e9652d"
            ]
          },
          "model_module_version": "1.5.0"
        },
        "a07f764787ff48ef9120dc0932a860d7": {
          "model_module": "@jupyter-widgets/base",
          "model_name": "LayoutModel",
          "state": {
            "_view_name": "LayoutView",
            "grid_template_rows": null,
            "right": null,
            "justify_content": null,
            "_view_module": "@jupyter-widgets/base",
            "overflow": null,
            "_model_module_version": "1.2.0",
            "_view_count": null,
            "flex_flow": null,
            "width": null,
            "min_width": null,
            "border": null,
            "align_items": null,
            "bottom": null,
            "_model_module": "@jupyter-widgets/base",
            "top": null,
            "grid_column": null,
            "overflow_y": null,
            "overflow_x": null,
            "grid_auto_flow": null,
            "grid_area": null,
            "grid_template_columns": null,
            "flex": null,
            "_model_name": "LayoutModel",
            "justify_items": null,
            "grid_row": null,
            "max_height": null,
            "align_content": null,
            "visibility": null,
            "align_self": null,
            "height": null,
            "min_height": null,
            "padding": null,
            "grid_auto_rows": null,
            "grid_gap": null,
            "max_width": null,
            "order": null,
            "_view_module_version": "1.2.0",
            "grid_template_areas": null,
            "object_position": null,
            "object_fit": null,
            "grid_auto_columns": null,
            "margin": null,
            "display": null,
            "left": null
          },
          "model_module_version": "1.2.0"
        },
        "ebbd28e198d6407db229e28f7ba163da": {
          "model_module": "@jupyter-widgets/controls",
          "model_name": "FloatProgressModel",
          "state": {
            "_view_name": "ProgressView",
            "style": "IPY_MODEL_51d28012586144f7be702193b900d139",
            "_dom_classes": [],
            "description": "100%",
            "_model_name": "FloatProgressModel",
            "bar_style": "success",
            "max": 1000,
            "_view_module": "@jupyter-widgets/controls",
            "_model_module_version": "1.5.0",
            "value": 1000,
            "_view_count": null,
            "_view_module_version": "1.5.0",
            "orientation": "horizontal",
            "min": 0,
            "description_tooltip": null,
            "_model_module": "@jupyter-widgets/controls",
            "layout": "IPY_MODEL_b40156e05776422c86d56034c3259b6f"
          },
          "model_module_version": "1.5.0"
        },
        "03e5ce364d3b4853bd40f4fc41e9652d": {
          "model_module": "@jupyter-widgets/controls",
          "model_name": "HTMLModel",
          "state": {
            "_view_name": "HTMLView",
            "style": "IPY_MODEL_52aa87805212452d8e4b2db87425fc70",
            "_dom_classes": [],
            "description": "",
            "_model_name": "HTMLModel",
            "placeholder": "​",
            "_view_module": "@jupyter-widgets/controls",
            "_model_module_version": "1.5.0",
            "value": " 1000/1000 [01:08&lt;00:00, 14.66epoch/s]",
            "_view_count": null,
            "_view_module_version": "1.5.0",
            "description_tooltip": null,
            "_model_module": "@jupyter-widgets/controls",
            "layout": "IPY_MODEL_3ae2fa519e4d4760abb289c1e8f94bf2"
          },
          "model_module_version": "1.5.0"
        },
        "51d28012586144f7be702193b900d139": {
          "model_module": "@jupyter-widgets/controls",
          "model_name": "ProgressStyleModel",
          "state": {
            "_view_name": "StyleView",
            "_model_name": "ProgressStyleModel",
            "description_width": "initial",
            "_view_module": "@jupyter-widgets/base",
            "_model_module_version": "1.5.0",
            "_view_count": null,
            "_view_module_version": "1.2.0",
            "bar_color": null,
            "_model_module": "@jupyter-widgets/controls"
          },
          "model_module_version": "1.5.0"
        },
        "b40156e05776422c86d56034c3259b6f": {
          "model_module": "@jupyter-widgets/base",
          "model_name": "LayoutModel",
          "state": {
            "_view_name": "LayoutView",
            "grid_template_rows": null,
            "right": null,
            "justify_content": null,
            "_view_module": "@jupyter-widgets/base",
            "overflow": null,
            "_model_module_version": "1.2.0",
            "_view_count": null,
            "flex_flow": null,
            "width": null,
            "min_width": null,
            "border": null,
            "align_items": null,
            "bottom": null,
            "_model_module": "@jupyter-widgets/base",
            "top": null,
            "grid_column": null,
            "overflow_y": null,
            "overflow_x": null,
            "grid_auto_flow": null,
            "grid_area": null,
            "grid_template_columns": null,
            "flex": null,
            "_model_name": "LayoutModel",
            "justify_items": null,
            "grid_row": null,
            "max_height": null,
            "align_content": null,
            "visibility": null,
            "align_self": null,
            "height": null,
            "min_height": null,
            "padding": null,
            "grid_auto_rows": null,
            "grid_gap": null,
            "max_width": null,
            "order": null,
            "_view_module_version": "1.2.0",
            "grid_template_areas": null,
            "object_position": null,
            "object_fit": null,
            "grid_auto_columns": null,
            "margin": null,
            "display": null,
            "left": null
          },
          "model_module_version": "1.2.0"
        },
        "52aa87805212452d8e4b2db87425fc70": {
          "model_module": "@jupyter-widgets/controls",
          "model_name": "DescriptionStyleModel",
          "state": {
            "_view_name": "StyleView",
            "_model_name": "DescriptionStyleModel",
            "description_width": "",
            "_view_module": "@jupyter-widgets/base",
            "_model_module_version": "1.5.0",
            "_view_count": null,
            "_view_module_version": "1.2.0",
            "_model_module": "@jupyter-widgets/controls"
          },
          "model_module_version": "1.5.0"
        },
        "3ae2fa519e4d4760abb289c1e8f94bf2": {
          "model_module": "@jupyter-widgets/base",
          "model_name": "LayoutModel",
          "state": {
            "_view_name": "LayoutView",
            "grid_template_rows": null,
            "right": null,
            "justify_content": null,
            "_view_module": "@jupyter-widgets/base",
            "overflow": null,
            "_model_module_version": "1.2.0",
            "_view_count": null,
            "flex_flow": null,
            "width": null,
            "min_width": null,
            "border": null,
            "align_items": null,
            "bottom": null,
            "_model_module": "@jupyter-widgets/base",
            "top": null,
            "grid_column": null,
            "overflow_y": null,
            "overflow_x": null,
            "grid_auto_flow": null,
            "grid_area": null,
            "grid_template_columns": null,
            "flex": null,
            "_model_name": "LayoutModel",
            "justify_items": null,
            "grid_row": null,
            "max_height": null,
            "align_content": null,
            "visibility": null,
            "align_self": null,
            "height": null,
            "min_height": null,
            "padding": null,
            "grid_auto_rows": null,
            "grid_gap": null,
            "max_width": null,
            "order": null,
            "_view_module_version": "1.2.0",
            "grid_template_areas": null,
            "object_position": null,
            "object_fit": null,
            "grid_auto_columns": null,
            "margin": null,
            "display": null,
            "left": null
          },
          "model_module_version": "1.2.0"
        },
        "512777acbebd4763b68055e06105e778": {
          "model_module": "@jupyter-widgets/controls",
          "model_name": "HBoxModel",
          "state": {
            "_view_name": "HBoxView",
            "_dom_classes": [],
            "_model_name": "HBoxModel",
            "_view_module": "@jupyter-widgets/controls",
            "_model_module_version": "1.5.0",
            "_view_count": null,
            "_view_module_version": "1.5.0",
            "box_style": "",
            "layout": "IPY_MODEL_73e692ad368844a58d835a949485a7c2",
            "_model_module": "@jupyter-widgets/controls",
            "children": [
              "IPY_MODEL_4edb337e8a4a46fbb5dbae752120d9cc",
              "IPY_MODEL_1f5caead6b984991aa277e9dcc5a7c5b"
            ]
          },
          "model_module_version": "1.5.0"
        },
        "73e692ad368844a58d835a949485a7c2": {
          "model_module": "@jupyter-widgets/base",
          "model_name": "LayoutModel",
          "state": {
            "_view_name": "LayoutView",
            "grid_template_rows": null,
            "right": null,
            "justify_content": null,
            "_view_module": "@jupyter-widgets/base",
            "overflow": null,
            "_model_module_version": "1.2.0",
            "_view_count": null,
            "flex_flow": null,
            "width": null,
            "min_width": null,
            "border": null,
            "align_items": null,
            "bottom": null,
            "_model_module": "@jupyter-widgets/base",
            "top": null,
            "grid_column": null,
            "overflow_y": null,
            "overflow_x": null,
            "grid_auto_flow": null,
            "grid_area": null,
            "grid_template_columns": null,
            "flex": null,
            "_model_name": "LayoutModel",
            "justify_items": null,
            "grid_row": null,
            "max_height": null,
            "align_content": null,
            "visibility": null,
            "align_self": null,
            "height": null,
            "min_height": null,
            "padding": null,
            "grid_auto_rows": null,
            "grid_gap": null,
            "max_width": null,
            "order": null,
            "_view_module_version": "1.2.0",
            "grid_template_areas": null,
            "object_position": null,
            "object_fit": null,
            "grid_auto_columns": null,
            "margin": null,
            "display": null,
            "left": null
          },
          "model_module_version": "1.2.0"
        },
        "4edb337e8a4a46fbb5dbae752120d9cc": {
          "model_module": "@jupyter-widgets/controls",
          "model_name": "FloatProgressModel",
          "state": {
            "_view_name": "ProgressView",
            "style": "IPY_MODEL_4f658908f70f4a7f91f62b2bbcead79e",
            "_dom_classes": [],
            "description": "100%",
            "_model_name": "FloatProgressModel",
            "bar_style": "success",
            "max": 2000,
            "_view_module": "@jupyter-widgets/controls",
            "_model_module_version": "1.5.0",
            "value": 2000,
            "_view_count": null,
            "_view_module_version": "1.5.0",
            "orientation": "horizontal",
            "min": 0,
            "description_tooltip": null,
            "_model_module": "@jupyter-widgets/controls",
            "layout": "IPY_MODEL_fe9bde292ea04216b473faac34665d82"
          },
          "model_module_version": "1.5.0"
        },
        "1f5caead6b984991aa277e9dcc5a7c5b": {
          "model_module": "@jupyter-widgets/controls",
          "model_name": "HTMLModel",
          "state": {
            "_view_name": "HTMLView",
            "style": "IPY_MODEL_28d7194388354cdbbada98b3784a83e2",
            "_dom_classes": [],
            "description": "",
            "_model_name": "HTMLModel",
            "placeholder": "​",
            "_view_module": "@jupyter-widgets/controls",
            "_model_module_version": "1.5.0",
            "value": " 2000/2000 [02:33&lt;00:00, 13.02epoch/s]",
            "_view_count": null,
            "_view_module_version": "1.5.0",
            "description_tooltip": null,
            "_model_module": "@jupyter-widgets/controls",
            "layout": "IPY_MODEL_75554f686d8743ffa26e7b085570aac7"
          },
          "model_module_version": "1.5.0"
        },
        "4f658908f70f4a7f91f62b2bbcead79e": {
          "model_module": "@jupyter-widgets/controls",
          "model_name": "ProgressStyleModel",
          "state": {
            "_view_name": "StyleView",
            "_model_name": "ProgressStyleModel",
            "description_width": "initial",
            "_view_module": "@jupyter-widgets/base",
            "_model_module_version": "1.5.0",
            "_view_count": null,
            "_view_module_version": "1.2.0",
            "bar_color": null,
            "_model_module": "@jupyter-widgets/controls"
          },
          "model_module_version": "1.5.0"
        },
        "fe9bde292ea04216b473faac34665d82": {
          "model_module": "@jupyter-widgets/base",
          "model_name": "LayoutModel",
          "state": {
            "_view_name": "LayoutView",
            "grid_template_rows": null,
            "right": null,
            "justify_content": null,
            "_view_module": "@jupyter-widgets/base",
            "overflow": null,
            "_model_module_version": "1.2.0",
            "_view_count": null,
            "flex_flow": null,
            "width": null,
            "min_width": null,
            "border": null,
            "align_items": null,
            "bottom": null,
            "_model_module": "@jupyter-widgets/base",
            "top": null,
            "grid_column": null,
            "overflow_y": null,
            "overflow_x": null,
            "grid_auto_flow": null,
            "grid_area": null,
            "grid_template_columns": null,
            "flex": null,
            "_model_name": "LayoutModel",
            "justify_items": null,
            "grid_row": null,
            "max_height": null,
            "align_content": null,
            "visibility": null,
            "align_self": null,
            "height": null,
            "min_height": null,
            "padding": null,
            "grid_auto_rows": null,
            "grid_gap": null,
            "max_width": null,
            "order": null,
            "_view_module_version": "1.2.0",
            "grid_template_areas": null,
            "object_position": null,
            "object_fit": null,
            "grid_auto_columns": null,
            "margin": null,
            "display": null,
            "left": null
          },
          "model_module_version": "1.2.0"
        },
        "28d7194388354cdbbada98b3784a83e2": {
          "model_module": "@jupyter-widgets/controls",
          "model_name": "DescriptionStyleModel",
          "state": {
            "_view_name": "StyleView",
            "_model_name": "DescriptionStyleModel",
            "description_width": "",
            "_view_module": "@jupyter-widgets/base",
            "_model_module_version": "1.5.0",
            "_view_count": null,
            "_view_module_version": "1.2.0",
            "_model_module": "@jupyter-widgets/controls"
          },
          "model_module_version": "1.5.0"
        },
        "75554f686d8743ffa26e7b085570aac7": {
          "model_module": "@jupyter-widgets/base",
          "model_name": "LayoutModel",
          "state": {
            "_view_name": "LayoutView",
            "grid_template_rows": null,
            "right": null,
            "justify_content": null,
            "_view_module": "@jupyter-widgets/base",
            "overflow": null,
            "_model_module_version": "1.2.0",
            "_view_count": null,
            "flex_flow": null,
            "width": null,
            "min_width": null,
            "border": null,
            "align_items": null,
            "bottom": null,
            "_model_module": "@jupyter-widgets/base",
            "top": null,
            "grid_column": null,
            "overflow_y": null,
            "overflow_x": null,
            "grid_auto_flow": null,
            "grid_area": null,
            "grid_template_columns": null,
            "flex": null,
            "_model_name": "LayoutModel",
            "justify_items": null,
            "grid_row": null,
            "max_height": null,
            "align_content": null,
            "visibility": null,
            "align_self": null,
            "height": null,
            "min_height": null,
            "padding": null,
            "grid_auto_rows": null,
            "grid_gap": null,
            "max_width": null,
            "order": null,
            "_view_module_version": "1.2.0",
            "grid_template_areas": null,
            "object_position": null,
            "object_fit": null,
            "grid_auto_columns": null,
            "margin": null,
            "display": null,
            "left": null
          },
          "model_module_version": "1.2.0"
        }
      }
    }
  },
  "cells": [
    {
      "cell_type": "code",
      "metadata": {
        "id": "3h_SGZc9SG4x"
      },
      "source": [
        "#SETUP\n",
        "import numpy as np\n",
        "import matplotlib.pyplot as plt\n",
        "import matplotlib.colors\n",
        "import pandas as pd\n",
        "from sklearn.model_selection import train_test_split\n",
        "from sklearn.metrics import accuracy_score, mean_squared_error\n",
        "from tqdm import tqdm_notebook\n",
        "\n",
        "from sklearn.preprocessing import OneHotEncoder\n",
        "from sklearn.datasets import make_blobs"
      ],
      "execution_count": null,
      "outputs": []
    },
    {
      "cell_type": "code",
      "metadata": {
        "id": "D_JZaOVwSjRV"
      },
      "source": [
        "class SigmoidNeuron:\n",
        "\n",
        "  def _init_(self):\n",
        "    self.w = None\n",
        "    self.b = None\n",
        "\n",
        "  def perceptron(self, x):\n",
        "    return np.dot(x, self.w.T) + self.b\n",
        "\n",
        "  def sigmoid(self, x):\n",
        "    return 1.0/(1.0 + np.exp(-x))\n",
        "\n",
        "  def grad_w_mse(self, x, y):\n",
        "    y_pred = self.sigmoid(self.perceptron(x))\n",
        "    return (y_pred - y) * y_pred * (1 - y_pred) * x\n",
        "\n",
        "  def grad_b_mse(self, x, y):\n",
        "    y_pred = self.sigmoid(self.perceptron(x))\n",
        "    return (y_pred - y) * y_pred * (1 - y_pred)\n",
        "\n",
        "  def grad_w_ce(self, x, y):\n",
        "    y_pred = self.sigmoid(self.perceptron(x))\n",
        "    if y == 0:\n",
        "      return y_pred * x\n",
        "    elif y == 1:\n",
        "      return -1 * (1 - y_pred) * x\n",
        "    else:\n",
        "      raise ValueError(\"y should be 0 or 1\")\n",
        "\n",
        "  def grad_b_ce(self, x, y):\n",
        "    y_pred = self.sigmoid(self.perceptron(x))\n",
        "    if y == 0:\n",
        "      return y_pred\n",
        "    elif y == 1:\n",
        "      return -1 * (1 - y_pred)\n",
        "    else:\n",
        "      raise ValueError(\"y should be 0 or 1\")\n",
        "\n",
        "  def fit(self, X, Y, epochs = 1, learning_rate = 1, initialise = True, loss_fn = \"mse\", display_loss = False):\n",
        "\n",
        "    #initialise w, b\n",
        "    if initialise:\n",
        "      self.w = np.random.randn(1, X.shape[1])\n",
        "      self.b = 0\n",
        "\n",
        "    if display_loss:\n",
        "      loss = {}\n",
        "\n",
        "    for i in tqdm_notebook(range(epochs), total = epochs, unit=\"epoch\"):\n",
        "      dw = 0\n",
        "      db = 0\n",
        "      for x, y in zip(X, Y):\n",
        "        if loss_fn == \"mse\":\n",
        "          dw += self.grad_w_mse(x, y)\n",
        "          db += self.grad_b_mse(x, y)\n",
        "        elif loss_fn == \"ce\":\n",
        "          dw += self.grad_w_ce(x, y)\n",
        "          db += self.grad_b_ce(x, y)\n",
        "\n",
        "      m = X.shape[1]\n",
        "      self.w -= learning_rate * dw/m\n",
        "      self.b -= learning_rate * db/m\n",
        "\n",
        "      if display_loss:\n",
        "        Y_pred = self.sigmoid(self.perceptron(X))\n",
        "        if loss_fn == \"mse\":\n",
        "          loss[i] = mean_squared_error(Y, Y_pred)\n",
        "        elif loss_fn == \"ce\":\n",
        "          loss[i] = log_loss(Y, Y_pred)\n",
        "\n",
        "      if display_loss:\n",
        "        plt.plot(np.array(list(loss.values())).astype(float))\n",
        "        plt.xlabel('Epochs')\n",
        "        if loss_fn == \"mse\":\n",
        "          plt.ylabel('Mean Squared Error')\n",
        "        elif loss_fn == \"ce\":\n",
        "          plt.ylabel(\"Log Loss\")\n",
        "\n",
        "  def predict(self, X):\n",
        "    Y_pred = []\n",
        "    for x in X:\n",
        "      y_pred = self.sigmoid(self.perceptron(x))\n",
        "      Y_pred.append(y_pred)\n",
        "    return np.array(Y_pred)"
      ],
      "execution_count": null,
      "outputs": []
    },
    {
      "cell_type": "code",
      "metadata": {
        "id": "BvtGTKV8ZAXb"
      },
      "source": [
        "my_cmap = matplotlib.colors.LinearSegmentedColormap.from_list(\"\", [\"red\", \"yellow\", \"green\"])"
      ],
      "execution_count": null,
      "outputs": []
    },
    {
      "cell_type": "code",
      "metadata": {
        "colab": {
          "base_uri": "https://localhost:8080/"
        },
        "id": "DRgZpGabZMc9",
        "outputId": "e4dbe53b-6619-45de-a79b-7c5a12efcb75"
      },
      "source": [
        "#Generate data\n",
        "data, labels = make_blobs(n_samples = 1000, centers= 4, n_features = 2, random_state = 0)\n",
        "print(data.shape, labels.shape)"
      ],
      "execution_count": null,
      "outputs": [
        {
          "output_type": "stream",
          "text": [
            "(1000, 2) (1000,)\n"
          ],
          "name": "stdout"
        }
      ]
    },
    {
      "cell_type": "code",
      "metadata": {
        "colab": {
          "base_uri": "https://localhost:8080/",
          "height": 265
        },
        "id": "-CblctodcmcX",
        "outputId": "f7592ea6-7a82-46d6-d82b-b827aa50f283"
      },
      "source": [
        "plt.scatter(np.array(data[:, 0]).astype(float), np.array(data[:, 1]).astype(float), c=labels, cmap = my_cmap)#to display xaxis as feature0 and y_axis as feature1\n",
        "plt.show()"
      ],
      "execution_count": null,
      "outputs": [
        {
          "output_type": "display_data",
          "data": {
            "image/png": "[encoded data removed]",
            "text/plain": [
              "<Figure size 432x288 with 1 Axes>"
            ]
          },
          "metadata": {
            "tags": [],
            "needs_background": "light"
          }
        }
      ]
    },
    {
      "cell_type": "code",
      "metadata": {
        "id": "w4y_ySG9cyb6"
      },
      "source": [
        "labels_orig = labels\n",
        "labels = np.mod(labels_orig, 2)#to transform data into having 2 labels"
      ],
      "execution_count": null,
      "outputs": []
    },
    {
      "cell_type": "code",
      "metadata": {
        "colab": {
          "base_uri": "https://localhost:8080/"
        },
        "id": "Wd0gsBPddirq",
        "outputId": "35f641e1-4f66-4ceb-a67c-dbdfa0996f91"
      },
      "source": [
        "X_train, X_val, Y_train, Y_val = train_test_split(data, labels, stratify = labels, random_state=0)\n",
        "print(X_train.shape, X_val.shape)"
      ],
      "execution_count": null,
      "outputs": [
        {
          "output_type": "stream",
          "text": [
            "(750, 2) (250, 2)\n"
          ],
          "name": "stdout"
        }
      ]
    },
    {
      "cell_type": "code",
      "metadata": {
        "colab": {
          "base_uri": "https://localhost:8080/",
          "height": 365,
          "referenced_widgets": [
            "49494fd4e1cd4635a98c22d06cddff74",
            "e2053bdcba76418db3062b213804caa3",
            "fa28c707d7a94e99a0ddf0913bc66af6",
            "ad19386d04c74f01b79057831b62d36d",
            "d0f31f6a703645588b24d3941deb094f",
            "d57d9eb6d6e14285a41f1653a3795d11",
            "1baca26504d9495086639e1c3c85b0a1",
            "363001744686412098a8e1c3e0179c1f"
          ]
        },
        "id": "JrpApOkTdufG",
        "outputId": "6c659f9c-8b4d-414b-bb7f-9096f2e54d0f"
      },
      "source": [
        "#SIGMOID NEURON CLASSIFICATION\n",
        "sn = SigmoidNeuron()\n",
        "sn.fit(X_train, Y_train, epochs = 1000, learning_rate = 0.5, display_loss = True)"
      ],
      "execution_count": null,
      "outputs": [
        {
          "output_type": "stream",
          "text": [
            "/usr/local/lib/python3.7/dist-packages/ipykernel_launcher.py:49: TqdmDeprecationWarning: This function will be removed in tqdm==5.0.0\n",
            "Please use `tqdm.notebook.tqdm` instead of `tqdm.tqdm_notebook`\n"
          ],
          "name": "stderr"
        },
        {
          "output_type": "display_data",
          "data": {
            "application/vnd.jupyter.widget-view+json": {
              "model_id": "49494fd4e1cd4635a98c22d06cddff74",
              "version_minor": 0,
              "version_major": 2
            },
            "text/plain": [
              "HBox(children=(FloatProgress(value=0.0, max=1000.0), HTML(value='')))"
            ]
          },
          "metadata": {
            "tags": []
          }
        },
        {
          "output_type": "stream",
          "text": [
            "\n"
          ],
          "name": "stdout"
        },
        {
          "output_type": "display_data",
          "data": {
            "image/png": "[encoded data removed]",
            "text/plain": [
              "<Figure size 432x288 with 1 Axes>"
            ]
          },
          "metadata": {
            "tags": [],
            "needs_background": "light"
          }
        }
      ]
    },
    {
      "cell_type": "code",
      "metadata": {
        "id": "FtS0rTKgcUV1"
      },
      "source": [
        "Y_pred_train = sn.predict(X_train)\n",
        "Y_pred_binarised_train = (Y_pred_train >= 0.5).astype(\"int\").ravel()\n",
        "Y_pred_val = sn.predict(X_val)\n",
        "Y_pred_binarised_val = (Y_pred_val >= 0.5).astype(\"int\").ravel()\n",
        "accuracy_train = accuracy_score(Y_pred_binarised_train, Y_train)\n",
        "accuracy_val = accuracy_score(Y_pred_binarised_val, Y_val)"
      ],
      "execution_count": null,
      "outputs": []
    },
    {
      "cell_type": "code",
      "metadata": {
        "colab": {
          "base_uri": "https://localhost:8080/"
        },
        "id": "XGQbfzDkfTds",
        "outputId": "71a06d4a-92d9-4ff5-c6ca-f393285d81f2"
      },
      "source": [
        "print(\"Training accuracy\", round(accuracy_train, 2))\n",
        "print(\"Validation accuracy\", round(accuracy_val, 2))"
      ],
      "execution_count": null,
      "outputs": [
        {
          "output_type": "stream",
          "text": [
            "Training accuracy 0.73\n",
            "Validation accuracy 0.71\n"
          ],
          "name": "stdout"
        }
      ]
    },
    {
      "cell_type": "code",
      "metadata": {
        "colab": {
          "base_uri": "https://localhost:8080/",
          "height": 265
        },
        "id": "Urex9qm4ggw_",
        "outputId": "56b67767-5521-4ece-d883-8d11e4580789"
      },
      "source": [
        "plt.scatter(X_train[:,0], X_train[:, 1], c = Y_pred_binarised_train, cmap = my_cmap, s = 15 * (np.abs(Y_pred_binarised_train - Y_train)+ 0.2))\n",
        "plt.show()"
      ],
      "execution_count": null,
      "outputs": [
        {
          "output_type": "display_data",
          "data": {
            "image/png": "[encoded data removed]",
            "text/plain": [
              "<Figure size 432x288 with 1 Axes>"
            ]
          },
          "metadata": {
            "tags": [],
            "needs_background": "light"
          }
        }
      ]
    },
    {
      "cell_type": "code",
      "metadata": {
        "id": "d0nOKMiUhCqq"
      },
      "source": [
        "#FEED FORWARD NETWORK\n",
        "\n",
        "class FirstFFNetwork:\n",
        "\n",
        "  def __init__(self):\n",
        "    self.w1 = np.random.randn()\n",
        "    self.w2 = np.random.randn()\n",
        "    self.w3 = np.random.randn()\n",
        "    self.w4 = np.random.randn()\n",
        "    self.w5 = np.random.randn()\n",
        "    self.w6 = np.random.randn()\n",
        "    self.b1 = 0\n",
        "    self.b2 = 0\n",
        "    self.b3 = 0\n",
        "\n",
        "  def sigmoid(self, x):\n",
        "    return 1.0/(1.0 + np.exp(-x))\n",
        "\n",
        "  def forward_pass(self, x):\n",
        "    self.x1, self.x2 = x\n",
        "    self.a1 = self.w1*self.x1 + self.w2*self.x2 + self.b1\n",
        "    self.h1 = self.sigmoid(self.a1)\n",
        "    self.a2 = self.w3*self.x1 + self.w4*self.x2 + self.b2\n",
        "    self.h2 = self.sigmoid(self.a2)\n",
        "    self.a3 = self.w5*self.h1 + self.w6*self.h2 + self.b3\n",
        "    self.h3 = self.sigmoid(self.a3)\n",
        "    return self.h3\n",
        "\n",
        "  def grad(self, x, y):\n",
        "    self.forward_pass(x)\n",
        "\n",
        "    self.dw5 = (self.h3 - y) * self.h3*(1-self.h3) * self.h1\n",
        "    self.dw6 = (self.h3 - y) * self.h3*(1-self.h3) * self.h2\n",
        "    self.db3 = (self.h3 - y) * self.h3*(1-self.h3)\n",
        "\n",
        "    self.dw1 = (self.h3 - y) * self.h3*(1-self.h3) * self.w5 * self.h1*(1-self.h1) * self.x1\n",
        "    self.dw2 = (self.h3 - y) * self.h3*(1-self.h3) * self.w5 * self.h1*(1-self.h1) * self.x2\n",
        "    self.db1 = (self.h3 - y) * self.h3*(1-self.h3) * self.w5 * self.h1*(1-self.h1)\n",
        "\n",
        "    self.dw3 = (self.h3 - y) * self.h3*(1-self.h3) * self.w6 * self.h2*(1-self.h2) * self.x1\n",
        "    self.dw4 = (self.h3 - y) * self.h3*(1-self.h3) * self.w6 * self.h2*(1-self.h2) * self.x2\n",
        "    self.db2 = (self.h3 - y) * self.h3*(1-self.h3) * self.w6 * self.h1*(1-self.h1)\n",
        "\n",
        "  def fit(self, X, Y, epochs = 1, learning_rate = 1, initialise=True, display_loss=False):\n",
        "    #initialise w, b\n",
        "    if initialise:\n",
        "      self.w1 = np.random.randn()\n",
        "      self.w2 = np.random.randn()\n",
        "      self.w3 = np.random.randn()\n",
        "      self.w4 = np.random.randn()\n",
        "      self.w5 = np.random.randn()\n",
        "      self.w6 = np.random.randn()\n",
        "      self.b1 = 0\n",
        "      self.b2 = 0\n",
        "      self.b3 = 0\n",
        "\n",
        "    if display_loss:\n",
        "      loss = {}\n",
        "\n",
        "    #learning loop\n",
        "    for i in tqdm_notebook (range(epochs), total = epochs, unit = \"epoch\"):\n",
        "      dw1, dw2, dw3, dw4, dw5, dw6, db1, db2, db3 = [0] * 9\n",
        "      for x, y in zip(X, Y):\n",
        "        self.grad(x, y)\n",
        "        dw1 += self.dw1\n",
        "        dw2 += self.dw2\n",
        "        dw3 += self.dw3\n",
        "        dw4 += self.dw4\n",
        "        dw5 += self.dw5\n",
        "        dw6 += self.dw6\n",
        "        db1 += self.db1\n",
        "        db2 += self.db2\n",
        "        db3 += self.db3\n",
        "\n",
        "      m = X.shape[1]\n",
        "      self.w1 -= learning_rate * dw1 / m\n",
        "      self.w2 -= learning_rate * dw2 / m\n",
        "      self.w3 -= learning_rate * dw3 / m\n",
        "      self.w4 -= learning_rate * dw4 / m\n",
        "      self.w5 -= learning_rate * dw5 / m\n",
        "      self.w6 -= learning_rate * dw6 / m\n",
        "      self.b1 -= learning_rate * db1 / m\n",
        "      self.b2 -= learning_rate * db2 / m\n",
        "      self.b3 -= learning_rate * db3 / m\n",
        "\n",
        "      if display_loss:\n",
        "        Y_pred = self.predict(X)\n",
        "        loss[i] = mean_squared_error(Y_pred, Y)\n",
        "\n",
        "    if display_loss:\n",
        "      plt.plot(np.array(list(loss.values())).astype(float))\n",
        "      plt.xlabel('Epochs')\n",
        "      plt.ylabel('Mean Squared Error')\n",
        "\n",
        "  def predict(self, X):\n",
        "    Y_pred = []\n",
        "    for x in X:\n",
        "      y_pred = self.forward_pass(x)\n",
        "      Y_pred.append(y_pred)\n",
        "    return np.array(Y_pred)"
      ],
      "execution_count": null,
      "outputs": []
    },
    {
      "cell_type": "markdown",
      "metadata": {
        "id": "u0zYCurqSCb4"
      },
      "source": [
        "# **FF Network Classification**"
      ]
    },
    {
      "cell_type": "code",
      "metadata": {
        "colab": {
          "base_uri": "https://localhost:8080/",
          "height": 362,
          "referenced_widgets": [
            "4a938530822e49d0b43c1bfc8b620d66",
            "18032888d4d64f78b7c504c1c404a428",
            "b3e736ebac0b4850ba36a559db41b299",
            "33e39fff437c4228a8f923f088e811cf",
            "9d30ef0dc2e84ca6944b41caaa496ac0",
            "7a59a55b6639438fb0428f9a12270e66",
            "f57621444d234c69b71ce45288d25b18",
            "e76839a6ceba4196a652a45959d1dd57"
          ]
        },
        "id": "x9EoVJFoSBs4",
        "outputId": "cc40c4a8-60ff-4d78-82d7-de0c19100a23"
      },
      "source": [
        "ffn = FirstFFNetwork()\n",
        "ffn.fit(X_train, Y_train, epochs=2000, learning_rate= 0.01, display_loss = True)"
      ],
      "execution_count": null,
      "outputs": [
        {
          "output_type": "stream",
          "text": [
            "/usr/local/lib/python3.7/dist-packages/ipykernel_launcher.py:61: TqdmDeprecationWarning: This function will be removed in tqdm==5.0.0\n",
            "Please use `tqdm.notebook.tqdm` instead of `tqdm.tqdm_notebook`\n"
          ],
          "name": "stderr"
        },
        {
          "output_type": "display_data",
          "data": {
            "application/vnd.jupyter.widget-view+json": {
              "model_id": "4a938530822e49d0b43c1bfc8b620d66",
              "version_minor": 0,
              "version_major": 2
            },
            "text/plain": [
              "HBox(children=(FloatProgress(value=0.0, max=2000.0), HTML(value='')))"
            ]
          },
          "metadata": {
            "tags": []
          }
        },
        {
          "output_type": "stream",
          "text": [
            "\n"
          ],
          "name": "stdout"
        },
        {
          "output_type": "display_data",
          "data": {
            "image/png": "[encoded data removed]",
            "text/plain": [
              "<Figure size 432x288 with 1 Axes>"
            ]
          },
          "metadata": {
            "tags": [],
            "needs_background": "light"
          }
        }
      ]
    },
    {
      "cell_type": "code",
      "metadata": {
        "colab": {
          "base_uri": "https://localhost:8080/"
        },
        "id": "TYbJnPtkUwwR",
        "outputId": "d515cd60-724e-46d1-8e89-d501d18ff3e8"
      },
      "source": [
        "Y_pred_train = ffn.predict(X_train)\n",
        "Y_pred_binarised_train = (Y_pred_train >= 0.5).astype(\"int\").ravel()\n",
        "Y_pred_val = ffn.predict(X_val)\n",
        "Y_pred_binarised_val = (Y_pred_val >= 0.5).astype(\"int\").ravel()\n",
        "accuracy_train = accuracy_score(Y_pred_binarised_train, Y_train)\n",
        "accuracy_val = accuracy_score(Y_pred_binarised_val, Y_val)\n",
        "\n",
        "print(\"Training accuracy\", round(accuracy_train, 2))\n",
        "print(\"Validation accuracy\", round(accuracy_val, 2))"
      ],
      "execution_count": null,
      "outputs": [
        {
          "output_type": "stream",
          "text": [
            "Training accuracy 0.92\n",
            "Validation accuracy 0.92\n"
          ],
          "name": "stdout"
        }
      ]
    },
    {
      "cell_type": "code",
      "metadata": {
        "colab": {
          "base_uri": "https://localhost:8080/",
          "height": 265
        },
        "id": "km8mVJZKVVD4",
        "outputId": "c12582f5-a1ce-49c5-a58f-fdab1d8f6fd2"
      },
      "source": [
        "plt.scatter(X_train[:,0], X_train[:, 1], c = Y_pred_binarised_train, cmap = my_cmap, s = 15 * (np.abs(Y_pred_binarised_train - Y_train)+ 0.2))\n",
        "plt.show()"
      ],
      "execution_count": null,
      "outputs": [
        {
          "output_type": "display_data",
          "data": {
            "image/png": "[encoded data removed]",
            "text/plain": [
              "<Figure size 432x288 with 1 Axes>"
            ]
          },
          "metadata": {
            "tags": [],
            "needs_background": "light"
          }
        }
      ]
    },
    {
      "cell_type": "markdown",
      "metadata": {
        "id": "mJ8dE__Djypi"
      },
      "source": [
        "# **Feed Forward Sigmoid Neuron Network**"
      ]
    },
    {
      "cell_type": "code",
      "metadata": {
        "id": "lUGXaciQdNYS"
      },
      "source": [
        "#Feed Forward Sigmoid Neuron Network\n",
        "\n",
        "class FFSNNetwork:\n",
        "\n",
        "  def __init__(self, n_inputs, hidden_sizes=[2]):\n",
        "    self.nx = n_inputs\n",
        "    self.ny = 1\n",
        "    self.nh = len(hidden_sizes)\n",
        "    self.sizes = [self.nx] + hidden_sizes + [self.ny]\n",
        "\n",
        "    self.W = {}\n",
        "    self.B = {}\n",
        "    for i in range(self.nh+1):\n",
        "      self.W[i+1] = np.random.randn(self.sizes[i], self.sizes[i+1])\n",
        "      self.B[i+1] = np.zeros((1, self.sizes[i+1]))\n",
        "\n",
        "  def sigmoid(self, x):\n",
        "    return 1.0/(1.0 + np.exp(-x))\n",
        "\n",
        "  def forward_pass(self, x):\n",
        "    self.A = {}\n",
        "    self.H = {}\n",
        "    self.H[0] = x.reshape(1, -1)\n",
        "    for i in range(self.nh+1):\n",
        "      self.A[i+1] = np.matmul(self.H[i], self.W[i+1]) + self.B[i+1]\n",
        "      self.H[i+1] = self.sigmoid(self.A[i+1])\n",
        "    return self.H[self.nh+1]\n",
        "\n",
        "  def grad_sigmoid(self, x):\n",
        "    return x*(1-x)\n",
        "\n",
        "  def grad(self, x, y):\n",
        "    self.forward_pass(x)\n",
        "    self.dW = {}\n",
        "    self.dB = {}\n",
        "    self.dH = {}\n",
        "    self.dA = {}\n",
        "    L = self.nh + 1\n",
        "    self.dA[L] = (self.H[L] - y)\n",
        "    for k in range(L, 0, -1):\n",
        "      self.dW[k] = np.matmul(self.H[k-1].T, self.dA[k])\n",
        "      self.dB[k] = self.dA[k]\n",
        "      self.dH[k-1] = np.matmul(self.dA[k], self.W[k].T)\n",
        "      self.dA[k-1] = np.multiply(self.dH[k-1], self.grad_sigmoid(self.H[k-1]))\n",
        "\n",
        "  def fit(self, X, Y, epochs=1, learning_rate=1, initialise=True, display_loss=False):\n",
        "\n",
        "    # initialise w, b\n",
        "    if initialise:\n",
        "      for i in range(self.nh+1):\n",
        "        self.W[i+1] = np.random.randn(self.sizes[i], self.sizes[i+1])\n",
        "        self.B[i+1] = np.zeros((1, self.sizes[i+1]))\n",
        "\n",
        "    if display_loss:\n",
        "      loss = {}\n",
        "\n",
        "    for e in tqdm_notebook(range(epochs), total=epochs, unit=\"epoch\"):\n",
        "      dW = {}\n",
        "      dB = {}\n",
        "      for i in range(self.nh+1):\n",
        "        dW[i+1] = np.zeros((self.sizes[i], self.sizes[i+1]))\n",
        "        dB[i+1] = np.zeros((1, self.sizes[i+1]))\n",
        "      for x, y in zip(X, Y):\n",
        "        self.grad(x, y)\n",
        "        for i in range(self.nh+1):\n",
        "          dW[i+1] += self.dW[i+1]\n",
        "          dB[i+1] += self.dB[i+1]\n",
        "\n",
        "      m = X.shape[1]\n",
        "      for i in range(self.nh+1):\n",
        "        self.W[i+1] -= learning_rate * dW[i+1] / m\n",
        "        self.B[i+1] -= learning_rate * dB[i+1] / m\n",
        "\n",
        "      if display_loss:\n",
        "        Y_pred = self.predict(X)\n",
        "        loss[e] = mean_squared_error(Y_pred, Y)\n",
        "\n",
        "    if display_loss:\n",
        "      plt.plot(np.array(list(loss.values())).astype(float))\n",
        "      plt.xlabel('Epochs')\n",
        "      plt.ylabel('Mean Squared Error')\n",
        "      plt.show()\n",
        "\n",
        "  def predict(self, X):\n",
        "    Y_pred = []\n",
        "    for x in X:\n",
        "      y_pred = self.forward_pass(x)\n",
        "      Y_pred.append(y_pred)\n",
        "    return np.array(Y_pred).squeeze()"
      ],
      "execution_count": null,
      "outputs": []
    },
    {
      "cell_type": "code",
      "metadata": {
        "colab": {
          "base_uri": "https://localhost:8080/",
          "height": 362,
          "referenced_widgets": [
            "96d2c03fe4de4ce3b597a4a9debb1e93",
            "a07f764787ff48ef9120dc0932a860d7",
            "ebbd28e198d6407db229e28f7ba163da",
            "03e5ce364d3b4853bd40f4fc41e9652d",
            "51d28012586144f7be702193b900d139",
            "b40156e05776422c86d56034c3259b6f",
            "52aa87805212452d8e4b2db87425fc70",
            "3ae2fa519e4d4760abb289c1e8f94bf2"
          ]
        },
        "id": "Obb_ifuJetGM",
        "outputId": "1487436d-46b6-4c4b-d9b4-30f95456e979"
      },
      "source": [
        "ffsnn = FFSNNetwork(2, [2, 3])\n",
        "ffsnn.fit(X_train, Y_train, epochs=1000, learning_rate=.001, display_loss=True)"
      ],
      "execution_count": null,
      "outputs": [
        {
          "output_type": "stream",
          "text": [
            "/usr/local/lib/python3.7/dist-packages/ipykernel_launcher.py:57: TqdmDeprecationWarning: This function will be removed in tqdm==5.0.0\n",
            "Please use `tqdm.notebook.tqdm` instead of `tqdm.tqdm_notebook`\n"
          ],
          "name": "stderr"
        },
        {
          "output_type": "display_data",
          "data": {
            "application/vnd.jupyter.widget-view+json": {
              "model_id": "96d2c03fe4de4ce3b597a4a9debb1e93",
              "version_minor": 0,
              "version_major": 2
            },
            "text/plain": [
              "HBox(children=(FloatProgress(value=0.0, max=1000.0), HTML(value='')))"
            ]
          },
          "metadata": {
            "tags": []
          }
        },
        {
          "output_type": "stream",
          "text": [
            "\n"
          ],
          "name": "stdout"
        },
        {
          "output_type": "display_data",
          "data": {
            "image/png": "[encoded data removed]",
            "text/plain": [
              "<Figure size 432x288 with 1 Axes>"
            ]
          },
          "metadata": {
            "tags": [],
            "needs_background": "light"
          }
        }
      ]
    },
    {
      "cell_type": "code",
      "metadata": {
        "colab": {
          "base_uri": "https://localhost:8080/"
        },
        "id": "kGNsH8nsjS3J",
        "outputId": "46b78016-8c2f-47b0-9a11-5bbb4e81fce3"
      },
      "source": [
        "Y_pred_train = ffsnn.predict(X_train)\n",
        "Y_pred_binarised_train = (Y_pred_train >= 0.5).astype(\"int\").ravel()\n",
        "Y_pred_val = ffsnn.predict(X_val)\n",
        "Y_pred_binarised_val = (Y_pred_val >= 0.5).astype(\"int\").ravel()\n",
        "accuracy_train = accuracy_score(Y_pred_binarised_train, Y_train)\n",
        "accuracy_val = accuracy_score(Y_pred_binarised_val, Y_val)\n",
        "\n",
        "print(\"Training accuracy\", round(accuracy_train, 2))\n",
        "print(\"Validation accuracy\", round(accuracy_val, 2))"
      ],
      "execution_count": null,
      "outputs": [
        {
          "output_type": "stream",
          "text": [
            "Training accuracy 0.97\n",
            "Validation accuracy 0.94\n"
          ],
          "name": "stdout"
        }
      ]
    },
    {
      "cell_type": "code",
      "metadata": {
        "colab": {
          "base_uri": "https://localhost:8080/",
          "height": 265
        },
        "id": "yHZEXqXFjdzC",
        "outputId": "996e1ddd-584e-465a-e7c9-d76fdeb4214f"
      },
      "source": [
        "plt.scatter(X_train[:,0], X_train[:,1], c=Y_pred_binarised_train, cmap=my_cmap, s=15*(np.abs(Y_pred_binarised_train-Y_train)+.2))\n",
        "plt.show()"
      ],
      "execution_count": null,
      "outputs": [
        {
          "output_type": "display_data",
          "data": {
            "image/png": "[encoded data removed]",
            "text/plain": [
              "<Figure size 432x288 with 1 Axes>"
            ]
          },
          "metadata": {
            "tags": [],
            "needs_background": "light"
          }
        }
      ]
    },
    {
      "cell_type": "markdown",
      "metadata": {
        "id": "FCaafcfDj7_z"
      },
      "source": [
        "# **Multi-Class Classification**"
      ]
    },
    {
      "cell_type": "code",
      "metadata": {
        "id": "FWyl_48jkBAk"
      },
      "source": [
        "class FFSN_MultiClass:\n",
        "\n",
        "  def __init__(self, n_inputs, n_outputs, hidden_sizes=[3]):\n",
        "    self.nx = n_inputs\n",
        "    self.ny = n_outputs\n",
        "    self.nh = len(hidden_sizes)\n",
        "    self.sizes = [self.nx] + hidden_sizes + [self.ny]\n",
        "\n",
        "    self.W = {}\n",
        "    self.B = {}\n",
        "    for i in range(self.nh+1):\n",
        "      self.W[i+1] = np.random.randn(self.sizes[i], self.sizes[i+1])\n",
        "      self.B[i+1] = np.zeros((1, self.sizes[i+1]))\n",
        "\n",
        "  def sigmoid(self, x):\n",
        "    return 1.0/(1.0 + np.exp(-x))\n",
        "\n",
        "  def softmax(self, x):\n",
        "    exps = np.exp(x)\n",
        "    return exps / np.sum(exps)\n",
        "\n",
        "  def forward_pass(self, x):\n",
        "    self.A = {}\n",
        "    self.H = {}\n",
        "    self.H[0] = x.reshape(1, -1)\n",
        "    for i in range(self.nh):\n",
        "      self.A[i+1] = np.matmul(self.H[i], self.W[i+1]) + self.B[i+1]\n",
        "      self.H[i+1] = self.sigmoid(self.A[i+1])\n",
        "    self.A[self.nh+1] = np.matmul(self.H[self.nh], self.W[self.nh+1]) + self.B[self.nh+1]\n",
        "    self.H[self.nh+1] = self.softmax(self.A[self.nh+1])\n",
        "    return self.H[self.nh+1]\n",
        "\n",
        "  def predict(self, X):\n",
        "    Y_pred = []\n",
        "    for x in X:\n",
        "      y_pred = self.forward_pass(x)\n",
        "      Y_pred.append(y_pred)\n",
        "    return np.array(Y_pred).squeeze()\n",
        "\n",
        "  def grad_sigmoid(self, x):\n",
        "    return x*(1-x)\n",
        "\n",
        "  def cross_entropy(self,label,pred):\n",
        "    yl=np.multiply(pred,label)\n",
        "    yl=yl[yl!=0]\n",
        "    yl=-np.log(yl)\n",
        "    yl=np.mean(yl)\n",
        "    return yl\n",
        "\n",
        "  def grad(self, x, y):\n",
        "    self.forward_pass(x)\n",
        "    self.dW = {}\n",
        "    self.dB = {}\n",
        "    self.dH = {}\n",
        "    self.dA = {}\n",
        "    L = self.nh + 1\n",
        "    self.dA[L] = (self.H[L] - y)\n",
        "    for k in range(L, 0, -1):\n",
        "      self.dW[k] = np.matmul(self.H[k-1].T, self.dA[k])\n",
        "      self.dB[k] = self.dA[k]\n",
        "      self.dH[k-1] = np.matmul(self.dA[k], self.W[k].T)\n",
        "      self.dA[k-1] = np.multiply(self.dH[k-1], self.grad_sigmoid(self.H[k-1]))\n",
        "\n",
        "  def fit(self, X, Y, epochs=100, initialize='True', learning_rate=0.01, display_loss=False):\n",
        "\n",
        "    if display_loss:\n",
        "      loss = {}\n",
        "\n",
        "    if initialize:\n",
        "      for i in range(self.nh+1):\n",
        "        self.W[i+1] = np.random.randn(self.sizes[i], self.sizes[i+1])\n",
        "        self.B[i+1] = np.zeros((1, self.sizes[i+1]))\n",
        "\n",
        "    for epoch in tqdm_notebook(range(epochs), total=epochs, unit=\"epoch\"):\n",
        "      dW = {}\n",
        "      dB = {}\n",
        "      for i in range(self.nh+1):\n",
        "        dW[i+1] = np.zeros((self.sizes[i], self.sizes[i+1]))\n",
        "        dB[i+1] = np.zeros((1, self.sizes[i+1]))\n",
        "      for x, y in zip(X, Y):\n",
        "        self.grad(x, y)\n",
        "        for i in range(self.nh+1):\n",
        "          dW[i+1] += self.dW[i+1]\n",
        "          dB[i+1] += self.dB[i+1]\n",
        "\n",
        "      m = X.shape[1]\n",
        "      for i in range(self.nh+1):\n",
        "        self.W[i+1] -= learning_rate * (dW[i+1]/m)\n",
        "        self.B[i+1] -= learning_rate * (dB[i+1]/m)\n",
        "\n",
        "      if display_loss:\n",
        "        Y_pred = self.predict(X)\n",
        "        loss[epoch] = self.cross_entropy(Y, Y_pred)\n",
        "\n",
        "    if display_loss:\n",
        "      plt.plot(np.array(list(loss.values())).astype(float))\n",
        "      plt.xlabel('Epochs')\n",
        "      plt.ylabel('CE')\n",
        "      plt.show()"
      ],
      "execution_count": null,
      "outputs": []
    },
    {
      "cell_type": "code",
      "metadata": {
        "colab": {
          "base_uri": "https://localhost:8080/"
        },
        "id": "Ws51PQtmki5T",
        "outputId": "4872c7fa-e9cf-40cf-ea6a-f742ba035d51"
      },
      "source": [
        "X_train, X_val, Y_train, Y_val = train_test_split(data, labels_orig, stratify=labels_orig, random_state=0)\n",
        "print(X_train.shape, X_val.shape, labels_orig.shape)"
      ],
      "execution_count": null,
      "outputs": [
        {
          "output_type": "stream",
          "text": [
            "(750, 2) (250, 2) (1000,)\n"
          ],
          "name": "stdout"
        }
      ]
    },
    {
      "cell_type": "code",
      "metadata": {
        "colab": {
          "base_uri": "https://localhost:8080/"
        },
        "id": "0MQAwyYTklk7",
        "outputId": "584d85ec-9b0c-4a5b-dd1e-fb1e117574dc"
      },
      "source": [
        "enc = OneHotEncoder()\n",
        "# 0 -> (1, 0, 0, 0), 1 -> (0, 1, 0, 0), 2 -> (0, 0, 1, 0), 3 -> (0, 0, 0, 1)\n",
        "y_OH_train = enc.fit_transform(np.expand_dims(Y_train,1)).toarray()\n",
        "y_OH_val = enc.fit_transform(np.expand_dims(Y_val,1)).toarray()\n",
        "print(y_OH_train.shape, y_OH_val.shape)"
      ],
      "execution_count": null,
      "outputs": [
        {
          "output_type": "stream",
          "text": [
            "(750, 4) (250, 4)\n"
          ],
          "name": "stdout"
        }
      ]
    },
    {
      "cell_type": "code",
      "metadata": {
        "colab": {
          "base_uri": "https://localhost:8080/",
          "height": 366,
          "referenced_widgets": [
            "512777acbebd4763b68055e06105e778",
            "73e692ad368844a58d835a949485a7c2",
            "4edb337e8a4a46fbb5dbae752120d9cc",
            "1f5caead6b984991aa277e9dcc5a7c5b",
            "4f658908f70f4a7f91f62b2bbcead79e",
            "fe9bde292ea04216b473faac34665d82",
            "28d7194388354cdbbada98b3784a83e2",
            "75554f686d8743ffa26e7b085570aac7"
          ]
        },
        "id": "Ynp5irIqknAk",
        "outputId": "7afa278c-125b-4b2b-ccea-394b16fc4ed2"
      },
      "source": [
        "ffsn_multi = FFSN_MultiClass(2,4,[2,3])\n",
        "ffsn_multi.fit(X_train,y_OH_train,epochs=2000,learning_rate=.005,display_loss=True)"
      ],
      "execution_count": null,
      "outputs": [
        {
          "output_type": "stream",
          "text": [
            "/usr/local/lib/python3.7/dist-packages/ipykernel_launcher.py:74: TqdmDeprecationWarning: This function will be removed in tqdm==5.0.0\n",
            "Please use `tqdm.notebook.tqdm` instead of `tqdm.tqdm_notebook`\n"
          ],
          "name": "stderr"
        },
        {
          "output_type": "display_data",
          "data": {
            "application/vnd.jupyter.widget-view+json": {
              "model_id": "512777acbebd4763b68055e06105e778",
              "version_minor": 0,
              "version_major": 2
            },
            "text/plain": [
              "HBox(children=(FloatProgress(value=0.0, max=2000.0), HTML(value='')))"
            ]
          },
          "metadata": {
            "tags": []
          }
        },
        {
          "output_type": "stream",
          "text": [
            "\n"
          ],
          "name": "stdout"
        },
        {
          "output_type": "display_data",
          "data": {
            "image/png": "[encoded data removed]",
            "text/plain": [
              "<Figure size 432x288 with 1 Axes>"
            ]
          },
          "metadata": {
            "tags": [],
            "needs_background": "light"
          }
        }
      ]
    },
    {
      "cell_type": "code",
      "metadata": {
        "colab": {
          "base_uri": "https://localhost:8080/"
        },
        "id": "ZezgzaHPkvL8",
        "outputId": "8649d578-d917-4fc0-8c96-3d01b43e3686"
      },
      "source": [
        "Y_pred_train = ffsn_multi.predict(X_train)\n",
        "Y_pred_train = np.argmax(Y_pred_train,1)\n",
        "\n",
        "Y_pred_val = ffsn_multi.predict(X_val)\n",
        "Y_pred_val = np.argmax(Y_pred_val,1)\n",
        "\n",
        "accuracy_train = accuracy_score(Y_pred_train, Y_train)\n",
        "accuracy_val = accuracy_score(Y_pred_val, Y_val)\n",
        "\n",
        "print(\"Training accuracy\", round(accuracy_train, 2))\n",
        "print(\"Validation accuracy\", round(accuracy_val, 2))"
      ],
      "execution_count": null,
      "outputs": [
        {
          "output_type": "stream",
          "text": [
            "Training accuracy 0.87\n",
            "Validation accuracy 0.88\n"
          ],
          "name": "stdout"
        }
      ]
    },
    {
      "cell_type": "code",
      "metadata": {
        "colab": {
          "base_uri": "https://localhost:8080/",
          "height": 265
        },
        "id": "LrC5-0b9kyAC",
        "outputId": "abf1d13a-c14e-46d7-9542-7155d8c131af"
      },
      "source": [
        "plt.scatter(X_train[:,0], X_train[:,1], c=Y_pred_train, cmap=my_cmap, s=15*(np.abs(np.sign(Y_pred_train-Y_train))+.1))\n",
        "plt.show()"
      ],
      "execution_count": null,
      "outputs": [
        {
          "output_type": "display_data",
          "data": {
            "image/png": "[encoded data removed]",
            "text/plain": [
              "<Figure size 432x288 with 1 Axes>"
            ]
          },
          "metadata": {
            "tags": [],
            "needs_background": "light"
          }
        }
      ]
    }
  ]
}