{
  "nbformat": 4,
  "nbformat_minor": 0,
  "metadata": {
    "colab": {
      "provenance": [],
      "mount_file_id": "1u5cPQqzL74frDgU0_SlPmakc_pa3hB6p",
      "authorship_tag": "ABX9TyODuizyuYEoUOwcRHxBvuAT"
    },
    "kernelspec": {
      "name": "python3",
      "display_name": "Python 3"
    },
    "language_info": {
      "name": "python"
    }
  },
  "cells": [
    {
      "cell_type": "markdown",
      "source": [
        "# **Imports**"
      ],
      "metadata": {
        "id": "jKpey-9RnWZJ"
      }
    },
    {
      "cell_type": "code",
      "source": [
        "import pandas as pd\n",
        "import numpy as np\n",
        "from sklearn.metrics import classification_report, confusion_matrix, accuracy_score\n",
        "from sklearn.metrics import matthews_corrcoef as mcc\n",
        "from sklearn.metrics import roc_auc_score\n",
        "from sklearn.model_selection import train_test_split\n",
        "from sklearn.ensemble import RandomForestClassifier\n",
        "from imblearn.over_sampling import SMOTE\n",
        "from imblearn.combine import SMOTETomek\n",
        "!pip install catboost\n",
        "import catboost\n",
        "import matplotlib.pyplot as plt\n",
        "import lightgbm as lgb\n",
        "import warnings\n",
        "warnings.filterwarnings('ignore')\n",
        "from sklearn.preprocessing import MinMaxScaler\n",
        "from sklearn.preprocessing import StandardScaler\n",
        "from sklearn.preprocessing import LabelEncoder"
      ],
      "metadata": {
        "colab": {
          "base_uri": "https://localhost:8080/"
        },
        "id": "W-0vNoq0NhW5",
        "outputId": "a2e118a6-fb7b-4a1c-94b7-28983c3c2744"
      },
      "execution_count": null,
      "outputs": [
        {
          "output_type": "stream",
          "name": "stdout",
          "text": [
            "Looking in indexes: https://pypi.org/simple, https://us-python.pkg.dev/colab-wheels/public/simple/\n",
            "Collecting catboost\n",
            "  Downloading catboost-1.0.6-cp37-none-manylinux1_x86_64.whl (76.6 MB)\n",
            "\u001b[K     |████████████████████████████████| 76.6 MB 65.4 MB/s \n",
            "\u001b[?25hRequirement already satisfied: numpy>=1.16.0 in /usr/local/lib/python3.7/dist-packages (from catboost) (1.21.6)\n",
            "Requirement already satisfied: six in /usr/local/lib/python3.7/dist-packages (from catboost) (1.15.0)\n",
            "Requirement already satisfied: graphviz in /usr/local/lib/python3.7/dist-packages (from catboost) (0.10.1)\n",
            "Requirement already satisfied: scipy in /usr/local/lib/python3.7/dist-packages (from catboost) (1.4.1)\n",
            "Requirement already satisfied: matplotlib in /usr/local/lib/python3.7/dist-packages (from catboost) (3.2.2)\n",
            "Requirement already satisfied: pandas>=0.24.0 in /usr/local/lib/python3.7/dist-packages (from catboost) (1.3.5)\n",
            "Requirement already satisfied: plotly in /usr/local/lib/python3.7/dist-packages (from catboost) (5.5.0)\n",
            "Requirement already satisfied: python-dateutil>=2.7.3 in /usr/local/lib/python3.7/dist-packages (from pandas>=0.24.0->catboost) (2.8.2)\n",
            "Requirement already satisfied: pytz>=2017.3 in /usr/local/lib/python3.7/dist-packages (from pandas>=0.24.0->catboost) (2022.1)\n",
            "Requirement already satisfied: pyparsing!=2.0.4,!=2.1.2,!=2.1.6,>=2.0.1 in /usr/local/lib/python3.7/dist-packages (from matplotlib->catboost) (3.0.9)\n",
            "Requirement already satisfied: cycler>=0.10 in /usr/local/lib/python3.7/dist-packages (from matplotlib->catboost) (0.11.0)\n",
            "Requirement already satisfied: kiwisolver>=1.0.1 in /usr/local/lib/python3.7/dist-packages (from matplotlib->catboost) (1.4.3)\n",
            "Requirement already satisfied: typing-extensions in /usr/local/lib/python3.7/dist-packages (from kiwisolver>=1.0.1->matplotlib->catboost) (4.1.1)\n",
            "Requirement already satisfied: tenacity>=6.2.0 in /usr/local/lib/python3.7/dist-packages (from plotly->catboost) (8.0.1)\n",
            "Installing collected packages: catboost\n",
            "Successfully installed catboost-1.0.6\n"
          ]
        }
      ]
    },
    {
      "cell_type": "markdown",
      "source": [
        "# **Reading input data**"
      ],
      "metadata": {
        "id": "_i6fKK42nZfE"
      }
    },
    {
      "cell_type": "code",
      "execution_count": null,
      "metadata": {
        "id": "RNkc5qZjNBba"
      },
      "outputs": [],
      "source": [
        "df_main = pd.read_csv('/content/drive/MyDrive/Dataset_Open_Items_EN.csv', sep=\";\")\n",
        "df = df_main.copy()"
      ]
    },
    {
      "cell_type": "code",
      "source": [
        "df_main"
      ],
      "metadata": {
        "colab": {
          "base_uri": "https://localhost:8080/",
          "height": 500
        },
        "id": "MrX5dzCFfRPM",
        "outputId": "3e3b3283-3966-455a-b0c8-b78351d88c71"
      },
      "execution_count": null,
      "outputs": [
        {
          "output_type": "execute_result",
          "data": {
            "text/plain": [
              "       amount  Payment_period  due_date_month-end Payment_delay  N_items  \\\n",
              "0      -0.074           0.141               1.494             0    1.125   \n",
              "1      -0.287           0.141               1.494             0    1.125   \n",
              "2      -0.259           0.141              -0.669             0    1.125   \n",
              "3      -0.310           0.141              -0.669             0    1.125   \n",
              "4       0.302           0.141              -0.669             0    1.125   \n",
              "...       ...             ...                 ...           ...      ...   \n",
              "39995  -0.127          -0.403              -0.669             0   -0.525   \n",
              "39996  -0.127          -0.403              -0.669             0   -0.521   \n",
              "39997  -0.059           0.243              -0.669             0   -0.529   \n",
              "39998  -0.203           0.311              -0.669             0   -0.525   \n",
              "39999  -0.207          -0.369               1.494             0   -0.525   \n",
              "\n",
              "       N_items_late  N_items_on_time  N_items_late_to_on_time  \\\n",
              "0             0.005            1.751                   -0.140   \n",
              "1             0.005            1.751                   -0.140   \n",
              "2             0.005            1.751                   -0.140   \n",
              "3             0.005            1.751                   -0.140   \n",
              "4             0.005            1.751                   -0.140   \n",
              "...             ...              ...                      ...   \n",
              "39995        -0.400           -0.489                   -0.109   \n",
              "39996        -0.400           -0.483                   -0.127   \n",
              "39997        -0.408           -0.489                   -0.146   \n",
              "39998        -0.408           -0.483                   -0.146   \n",
              "39999        -0.408           -0.483                   -0.146   \n",
              "\n",
              "       N_items_running  N_items_running_late  ...  \\\n",
              "0               -0.024                -0.248  ...   \n",
              "1               -0.024                -0.248  ...   \n",
              "2                0.408                -0.248  ...   \n",
              "3                0.408                -0.248  ...   \n",
              "4                0.840                -0.248  ...   \n",
              "...                ...                   ...  ...   \n",
              "39995           -0.455                -0.248  ...   \n",
              "39996           -0.455                -0.248  ...   \n",
              "39997           -0.455                -0.248  ...   \n",
              "39998           -0.455                -0.248  ...   \n",
              "39999           -0.455                -0.248  ...   \n",
              "\n",
              "       headquarter_Nordrhein-Westfalen  headquarter_Rheinland-Pfalz  \\\n",
              "0                               -0.789                        -0.14   \n",
              "1                               -0.789                        -0.14   \n",
              "2                               -0.789                        -0.14   \n",
              "3                               -0.789                        -0.14   \n",
              "4                               -0.789                        -0.14   \n",
              "...                                ...                          ...   \n",
              "39995                            1.267                        -0.14   \n",
              "39996                            1.267                        -0.14   \n",
              "39997                           -0.789                        -0.14   \n",
              "39998                           -0.789                        -0.14   \n",
              "39999                           -0.789                        -0.14   \n",
              "\n",
              "       headquarter_Sachsen  headquarter_Sachsen-Anhalt  \\\n",
              "0                   -0.173                       -0.11   \n",
              "1                   -0.173                       -0.11   \n",
              "2                   -0.173                       -0.11   \n",
              "3                   -0.173                       -0.11   \n",
              "4                   -0.173                       -0.11   \n",
              "...                    ...                         ...   \n",
              "39995               -0.173                       -0.11   \n",
              "39996               -0.173                       -0.11   \n",
              "39997                5.788                       -0.11   \n",
              "39998                5.788                       -0.11   \n",
              "39999               -0.173                       -0.11   \n",
              "\n",
              "       headquarter_Schleswig-Holstein  headquarter_Thueringen  headquarter_-1  \\\n",
              "0                              -0.181                  -0.151          -0.068   \n",
              "1                              -0.181                  -0.151          -0.068   \n",
              "2                              -0.181                  -0.151          -0.068   \n",
              "3                              -0.181                  -0.151          -0.068   \n",
              "4                              -0.181                  -0.151          -0.068   \n",
              "...                               ...                     ...             ...   \n",
              "39995                          -0.181                  -0.151          -0.068   \n",
              "39996                          -0.181                  -0.151          -0.068   \n",
              "39997                          -0.181                  -0.151          -0.068   \n",
              "39998                          -0.181                  -0.151          -0.068   \n",
              "39999                           5.517                  -0.151          -0.068   \n",
              "\n",
              "       headquarter_Brandenburg  headquarter_Mecklenburg-Vorpommern  \\\n",
              "0                       -0.109                               -0.09   \n",
              "1                       -0.109                               -0.09   \n",
              "2                       -0.109                               -0.09   \n",
              "3                       -0.109                               -0.09   \n",
              "4                       -0.109                               -0.09   \n",
              "...                        ...                                 ...   \n",
              "39995                   -0.109                               -0.09   \n",
              "39996                   -0.109                               -0.09   \n",
              "39997                   -0.109                               -0.09   \n",
              "39998                   -0.109                               -0.09   \n",
              "39999                   -0.109                               -0.09   \n",
              "\n",
              "       headquarter_Saarland  \n",
              "0                    -0.068  \n",
              "1                    -0.068  \n",
              "2                    -0.068  \n",
              "3                    -0.068  \n",
              "4                    -0.068  \n",
              "...                     ...  \n",
              "39995                -0.068  \n",
              "39996                -0.068  \n",
              "39997                -0.068  \n",
              "39998                -0.068  \n",
              "39999                -0.068  \n",
              "\n",
              "[40000 rows x 164 columns]"
            ],
            "text/html": [
              "\n",
              "  <div id=\"df-1eb4e73e-7282-4467-b61e-1fe03f35c715\">\n",
              "    <div class=\"colab-df-container\">\n",
              "      <div>\n",
              "<style scoped>\n",
              "    .dataframe tbody tr th:only-of-type {\n",
              "        vertical-align: middle;\n",
              "    }\n",
              "\n",
              "    .dataframe tbody tr th {\n",
              "        vertical-align: top;\n",
              "    }\n",
              "\n",
              "    .dataframe thead th {\n",
              "        text-align: right;\n",
              "    }\n",
              "</style>\n",
              "<table border=\"1\" class=\"dataframe\">\n",
              "  <thead>\n",
              "    <tr style=\"text-align: right;\">\n",
              "      <th></th>\n",
              "      <th>amount</th>\n",
              "      <th>Payment_period</th>\n",
              "      <th>due_date_month-end</th>\n",
              "      <th>Payment_delay</th>\n",
              "      <th>N_items</th>\n",
              "      <th>N_items_late</th>\n",
              "      <th>N_items_on_time</th>\n",
              "      <th>N_items_late_to_on_time</th>\n",
              "      <th>N_items_running</th>\n",
              "      <th>N_items_running_late</th>\n",
              "      <th>...</th>\n",
              "      <th>headquarter_Nordrhein-Westfalen</th>\n",
              "      <th>headquarter_Rheinland-Pfalz</th>\n",
              "      <th>headquarter_Sachsen</th>\n",
              "      <th>headquarter_Sachsen-Anhalt</th>\n",
              "      <th>headquarter_Schleswig-Holstein</th>\n",
              "      <th>headquarter_Thueringen</th>\n",
              "      <th>headquarter_-1</th>\n",
              "      <th>headquarter_Brandenburg</th>\n",
              "      <th>headquarter_Mecklenburg-Vorpommern</th>\n",
              "      <th>headquarter_Saarland</th>\n",
              "    </tr>\n",
              "  </thead>\n",
              "  <tbody>\n",
              "    <tr>\n",
              "      <th>0</th>\n",
              "      <td>-0.074</td>\n",
              "      <td>0.141</td>\n",
              "      <td>1.494</td>\n",
              "      <td>0</td>\n",
              "      <td>1.125</td>\n",
              "      <td>0.005</td>\n",
              "      <td>1.751</td>\n",
              "      <td>-0.140</td>\n",
              "      <td>-0.024</td>\n",
              "      <td>-0.248</td>\n",
              "      <td>...</td>\n",
              "      <td>-0.789</td>\n",
              "      <td>-0.14</td>\n",
              "      <td>-0.173</td>\n",
              "      <td>-0.11</td>\n",
              "      <td>-0.181</td>\n",
              "      <td>-0.151</td>\n",
              "      <td>-0.068</td>\n",
              "      <td>-0.109</td>\n",
              "      <td>-0.09</td>\n",
              "      <td>-0.068</td>\n",
              "    </tr>\n",
              "    <tr>\n",
              "      <th>1</th>\n",
              "      <td>-0.287</td>\n",
              "      <td>0.141</td>\n",
              "      <td>1.494</td>\n",
              "      <td>0</td>\n",
              "      <td>1.125</td>\n",
              "      <td>0.005</td>\n",
              "      <td>1.751</td>\n",
              "      <td>-0.140</td>\n",
              "      <td>-0.024</td>\n",
              "      <td>-0.248</td>\n",
              "      <td>...</td>\n",
              "      <td>-0.789</td>\n",
              "      <td>-0.14</td>\n",
              "      <td>-0.173</td>\n",
              "      <td>-0.11</td>\n",
              "      <td>-0.181</td>\n",
              "      <td>-0.151</td>\n",
              "      <td>-0.068</td>\n",
              "      <td>-0.109</td>\n",
              "      <td>-0.09</td>\n",
              "      <td>-0.068</td>\n",
              "    </tr>\n",
              "    <tr>\n",
              "      <th>2</th>\n",
              "      <td>-0.259</td>\n",
              "      <td>0.141</td>\n",
              "      <td>-0.669</td>\n",
              "      <td>0</td>\n",
              "      <td>1.125</td>\n",
              "      <td>0.005</td>\n",
              "      <td>1.751</td>\n",
              "      <td>-0.140</td>\n",
              "      <td>0.408</td>\n",
              "      <td>-0.248</td>\n",
              "      <td>...</td>\n",
              "      <td>-0.789</td>\n",
              "      <td>-0.14</td>\n",
              "      <td>-0.173</td>\n",
              "      <td>-0.11</td>\n",
              "      <td>-0.181</td>\n",
              "      <td>-0.151</td>\n",
              "      <td>-0.068</td>\n",
              "      <td>-0.109</td>\n",
              "      <td>-0.09</td>\n",
              "      <td>-0.068</td>\n",
              "    </tr>\n",
              "    <tr>\n",
              "      <th>3</th>\n",
              "      <td>-0.310</td>\n",
              "      <td>0.141</td>\n",
              "      <td>-0.669</td>\n",
              "      <td>0</td>\n",
              "      <td>1.125</td>\n",
              "      <td>0.005</td>\n",
              "      <td>1.751</td>\n",
              "      <td>-0.140</td>\n",
              "      <td>0.408</td>\n",
              "      <td>-0.248</td>\n",
              "      <td>...</td>\n",
              "      <td>-0.789</td>\n",
              "      <td>-0.14</td>\n",
              "      <td>-0.173</td>\n",
              "      <td>-0.11</td>\n",
              "      <td>-0.181</td>\n",
              "      <td>-0.151</td>\n",
              "      <td>-0.068</td>\n",
              "      <td>-0.109</td>\n",
              "      <td>-0.09</td>\n",
              "      <td>-0.068</td>\n",
              "    </tr>\n",
              "    <tr>\n",
              "      <th>4</th>\n",
              "      <td>0.302</td>\n",
              "      <td>0.141</td>\n",
              "      <td>-0.669</td>\n",
              "      <td>0</td>\n",
              "      <td>1.125</td>\n",
              "      <td>0.005</td>\n",
              "      <td>1.751</td>\n",
              "      <td>-0.140</td>\n",
              "      <td>0.840</td>\n",
              "      <td>-0.248</td>\n",
              "      <td>...</td>\n",
              "      <td>-0.789</td>\n",
              "      <td>-0.14</td>\n",
              "      <td>-0.173</td>\n",
              "      <td>-0.11</td>\n",
              "      <td>-0.181</td>\n",
              "      <td>-0.151</td>\n",
              "      <td>-0.068</td>\n",
              "      <td>-0.109</td>\n",
              "      <td>-0.09</td>\n",
              "      <td>-0.068</td>\n",
              "    </tr>\n",
              "    <tr>\n",
              "      <th>...</th>\n",
              "      <td>...</td>\n",
              "      <td>...</td>\n",
              "      <td>...</td>\n",
              "      <td>...</td>\n",
              "      <td>...</td>\n",
              "      <td>...</td>\n",
              "      <td>...</td>\n",
              "      <td>...</td>\n",
              "      <td>...</td>\n",
              "      <td>...</td>\n",
              "      <td>...</td>\n",
              "      <td>...</td>\n",
              "      <td>...</td>\n",
              "      <td>...</td>\n",
              "      <td>...</td>\n",
              "      <td>...</td>\n",
              "      <td>...</td>\n",
              "      <td>...</td>\n",
              "      <td>...</td>\n",
              "      <td>...</td>\n",
              "      <td>...</td>\n",
              "    </tr>\n",
              "    <tr>\n",
              "      <th>39995</th>\n",
              "      <td>-0.127</td>\n",
              "      <td>-0.403</td>\n",
              "      <td>-0.669</td>\n",
              "      <td>0</td>\n",
              "      <td>-0.525</td>\n",
              "      <td>-0.400</td>\n",
              "      <td>-0.489</td>\n",
              "      <td>-0.109</td>\n",
              "      <td>-0.455</td>\n",
              "      <td>-0.248</td>\n",
              "      <td>...</td>\n",
              "      <td>1.267</td>\n",
              "      <td>-0.14</td>\n",
              "      <td>-0.173</td>\n",
              "      <td>-0.11</td>\n",
              "      <td>-0.181</td>\n",
              "      <td>-0.151</td>\n",
              "      <td>-0.068</td>\n",
              "      <td>-0.109</td>\n",
              "      <td>-0.09</td>\n",
              "      <td>-0.068</td>\n",
              "    </tr>\n",
              "    <tr>\n",
              "      <th>39996</th>\n",
              "      <td>-0.127</td>\n",
              "      <td>-0.403</td>\n",
              "      <td>-0.669</td>\n",
              "      <td>0</td>\n",
              "      <td>-0.521</td>\n",
              "      <td>-0.400</td>\n",
              "      <td>-0.483</td>\n",
              "      <td>-0.127</td>\n",
              "      <td>-0.455</td>\n",
              "      <td>-0.248</td>\n",
              "      <td>...</td>\n",
              "      <td>1.267</td>\n",
              "      <td>-0.14</td>\n",
              "      <td>-0.173</td>\n",
              "      <td>-0.11</td>\n",
              "      <td>-0.181</td>\n",
              "      <td>-0.151</td>\n",
              "      <td>-0.068</td>\n",
              "      <td>-0.109</td>\n",
              "      <td>-0.09</td>\n",
              "      <td>-0.068</td>\n",
              "    </tr>\n",
              "    <tr>\n",
              "      <th>39997</th>\n",
              "      <td>-0.059</td>\n",
              "      <td>0.243</td>\n",
              "      <td>-0.669</td>\n",
              "      <td>0</td>\n",
              "      <td>-0.529</td>\n",
              "      <td>-0.408</td>\n",
              "      <td>-0.489</td>\n",
              "      <td>-0.146</td>\n",
              "      <td>-0.455</td>\n",
              "      <td>-0.248</td>\n",
              "      <td>...</td>\n",
              "      <td>-0.789</td>\n",
              "      <td>-0.14</td>\n",
              "      <td>5.788</td>\n",
              "      <td>-0.11</td>\n",
              "      <td>-0.181</td>\n",
              "      <td>-0.151</td>\n",
              "      <td>-0.068</td>\n",
              "      <td>-0.109</td>\n",
              "      <td>-0.09</td>\n",
              "      <td>-0.068</td>\n",
              "    </tr>\n",
              "    <tr>\n",
              "      <th>39998</th>\n",
              "      <td>-0.203</td>\n",
              "      <td>0.311</td>\n",
              "      <td>-0.669</td>\n",
              "      <td>0</td>\n",
              "      <td>-0.525</td>\n",
              "      <td>-0.408</td>\n",
              "      <td>-0.483</td>\n",
              "      <td>-0.146</td>\n",
              "      <td>-0.455</td>\n",
              "      <td>-0.248</td>\n",
              "      <td>...</td>\n",
              "      <td>-0.789</td>\n",
              "      <td>-0.14</td>\n",
              "      <td>5.788</td>\n",
              "      <td>-0.11</td>\n",
              "      <td>-0.181</td>\n",
              "      <td>-0.151</td>\n",
              "      <td>-0.068</td>\n",
              "      <td>-0.109</td>\n",
              "      <td>-0.09</td>\n",
              "      <td>-0.068</td>\n",
              "    </tr>\n",
              "    <tr>\n",
              "      <th>39999</th>\n",
              "      <td>-0.207</td>\n",
              "      <td>-0.369</td>\n",
              "      <td>1.494</td>\n",
              "      <td>0</td>\n",
              "      <td>-0.525</td>\n",
              "      <td>-0.408</td>\n",
              "      <td>-0.483</td>\n",
              "      <td>-0.146</td>\n",
              "      <td>-0.455</td>\n",
              "      <td>-0.248</td>\n",
              "      <td>...</td>\n",
              "      <td>-0.789</td>\n",
              "      <td>-0.14</td>\n",
              "      <td>-0.173</td>\n",
              "      <td>-0.11</td>\n",
              "      <td>5.517</td>\n",
              "      <td>-0.151</td>\n",
              "      <td>-0.068</td>\n",
              "      <td>-0.109</td>\n",
              "      <td>-0.09</td>\n",
              "      <td>-0.068</td>\n",
              "    </tr>\n",
              "  </tbody>\n",
              "</table>\n",
              "<p>40000 rows × 164 columns</p>\n",
              "</div>\n",
              "      <button class=\"colab-df-convert\" onclick=\"convertToInteractive('df-1eb4e73e-7282-4467-b61e-1fe03f35c715')\"\n",
              "              title=\"Convert this dataframe to an interactive table.\"\n",
              "              style=\"display:none;\">\n",
              "        \n",
              "  <svg xmlns=\"http://www.w3.org/2000/svg\" height=\"24px\"viewBox=\"0 0 24 24\"\n",
              "       width=\"24px\">\n",
              "    <path d=\"M0 0h24v24H0V0z\" fill=\"none\"/>\n",
              "    <path d=\"M18.56 5.44l.94 2.06.94-2.06 2.06-.94-2.06-.94-.94-2.06-.94 2.06-2.06.94zm-11 1L8.5 8.5l.94-2.06 2.06-.94-2.06-.94L8.5 2.5l-.94 2.06-2.06.94zm10 10l.94 2.06.94-2.06 2.06-.94-2.06-.94-.94-2.06-.94 2.06-2.06.94z\"/><path d=\"M17.41 7.96l-1.37-1.37c-.4-.4-.92-.59-1.43-.59-.52 0-1.04.2-1.43.59L10.3 9.45l-7.72 7.72c-.78.78-.78 2.05 0 2.83L4 21.41c.39.39.9.59 1.41.59.51 0 1.02-.2 1.41-.59l7.78-7.78 2.81-2.81c.8-.78.8-2.07 0-2.86zM5.41 20L4 18.59l7.72-7.72 1.47 1.35L5.41 20z\"/>\n",
              "  </svg>\n",
              "      </button>\n",
              "      \n",
              "  <style>\n",
              "    .colab-df-container {\n",
              "      display:flex;\n",
              "      flex-wrap:wrap;\n",
              "      gap: 12px;\n",
              "    }\n",
              "\n",
              "    .colab-df-convert {\n",
              "      background-color: #E8F0FE;\n",
              "      border: none;\n",
              "      border-radius: 50%;\n",
              "      cursor: pointer;\n",
              "      display: none;\n",
              "      fill: #1967D2;\n",
              "      height: 32px;\n",
              "      padding: 0 0 0 0;\n",
              "      width: 32px;\n",
              "    }\n",
              "\n",
              "    .colab-df-convert:hover {\n",
              "      background-color: #E2EBFA;\n",
              "      box-shadow: 0px 1px 2px rgba(60, 64, 67, 0.3), 0px 1px 3px 1px rgba(60, 64, 67, 0.15);\n",
              "      fill: #174EA6;\n",
              "    }\n",
              "\n",
              "    [theme=dark] .colab-df-convert {\n",
              "      background-color: #3B4455;\n",
              "      fill: #D2E3FC;\n",
              "    }\n",
              "\n",
              "    [theme=dark] .colab-df-convert:hover {\n",
              "      background-color: #434B5C;\n",
              "      box-shadow: 0px 1px 3px 1px rgba(0, 0, 0, 0.15);\n",
              "      filter: drop-shadow(0px 1px 2px rgba(0, 0, 0, 0.3));\n",
              "      fill: #FFFFFF;\n",
              "    }\n",
              "  </style>\n",
              "\n",
              "      <script>\n",
              "        const buttonEl =\n",
              "          document.querySelector('#df-1eb4e73e-7282-4467-b61e-1fe03f35c715 button.colab-df-convert');\n",
              "        buttonEl.style.display =\n",
              "          google.colab.kernel.accessAllowed ? 'block' : 'none';\n",
              "\n",
              "        async function convertToInteractive(key) {\n",
              "          const element = document.querySelector('#df-1eb4e73e-7282-4467-b61e-1fe03f35c715');\n",
              "          const dataTable =\n",
              "            await google.colab.kernel.invokeFunction('convertToInteractive',\n",
              "                                                     [key], {});\n",
              "          if (!dataTable) return;\n",
              "\n",
              "          const docLinkHtml = 'Like what you see? Visit the ' +\n",
              "            '<a target=\"_blank\" href=https://colab.research.google.com/notebooks/data_table.ipynb>data table notebook</a>'\n",
              "            + ' to learn more about interactive tables.';\n",
              "          element.innerHTML = '';\n",
              "          dataTable['output_type'] = 'display_data';\n",
              "          await google.colab.output.renderOutput(dataTable, element);\n",
              "          const docLink = document.createElement('div');\n",
              "          docLink.innerHTML = docLinkHtml;\n",
              "          element.appendChild(docLink);\n",
              "        }\n",
              "      </script>\n",
              "    </div>\n",
              "  </div>\n",
              "  "
            ]
          },
          "metadata": {},
          "execution_count": 3
        }
      ]
    },
    {
      "cell_type": "code",
      "source": [
        "df.shape"
      ],
      "metadata": {
        "colab": {
          "base_uri": "https://localhost:8080/"
        },
        "id": "Xd_2m9q3SoKx",
        "outputId": "7ba20d6c-ea13-48e7-b9b4-2050b030e8e8"
      },
      "execution_count": null,
      "outputs": [
        {
          "output_type": "execute_result",
          "data": {
            "text/plain": [
              "(40000, 164)"
            ]
          },
          "metadata": {},
          "execution_count": 4
        }
      ]
    },
    {
      "cell_type": "code",
      "source": [
        "df.dtypes"
      ],
      "metadata": {
        "colab": {
          "base_uri": "https://localhost:8080/"
        },
        "id": "ziMRH2kfUphR",
        "outputId": "342cfded-39ec-483e-d333-db3ed417edf8"
      },
      "execution_count": null,
      "outputs": [
        {
          "output_type": "execute_result",
          "data": {
            "text/plain": [
              "amount                                float64\n",
              "Payment_period                        float64\n",
              "due_date_month-end                    float64\n",
              "Payment_delay                          object\n",
              "N_items                               float64\n",
              "                                       ...   \n",
              "headquarter_Thueringen                float64\n",
              "headquarter_-1                        float64\n",
              "headquarter_Brandenburg               float64\n",
              "headquarter_Mecklenburg-Vorpommern    float64\n",
              "headquarter_Saarland                  float64\n",
              "Length: 164, dtype: object"
            ]
          },
          "metadata": {},
          "execution_count": 5
        }
      ]
    },
    {
      "cell_type": "markdown",
      "source": [
        "# **Data Pre-processing**"
      ],
      "metadata": {
        "id": "pnl9Slt2ndXy"
      }
    },
    {
      "cell_type": "code",
      "source": [
        "#To check for duplicate values\n",
        "df.drop_duplicates(keep=\"first\",inplace=True)"
      ],
      "metadata": {
        "id": "HKvRPSFWZdq8"
      },
      "execution_count": null,
      "outputs": []
    },
    {
      "cell_type": "code",
      "source": [
        "df.shape #proves some duplicate rows are present"
      ],
      "metadata": {
        "colab": {
          "base_uri": "https://localhost:8080/"
        },
        "id": "vSJyVkBHZhHx",
        "outputId": "d0fff54a-582d-4ccf-a830-59f03314a951"
      },
      "execution_count": null,
      "outputs": [
        {
          "output_type": "execute_result",
          "data": {
            "text/plain": [
              "(39952, 164)"
            ]
          },
          "metadata": {},
          "execution_count": 7
        }
      ]
    },
    {
      "cell_type": "code",
      "source": [
        "#To check for null values\n",
        "df.isnull().any().value_counts()"
      ],
      "metadata": {
        "colab": {
          "base_uri": "https://localhost:8080/"
        },
        "id": "IjzqKsl7ZqRf",
        "outputId": "d1151ab3-18e8-40d6-928b-4fa69f58be0c"
      },
      "execution_count": null,
      "outputs": [
        {
          "output_type": "execute_result",
          "data": {
            "text/plain": [
              "False    164\n",
              "dtype: int64"
            ]
          },
          "metadata": {},
          "execution_count": 8
        }
      ]
    },
    {
      "cell_type": "code",
      "source": [
        "df.fillna(method=\"ffill\",inplace=True)"
      ],
      "metadata": {
        "id": "reD-_D0qZ_fR"
      },
      "execution_count": null,
      "outputs": []
    },
    {
      "cell_type": "code",
      "source": [
        "df['Payment_delay'].value_counts()"
      ],
      "metadata": {
        "colab": {
          "base_uri": "https://localhost:8080/"
        },
        "id": "e02Wrn0QZw2k",
        "outputId": "205d289b-42e9-45ef-da71-0f6e73c38ff7"
      },
      "execution_count": null,
      "outputs": [
        {
          "output_type": "execute_result",
          "data": {
            "text/plain": [
              "0        24362\n",
              "1-30     14306\n",
              "31-60      954\n",
              "61-90      203\n",
              ">90        127\n",
              "Name: Payment_delay, dtype: int64"
            ]
          },
          "metadata": {},
          "execution_count": 10
        }
      ]
    },
    {
      "cell_type": "code",
      "source": [
        "#Target distribution in dataset\n",
        "\n",
        "ax = df['Payment_delay'].value_counts().sort_values().plot(kind=\"barh\")\n",
        "totals= []\n",
        "for i in ax.patches:\n",
        "    totals.append(i.get_width())\n",
        "total = sum(totals)\n",
        "for i in ax.patches:\n",
        "     ax.text(i.get_width()+.3, i.get_y()+.20,\n",
        "     str(round((i.get_width()/total)*100, 2))+'%',\n",
        "     fontsize=10, color='black')\n",
        "ax.grid(axis=\"x\")\n",
        "plt.suptitle('Payment_delay', fontsize=20)\n",
        "plt.show()"
      ],
      "metadata": {
        "colab": {
          "base_uri": "https://localhost:8080/",
          "height": 294
        },
        "id": "V7hjh072V-Io",
        "outputId": "333b592d-8d7f-494c-d9d3-3a7ba2bcf0a0"
      },
      "execution_count": null,
      "outputs": [
        {
          "output_type": "display_data",
          "data": {
            "text/plain": [
              "<Figure size 432x288 with 1 Axes>"
            ],
            "image/png": "[encoded data removed]"
          },
          "metadata": {
            "needs_background": "light"
          }
        }
      ]
    },
    {
      "cell_type": "code",
      "source": [
        "#Converting target column to categorical\n",
        "LE = LabelEncoder()\n",
        "df['Payment_delay'] = LE.fit_transform(df['Payment_delay'])"
      ],
      "metadata": {
        "id": "7qZDhRTKdwyl"
      },
      "execution_count": null,
      "outputs": []
    },
    {
      "cell_type": "code",
      "source": [
        "df['Payment_delay'].value_counts()"
      ],
      "metadata": {
        "colab": {
          "base_uri": "https://localhost:8080/"
        },
        "id": "6681_-IseIGP",
        "outputId": "1d45caf1-2289-45c5-db8f-3f46b751de35"
      },
      "execution_count": null,
      "outputs": [
        {
          "output_type": "execute_result",
          "data": {
            "text/plain": [
              "0    24362\n",
              "1    14306\n",
              "2      954\n",
              "3      203\n",
              "4      127\n",
              "Name: Payment_delay, dtype: int64"
            ]
          },
          "metadata": {},
          "execution_count": 13
        }
      ]
    },
    {
      "cell_type": "code",
      "source": [
        "#Distribution of float and int datatypes in the dataset\n",
        "df.dtypes.value_counts()"
      ],
      "metadata": {
        "colab": {
          "base_uri": "https://localhost:8080/"
        },
        "id": "oMP5oJO7adki",
        "outputId": "4b1c2b37-4753-43ec-eb76-627df90717ae"
      },
      "execution_count": null,
      "outputs": [
        {
          "output_type": "execute_result",
          "data": {
            "text/plain": [
              "float64    163\n",
              "int64        1\n",
              "dtype: int64"
            ]
          },
          "metadata": {},
          "execution_count": 14
        }
      ]
    },
    {
      "cell_type": "markdown",
      "source": [
        "**Normalization and Standardization of dataset**"
      ],
      "metadata": {
        "id": "fhWYUfKBni91"
      }
    },
    {
      "cell_type": "code",
      "source": [
        "#Normalization of dataset\n",
        "norm = MinMaxScaler().fit_transform(df.drop('Payment_delay',axis=1).values)\n",
        "pd.DataFrame(norm)"
      ],
      "metadata": {
        "colab": {
          "base_uri": "https://localhost:8080/",
          "height": 419
        },
        "id": "hC1YDzy8atmT",
        "outputId": "ee01fc43-a7aa-43a8-cea7-be8402c5cd3f"
      },
      "execution_count": null,
      "outputs": [
        {
          "output_type": "execute_result",
          "data": {
            "text/plain": [
              "            0         1    2         3         4         5         6    \\\n",
              "0      0.006374  0.026123  1.0  0.298201  0.060753  0.298194  0.000233   \n",
              "1      0.000810  0.026123  1.0  0.298201  0.060753  0.298194  0.000233   \n",
              "2      0.001541  0.026123  0.0  0.298201  0.060753  0.298194  0.000233   \n",
              "3      0.000209  0.026123  0.0  0.298201  0.060753  0.298194  0.000233   \n",
              "4      0.016195  0.026123  0.0  0.298201  0.060753  0.298194  0.000233   \n",
              "...         ...       ...  ...       ...       ...       ...       ...   \n",
              "39947  0.004989  0.011710  0.0  0.001439  0.001177  0.000797  0.001439   \n",
              "39948  0.004989  0.011710  0.0  0.002158  0.001177  0.001593  0.000739   \n",
              "39949  0.006765  0.028826  0.0  0.000719  0.000000  0.000797  0.000000   \n",
              "39950  0.003004  0.030627  0.0  0.001439  0.000000  0.001593  0.000000   \n",
              "39951  0.002899  0.012611  1.0  0.001439  0.000000  0.001593  0.000000   \n",
              "\n",
              "            7    8    9    ...  153  154  155  156  157  158  159  160  161  \\\n",
              "0      0.041606  0.0  0.0  ...  0.0  0.0  0.0  0.0  0.0  0.0  0.0  0.0  0.0   \n",
              "1      0.041606  0.0  0.0  ...  0.0  0.0  0.0  0.0  0.0  0.0  0.0  0.0  0.0   \n",
              "2      0.083309  0.0  0.0  ...  0.0  0.0  0.0  0.0  0.0  0.0  0.0  0.0  0.0   \n",
              "3      0.083309  0.0  0.0  ...  0.0  0.0  0.0  0.0  0.0  0.0  0.0  0.0  0.0   \n",
              "4      0.125012  0.0  0.0  ...  0.0  0.0  0.0  0.0  0.0  0.0  0.0  0.0  0.0   \n",
              "...         ...  ...  ...  ...  ...  ...  ...  ...  ...  ...  ...  ...  ...   \n",
              "39947  0.000000  0.0  0.0  ...  1.0  0.0  0.0  0.0  0.0  0.0  0.0  0.0  0.0   \n",
              "39948  0.000000  0.0  0.0  ...  1.0  0.0  0.0  0.0  0.0  0.0  0.0  0.0  0.0   \n",
              "39949  0.000000  0.0  0.0  ...  0.0  0.0  1.0  0.0  0.0  0.0  0.0  0.0  0.0   \n",
              "39950  0.000000  0.0  0.0  ...  0.0  0.0  1.0  0.0  0.0  0.0  0.0  0.0  0.0   \n",
              "39951  0.000000  0.0  0.0  ...  0.0  0.0  0.0  0.0  1.0  0.0  0.0  0.0  0.0   \n",
              "\n",
              "       162  \n",
              "0      0.0  \n",
              "1      0.0  \n",
              "2      0.0  \n",
              "3      0.0  \n",
              "4      0.0  \n",
              "...    ...  \n",
              "39947  0.0  \n",
              "39948  0.0  \n",
              "39949  0.0  \n",
              "39950  0.0  \n",
              "39951  0.0  \n",
              "\n",
              "[39952 rows x 163 columns]"
            ],
            "text/html": [
              "\n",
              "  <div id=\"df-6f88a2a8-3ed9-42d4-8e68-c21cdd0f5c4f\">\n",
              "    <div class=\"colab-df-container\">\n",
              "      <div>\n",
              "<style scoped>\n",
              "    .dataframe tbody tr th:only-of-type {\n",
              "        vertical-align: middle;\n",
              "    }\n",
              "\n",
              "    .dataframe tbody tr th {\n",
              "        vertical-align: top;\n",
              "    }\n",
              "\n",
              "    .dataframe thead th {\n",
              "        text-align: right;\n",
              "    }\n",
              "</style>\n",
              "<table border=\"1\" class=\"dataframe\">\n",
              "  <thead>\n",
              "    <tr style=\"text-align: right;\">\n",
              "      <th></th>\n",
              "      <th>0</th>\n",
              "      <th>1</th>\n",
              "      <th>2</th>\n",
              "      <th>3</th>\n",
              "      <th>4</th>\n",
              "      <th>5</th>\n",
              "      <th>6</th>\n",
              "      <th>7</th>\n",
              "      <th>8</th>\n",
              "      <th>9</th>\n",
              "      <th>...</th>\n",
              "      <th>153</th>\n",
              "      <th>154</th>\n",
              "      <th>155</th>\n",
              "      <th>156</th>\n",
              "      <th>157</th>\n",
              "      <th>158</th>\n",
              "      <th>159</th>\n",
              "      <th>160</th>\n",
              "      <th>161</th>\n",
              "      <th>162</th>\n",
              "    </tr>\n",
              "  </thead>\n",
              "  <tbody>\n",
              "    <tr>\n",
              "      <th>0</th>\n",
              "      <td>0.006374</td>\n",
              "      <td>0.026123</td>\n",
              "      <td>1.0</td>\n",
              "      <td>0.298201</td>\n",
              "      <td>0.060753</td>\n",
              "      <td>0.298194</td>\n",
              "      <td>0.000233</td>\n",
              "      <td>0.041606</td>\n",
              "      <td>0.0</td>\n",
              "      <td>0.0</td>\n",
              "      <td>...</td>\n",
              "      <td>0.0</td>\n",
              "      <td>0.0</td>\n",
              "      <td>0.0</td>\n",
              "      <td>0.0</td>\n",
              "      <td>0.0</td>\n",
              "      <td>0.0</td>\n",
              "      <td>0.0</td>\n",
              "      <td>0.0</td>\n",
              "      <td>0.0</td>\n",
              "      <td>0.0</td>\n",
              "    </tr>\n",
              "    <tr>\n",
              "      <th>1</th>\n",
              "      <td>0.000810</td>\n",
              "      <td>0.026123</td>\n",
              "      <td>1.0</td>\n",
              "      <td>0.298201</td>\n",
              "      <td>0.060753</td>\n",
              "      <td>0.298194</td>\n",
              "      <td>0.000233</td>\n",
              "      <td>0.041606</td>\n",
              "      <td>0.0</td>\n",
              "      <td>0.0</td>\n",
              "      <td>...</td>\n",
              "      <td>0.0</td>\n",
              "      <td>0.0</td>\n",
              "      <td>0.0</td>\n",
              "      <td>0.0</td>\n",
              "      <td>0.0</td>\n",
              "      <td>0.0</td>\n",
              "      <td>0.0</td>\n",
              "      <td>0.0</td>\n",
              "      <td>0.0</td>\n",
              "      <td>0.0</td>\n",
              "    </tr>\n",
              "    <tr>\n",
              "      <th>2</th>\n",
              "      <td>0.001541</td>\n",
              "      <td>0.026123</td>\n",
              "      <td>0.0</td>\n",
              "      <td>0.298201</td>\n",
              "      <td>0.060753</td>\n",
              "      <td>0.298194</td>\n",
              "      <td>0.000233</td>\n",
              "      <td>0.083309</td>\n",
              "      <td>0.0</td>\n",
              "      <td>0.0</td>\n",
              "      <td>...</td>\n",
              "      <td>0.0</td>\n",
              "      <td>0.0</td>\n",
              "      <td>0.0</td>\n",
              "      <td>0.0</td>\n",
              "      <td>0.0</td>\n",
              "      <td>0.0</td>\n",
              "      <td>0.0</td>\n",
              "      <td>0.0</td>\n",
              "      <td>0.0</td>\n",
              "      <td>0.0</td>\n",
              "    </tr>\n",
              "    <tr>\n",
              "      <th>3</th>\n",
              "      <td>0.000209</td>\n",
              "      <td>0.026123</td>\n",
              "      <td>0.0</td>\n",
              "      <td>0.298201</td>\n",
              "      <td>0.060753</td>\n",
              "      <td>0.298194</td>\n",
              "      <td>0.000233</td>\n",
              "      <td>0.083309</td>\n",
              "      <td>0.0</td>\n",
              "      <td>0.0</td>\n",
              "      <td>...</td>\n",
              "      <td>0.0</td>\n",
              "      <td>0.0</td>\n",
              "      <td>0.0</td>\n",
              "      <td>0.0</td>\n",
              "      <td>0.0</td>\n",
              "      <td>0.0</td>\n",
              "      <td>0.0</td>\n",
              "      <td>0.0</td>\n",
              "      <td>0.0</td>\n",
              "      <td>0.0</td>\n",
              "    </tr>\n",
              "    <tr>\n",
              "      <th>4</th>\n",
              "      <td>0.016195</td>\n",
              "      <td>0.026123</td>\n",
              "      <td>0.0</td>\n",
              "      <td>0.298201</td>\n",
              "      <td>0.060753</td>\n",
              "      <td>0.298194</td>\n",
              "      <td>0.000233</td>\n",
              "      <td>0.125012</td>\n",
              "      <td>0.0</td>\n",
              "      <td>0.0</td>\n",
              "      <td>...</td>\n",
              "      <td>0.0</td>\n",
              "      <td>0.0</td>\n",
              "      <td>0.0</td>\n",
              "      <td>0.0</td>\n",
              "      <td>0.0</td>\n",
              "      <td>0.0</td>\n",
              "      <td>0.0</td>\n",
              "      <td>0.0</td>\n",
              "      <td>0.0</td>\n",
              "      <td>0.0</td>\n",
              "    </tr>\n",
              "    <tr>\n",
              "      <th>...</th>\n",
              "      <td>...</td>\n",
              "      <td>...</td>\n",
              "      <td>...</td>\n",
              "      <td>...</td>\n",
              "      <td>...</td>\n",
              "      <td>...</td>\n",
              "      <td>...</td>\n",
              "      <td>...</td>\n",
              "      <td>...</td>\n",
              "      <td>...</td>\n",
              "      <td>...</td>\n",
              "      <td>...</td>\n",
              "      <td>...</td>\n",
              "      <td>...</td>\n",
              "      <td>...</td>\n",
              "      <td>...</td>\n",
              "      <td>...</td>\n",
              "      <td>...</td>\n",
              "      <td>...</td>\n",
              "      <td>...</td>\n",
              "      <td>...</td>\n",
              "    </tr>\n",
              "    <tr>\n",
              "      <th>39947</th>\n",
              "      <td>0.004989</td>\n",
              "      <td>0.011710</td>\n",
              "      <td>0.0</td>\n",
              "      <td>0.001439</td>\n",
              "      <td>0.001177</td>\n",
              "      <td>0.000797</td>\n",
              "      <td>0.001439</td>\n",
              "      <td>0.000000</td>\n",
              "      <td>0.0</td>\n",
              "      <td>0.0</td>\n",
              "      <td>...</td>\n",
              "      <td>1.0</td>\n",
              "      <td>0.0</td>\n",
              "      <td>0.0</td>\n",
              "      <td>0.0</td>\n",
              "      <td>0.0</td>\n",
              "      <td>0.0</td>\n",
              "      <td>0.0</td>\n",
              "      <td>0.0</td>\n",
              "      <td>0.0</td>\n",
              "      <td>0.0</td>\n",
              "    </tr>\n",
              "    <tr>\n",
              "      <th>39948</th>\n",
              "      <td>0.004989</td>\n",
              "      <td>0.011710</td>\n",
              "      <td>0.0</td>\n",
              "      <td>0.002158</td>\n",
              "      <td>0.001177</td>\n",
              "      <td>0.001593</td>\n",
              "      <td>0.000739</td>\n",
              "      <td>0.000000</td>\n",
              "      <td>0.0</td>\n",
              "      <td>0.0</td>\n",
              "      <td>...</td>\n",
              "      <td>1.0</td>\n",
              "      <td>0.0</td>\n",
              "      <td>0.0</td>\n",
              "      <td>0.0</td>\n",
              "      <td>0.0</td>\n",
              "      <td>0.0</td>\n",
              "      <td>0.0</td>\n",
              "      <td>0.0</td>\n",
              "      <td>0.0</td>\n",
              "      <td>0.0</td>\n",
              "    </tr>\n",
              "    <tr>\n",
              "      <th>39949</th>\n",
              "      <td>0.006765</td>\n",
              "      <td>0.028826</td>\n",
              "      <td>0.0</td>\n",
              "      <td>0.000719</td>\n",
              "      <td>0.000000</td>\n",
              "      <td>0.000797</td>\n",
              "      <td>0.000000</td>\n",
              "      <td>0.000000</td>\n",
              "      <td>0.0</td>\n",
              "      <td>0.0</td>\n",
              "      <td>...</td>\n",
              "      <td>0.0</td>\n",
              "      <td>0.0</td>\n",
              "      <td>1.0</td>\n",
              "      <td>0.0</td>\n",
              "      <td>0.0</td>\n",
              "      <td>0.0</td>\n",
              "      <td>0.0</td>\n",
              "      <td>0.0</td>\n",
              "      <td>0.0</td>\n",
              "      <td>0.0</td>\n",
              "    </tr>\n",
              "    <tr>\n",
              "      <th>39950</th>\n",
              "      <td>0.003004</td>\n",
              "      <td>0.030627</td>\n",
              "      <td>0.0</td>\n",
              "      <td>0.001439</td>\n",
              "      <td>0.000000</td>\n",
              "      <td>0.001593</td>\n",
              "      <td>0.000000</td>\n",
              "      <td>0.000000</td>\n",
              "      <td>0.0</td>\n",
              "      <td>0.0</td>\n",
              "      <td>...</td>\n",
              "      <td>0.0</td>\n",
              "      <td>0.0</td>\n",
              "      <td>1.0</td>\n",
              "      <td>0.0</td>\n",
              "      <td>0.0</td>\n",
              "      <td>0.0</td>\n",
              "      <td>0.0</td>\n",
              "      <td>0.0</td>\n",
              "      <td>0.0</td>\n",
              "      <td>0.0</td>\n",
              "    </tr>\n",
              "    <tr>\n",
              "      <th>39951</th>\n",
              "      <td>0.002899</td>\n",
              "      <td>0.012611</td>\n",
              "      <td>1.0</td>\n",
              "      <td>0.001439</td>\n",
              "      <td>0.000000</td>\n",
              "      <td>0.001593</td>\n",
              "      <td>0.000000</td>\n",
              "      <td>0.000000</td>\n",
              "      <td>0.0</td>\n",
              "      <td>0.0</td>\n",
              "      <td>...</td>\n",
              "      <td>0.0</td>\n",
              "      <td>0.0</td>\n",
              "      <td>0.0</td>\n",
              "      <td>0.0</td>\n",
              "      <td>1.0</td>\n",
              "      <td>0.0</td>\n",
              "      <td>0.0</td>\n",
              "      <td>0.0</td>\n",
              "      <td>0.0</td>\n",
              "      <td>0.0</td>\n",
              "    </tr>\n",
              "  </tbody>\n",
              "</table>\n",
              "<p>39952 rows × 163 columns</p>\n",
              "</div>\n",
              "      <button class=\"colab-df-convert\" onclick=\"convertToInteractive('df-6f88a2a8-3ed9-42d4-8e68-c21cdd0f5c4f')\"\n",
              "              title=\"Convert this dataframe to an interactive table.\"\n",
              "              style=\"display:none;\">\n",
              "        \n",
              "  <svg xmlns=\"http://www.w3.org/2000/svg\" height=\"24px\"viewBox=\"0 0 24 24\"\n",
              "       width=\"24px\">\n",
              "    <path d=\"M0 0h24v24H0V0z\" fill=\"none\"/>\n",
              "    <path d=\"M18.56 5.44l.94 2.06.94-2.06 2.06-.94-2.06-.94-.94-2.06-.94 2.06-2.06.94zm-11 1L8.5 8.5l.94-2.06 2.06-.94-2.06-.94L8.5 2.5l-.94 2.06-2.06.94zm10 10l.94 2.06.94-2.06 2.06-.94-2.06-.94-.94-2.06-.94 2.06-2.06.94z\"/><path d=\"M17.41 7.96l-1.37-1.37c-.4-.4-.92-.59-1.43-.59-.52 0-1.04.2-1.43.59L10.3 9.45l-7.72 7.72c-.78.78-.78 2.05 0 2.83L4 21.41c.39.39.9.59 1.41.59.51 0 1.02-.2 1.41-.59l7.78-7.78 2.81-2.81c.8-.78.8-2.07 0-2.86zM5.41 20L4 18.59l7.72-7.72 1.47 1.35L5.41 20z\"/>\n",
              "  </svg>\n",
              "      </button>\n",
              "      \n",
              "  <style>\n",
              "    .colab-df-container {\n",
              "      display:flex;\n",
              "      flex-wrap:wrap;\n",
              "      gap: 12px;\n",
              "    }\n",
              "\n",
              "    .colab-df-convert {\n",
              "      background-color: #E8F0FE;\n",
              "      border: none;\n",
              "      border-radius: 50%;\n",
              "      cursor: pointer;\n",
              "      display: none;\n",
              "      fill: #1967D2;\n",
              "      height: 32px;\n",
              "      padding: 0 0 0 0;\n",
              "      width: 32px;\n",
              "    }\n",
              "\n",
              "    .colab-df-convert:hover {\n",
              "      background-color: #E2EBFA;\n",
              "      box-shadow: 0px 1px 2px rgba(60, 64, 67, 0.3), 0px 1px 3px 1px rgba(60, 64, 67, 0.15);\n",
              "      fill: #174EA6;\n",
              "    }\n",
              "\n",
              "    [theme=dark] .colab-df-convert {\n",
              "      background-color: #3B4455;\n",
              "      fill: #D2E3FC;\n",
              "    }\n",
              "\n",
              "    [theme=dark] .colab-df-convert:hover {\n",
              "      background-color: #434B5C;\n",
              "      box-shadow: 0px 1px 3px 1px rgba(0, 0, 0, 0.15);\n",
              "      filter: drop-shadow(0px 1px 2px rgba(0, 0, 0, 0.3));\n",
              "      fill: #FFFFFF;\n",
              "    }\n",
              "  </style>\n",
              "\n",
              "      <script>\n",
              "        const buttonEl =\n",
              "          document.querySelector('#df-6f88a2a8-3ed9-42d4-8e68-c21cdd0f5c4f button.colab-df-convert');\n",
              "        buttonEl.style.display =\n",
              "          google.colab.kernel.accessAllowed ? 'block' : 'none';\n",
              "\n",
              "        async function convertToInteractive(key) {\n",
              "          const element = document.querySelector('#df-6f88a2a8-3ed9-42d4-8e68-c21cdd0f5c4f');\n",
              "          const dataTable =\n",
              "            await google.colab.kernel.invokeFunction('convertToInteractive',\n",
              "                                                     [key], {});\n",
              "          if (!dataTable) return;\n",
              "\n",
              "          const docLinkHtml = 'Like what you see? Visit the ' +\n",
              "            '<a target=\"_blank\" href=https://colab.research.google.com/notebooks/data_table.ipynb>data table notebook</a>'\n",
              "            + ' to learn more about interactive tables.';\n",
              "          element.innerHTML = '';\n",
              "          dataTable['output_type'] = 'display_data';\n",
              "          await google.colab.output.renderOutput(dataTable, element);\n",
              "          const docLink = document.createElement('div');\n",
              "          docLink.innerHTML = docLinkHtml;\n",
              "          element.appendChild(docLink);\n",
              "        }\n",
              "      </script>\n",
              "    </div>\n",
              "  </div>\n",
              "  "
            ]
          },
          "metadata": {},
          "execution_count": 15
        }
      ]
    },
    {
      "cell_type": "code",
      "source": [
        "#Data Standardization\n",
        "sc = StandardScaler()\n",
        "std = sc.fit_transform(norm)\n",
        "std"
      ],
      "metadata": {
        "colab": {
          "base_uri": "https://localhost:8080/"
        },
        "id": "rFbtI2YxbDte",
        "outputId": "3db3304c-8c13-4e8f-8e82-ed89fb7cd808"
      },
      "execution_count": null,
      "outputs": [
        {
          "output_type": "execute_result",
          "data": {
            "text/plain": [
              "array([[-0.06638573,  0.12657164,  1.48453671, ..., -0.109458  ,\n",
              "        -0.09773293, -0.05396238],\n",
              "       [-0.26482817,  0.12657164,  1.48453671, ..., -0.109458  ,\n",
              "        -0.09773293, -0.05396238],\n",
              "       [-0.23874184,  0.12657164, -0.67361083, ..., -0.109458  ,\n",
              "        -0.09773293, -0.05396238],\n",
              "       ...,\n",
              "       [-0.05241091,  0.22762218, -0.67361083, ..., -0.109458  ,\n",
              "        -0.09773293, -0.05396238],\n",
              "       [-0.18656918,  0.29498921, -0.67361083, ..., -0.109458  ,\n",
              "        -0.09773293, -0.05396238],\n",
              "       [-0.1902958 , -0.37868108,  1.48453671, ..., -0.109458  ,\n",
              "        -0.09773293, -0.05396238]])"
            ]
          },
          "metadata": {},
          "execution_count": 16
        }
      ]
    },
    {
      "cell_type": "code",
      "source": [
        "X_nstd = pd.DataFrame(std)\n",
        "X_nstd"
      ],
      "metadata": {
        "colab": {
          "base_uri": "https://localhost:8080/",
          "height": 483
        },
        "id": "kRke0pc7hU2b",
        "outputId": "0b547e4a-32ca-409d-af7d-46d5fb19b8a5"
      },
      "execution_count": null,
      "outputs": [
        {
          "output_type": "execute_result",
          "data": {
            "text/plain": [
              "            0         1         2         3         4         5         6    \\\n",
              "0     -0.066386  0.126572  1.484537  0.941304 -0.064910  1.547051 -0.146771   \n",
              "1     -0.264828  0.126572  1.484537  0.941304 -0.064910  1.547051 -0.146771   \n",
              "2     -0.238742  0.126572 -0.673611  0.941304 -0.064910  1.547051 -0.146771   \n",
              "3     -0.286256  0.126572 -0.673611  0.941304 -0.064910  1.547051 -0.146771   \n",
              "4      0.283916  0.126572 -0.673611  0.941304 -0.064910  1.547051 -0.146771   \n",
              "...         ...       ...       ...       ...       ...       ...       ...   \n",
              "39947 -0.115763 -0.412365 -0.673611 -0.553542 -0.424809 -0.514244 -0.111336   \n",
              "39948 -0.115763 -0.412365 -0.673611 -0.549918 -0.424809 -0.508723 -0.131911   \n",
              "39949 -0.052411  0.227622 -0.673611 -0.557166 -0.431918 -0.514244 -0.153629   \n",
              "39950 -0.186569  0.294989 -0.673611 -0.553542 -0.431918 -0.508723 -0.153629   \n",
              "39951 -0.190296 -0.378681  1.484537 -0.553542 -0.431918 -0.508723 -0.153629   \n",
              "\n",
              "            7         8         9    ...       153       154       155  \\\n",
              "0     -0.105832 -0.262071 -0.341966  ... -0.782185 -0.133736 -0.189857   \n",
              "1     -0.105832 -0.262071 -0.341966  ... -0.782185 -0.133736 -0.189857   \n",
              "2      0.283596 -0.262071 -0.341966  ... -0.782185 -0.133736 -0.189857   \n",
              "3      0.283596 -0.262071 -0.341966  ... -0.782185 -0.133736 -0.189857   \n",
              "4      0.673024 -0.262071 -0.341966  ... -0.782185 -0.133736 -0.189857   \n",
              "...         ...       ...       ...  ...       ...       ...       ...   \n",
              "39947 -0.494358 -0.262071 -0.341966  ...  1.278471 -0.133736 -0.189857   \n",
              "39948 -0.494358 -0.262071 -0.341966  ...  1.278471 -0.133736 -0.189857   \n",
              "39949 -0.494358 -0.262071 -0.341966  ... -0.782185 -0.133736  5.267110   \n",
              "39950 -0.494358 -0.262071 -0.341966  ... -0.782185 -0.133736  5.267110   \n",
              "39951 -0.494358 -0.262071 -0.341966  ... -0.782185 -0.133736 -0.189857   \n",
              "\n",
              "            156       157       158       159       160       161       162  \n",
              "0     -0.098383 -0.197029 -0.166684 -0.048821 -0.109458 -0.097733 -0.053962  \n",
              "1     -0.098383 -0.197029 -0.166684 -0.048821 -0.109458 -0.097733 -0.053962  \n",
              "2     -0.098383 -0.197029 -0.166684 -0.048821 -0.109458 -0.097733 -0.053962  \n",
              "3     -0.098383 -0.197029 -0.166684 -0.048821 -0.109458 -0.097733 -0.053962  \n",
              "4     -0.098383 -0.197029 -0.166684 -0.048821 -0.109458 -0.097733 -0.053962  \n",
              "...         ...       ...       ...       ...       ...       ...       ...  \n",
              "39947 -0.098383 -0.197029 -0.166684 -0.048821 -0.109458 -0.097733 -0.053962  \n",
              "39948 -0.098383 -0.197029 -0.166684 -0.048821 -0.109458 -0.097733 -0.053962  \n",
              "39949 -0.098383 -0.197029 -0.166684 -0.048821 -0.109458 -0.097733 -0.053962  \n",
              "39950 -0.098383 -0.197029 -0.166684 -0.048821 -0.109458 -0.097733 -0.053962  \n",
              "39951 -0.098383  5.075386 -0.166684 -0.048821 -0.109458 -0.097733 -0.053962  \n",
              "\n",
              "[39952 rows x 163 columns]"
            ],
            "text/html": [
              "\n",
              "  <div id=\"df-c60b904f-0959-4675-88b8-a9326ff54190\">\n",
              "    <div class=\"colab-df-container\">\n",
              "      <div>\n",
              "<style scoped>\n",
              "    .dataframe tbody tr th:only-of-type {\n",
              "        vertical-align: middle;\n",
              "    }\n",
              "\n",
              "    .dataframe tbody tr th {\n",
              "        vertical-align: top;\n",
              "    }\n",
              "\n",
              "    .dataframe thead th {\n",
              "        text-align: right;\n",
              "    }\n",
              "</style>\n",
              "<table border=\"1\" class=\"dataframe\">\n",
              "  <thead>\n",
              "    <tr style=\"text-align: right;\">\n",
              "      <th></th>\n",
              "      <th>0</th>\n",
              "      <th>1</th>\n",
              "      <th>2</th>\n",
              "      <th>3</th>\n",
              "      <th>4</th>\n",
              "      <th>5</th>\n",
              "      <th>6</th>\n",
              "      <th>7</th>\n",
              "      <th>8</th>\n",
              "      <th>9</th>\n",
              "      <th>...</th>\n",
              "      <th>153</th>\n",
              "      <th>154</th>\n",
              "      <th>155</th>\n",
              "      <th>156</th>\n",
              "      <th>157</th>\n",
              "      <th>158</th>\n",
              "      <th>159</th>\n",
              "      <th>160</th>\n",
              "      <th>161</th>\n",
              "      <th>162</th>\n",
              "    </tr>\n",
              "  </thead>\n",
              "  <tbody>\n",
              "    <tr>\n",
              "      <th>0</th>\n",
              "      <td>-0.066386</td>\n",
              "      <td>0.126572</td>\n",
              "      <td>1.484537</td>\n",
              "      <td>0.941304</td>\n",
              "      <td>-0.064910</td>\n",
              "      <td>1.547051</td>\n",
              "      <td>-0.146771</td>\n",
              "      <td>-0.105832</td>\n",
              "      <td>-0.262071</td>\n",
              "      <td>-0.341966</td>\n",
              "      <td>...</td>\n",
              "      <td>-0.782185</td>\n",
              "      <td>-0.133736</td>\n",
              "      <td>-0.189857</td>\n",
              "      <td>-0.098383</td>\n",
              "      <td>-0.197029</td>\n",
              "      <td>-0.166684</td>\n",
              "      <td>-0.048821</td>\n",
              "      <td>-0.109458</td>\n",
              "      <td>-0.097733</td>\n",
              "      <td>-0.053962</td>\n",
              "    </tr>\n",
              "    <tr>\n",
              "      <th>1</th>\n",
              "      <td>-0.264828</td>\n",
              "      <td>0.126572</td>\n",
              "      <td>1.484537</td>\n",
              "      <td>0.941304</td>\n",
              "      <td>-0.064910</td>\n",
              "      <td>1.547051</td>\n",
              "      <td>-0.146771</td>\n",
              "      <td>-0.105832</td>\n",
              "      <td>-0.262071</td>\n",
              "      <td>-0.341966</td>\n",
              "      <td>...</td>\n",
              "      <td>-0.782185</td>\n",
              "      <td>-0.133736</td>\n",
              "      <td>-0.189857</td>\n",
              "      <td>-0.098383</td>\n",
              "      <td>-0.197029</td>\n",
              "      <td>-0.166684</td>\n",
              "      <td>-0.048821</td>\n",
              "      <td>-0.109458</td>\n",
              "      <td>-0.097733</td>\n",
              "      <td>-0.053962</td>\n",
              "    </tr>\n",
              "    <tr>\n",
              "      <th>2</th>\n",
              "      <td>-0.238742</td>\n",
              "      <td>0.126572</td>\n",
              "      <td>-0.673611</td>\n",
              "      <td>0.941304</td>\n",
              "      <td>-0.064910</td>\n",
              "      <td>1.547051</td>\n",
              "      <td>-0.146771</td>\n",
              "      <td>0.283596</td>\n",
              "      <td>-0.262071</td>\n",
              "      <td>-0.341966</td>\n",
              "      <td>...</td>\n",
              "      <td>-0.782185</td>\n",
              "      <td>-0.133736</td>\n",
              "      <td>-0.189857</td>\n",
              "      <td>-0.098383</td>\n",
              "      <td>-0.197029</td>\n",
              "      <td>-0.166684</td>\n",
              "      <td>-0.048821</td>\n",
              "      <td>-0.109458</td>\n",
              "      <td>-0.097733</td>\n",
              "      <td>-0.053962</td>\n",
              "    </tr>\n",
              "    <tr>\n",
              "      <th>3</th>\n",
              "      <td>-0.286256</td>\n",
              "      <td>0.126572</td>\n",
              "      <td>-0.673611</td>\n",
              "      <td>0.941304</td>\n",
              "      <td>-0.064910</td>\n",
              "      <td>1.547051</td>\n",
              "      <td>-0.146771</td>\n",
              "      <td>0.283596</td>\n",
              "      <td>-0.262071</td>\n",
              "      <td>-0.341966</td>\n",
              "      <td>...</td>\n",
              "      <td>-0.782185</td>\n",
              "      <td>-0.133736</td>\n",
              "      <td>-0.189857</td>\n",
              "      <td>-0.098383</td>\n",
              "      <td>-0.197029</td>\n",
              "      <td>-0.166684</td>\n",
              "      <td>-0.048821</td>\n",
              "      <td>-0.109458</td>\n",
              "      <td>-0.097733</td>\n",
              "      <td>-0.053962</td>\n",
              "    </tr>\n",
              "    <tr>\n",
              "      <th>4</th>\n",
              "      <td>0.283916</td>\n",
              "      <td>0.126572</td>\n",
              "      <td>-0.673611</td>\n",
              "      <td>0.941304</td>\n",
              "      <td>-0.064910</td>\n",
              "      <td>1.547051</td>\n",
              "      <td>-0.146771</td>\n",
              "      <td>0.673024</td>\n",
              "      <td>-0.262071</td>\n",
              "      <td>-0.341966</td>\n",
              "      <td>...</td>\n",
              "      <td>-0.782185</td>\n",
              "      <td>-0.133736</td>\n",
              "      <td>-0.189857</td>\n",
              "      <td>-0.098383</td>\n",
              "      <td>-0.197029</td>\n",
              "      <td>-0.166684</td>\n",
              "      <td>-0.048821</td>\n",
              "      <td>-0.109458</td>\n",
              "      <td>-0.097733</td>\n",
              "      <td>-0.053962</td>\n",
              "    </tr>\n",
              "    <tr>\n",
              "      <th>...</th>\n",
              "      <td>...</td>\n",
              "      <td>...</td>\n",
              "      <td>...</td>\n",
              "      <td>...</td>\n",
              "      <td>...</td>\n",
              "      <td>...</td>\n",
              "      <td>...</td>\n",
              "      <td>...</td>\n",
              "      <td>...</td>\n",
              "      <td>...</td>\n",
              "      <td>...</td>\n",
              "      <td>...</td>\n",
              "      <td>...</td>\n",
              "      <td>...</td>\n",
              "      <td>...</td>\n",
              "      <td>...</td>\n",
              "      <td>...</td>\n",
              "      <td>...</td>\n",
              "      <td>...</td>\n",
              "      <td>...</td>\n",
              "      <td>...</td>\n",
              "    </tr>\n",
              "    <tr>\n",
              "      <th>39947</th>\n",
              "      <td>-0.115763</td>\n",
              "      <td>-0.412365</td>\n",
              "      <td>-0.673611</td>\n",
              "      <td>-0.553542</td>\n",
              "      <td>-0.424809</td>\n",
              "      <td>-0.514244</td>\n",
              "      <td>-0.111336</td>\n",
              "      <td>-0.494358</td>\n",
              "      <td>-0.262071</td>\n",
              "      <td>-0.341966</td>\n",
              "      <td>...</td>\n",
              "      <td>1.278471</td>\n",
              "      <td>-0.133736</td>\n",
              "      <td>-0.189857</td>\n",
              "      <td>-0.098383</td>\n",
              "      <td>-0.197029</td>\n",
              "      <td>-0.166684</td>\n",
              "      <td>-0.048821</td>\n",
              "      <td>-0.109458</td>\n",
              "      <td>-0.097733</td>\n",
              "      <td>-0.053962</td>\n",
              "    </tr>\n",
              "    <tr>\n",
              "      <th>39948</th>\n",
              "      <td>-0.115763</td>\n",
              "      <td>-0.412365</td>\n",
              "      <td>-0.673611</td>\n",
              "      <td>-0.549918</td>\n",
              "      <td>-0.424809</td>\n",
              "      <td>-0.508723</td>\n",
              "      <td>-0.131911</td>\n",
              "      <td>-0.494358</td>\n",
              "      <td>-0.262071</td>\n",
              "      <td>-0.341966</td>\n",
              "      <td>...</td>\n",
              "      <td>1.278471</td>\n",
              "      <td>-0.133736</td>\n",
              "      <td>-0.189857</td>\n",
              "      <td>-0.098383</td>\n",
              "      <td>-0.197029</td>\n",
              "      <td>-0.166684</td>\n",
              "      <td>-0.048821</td>\n",
              "      <td>-0.109458</td>\n",
              "      <td>-0.097733</td>\n",
              "      <td>-0.053962</td>\n",
              "    </tr>\n",
              "    <tr>\n",
              "      <th>39949</th>\n",
              "      <td>-0.052411</td>\n",
              "      <td>0.227622</td>\n",
              "      <td>-0.673611</td>\n",
              "      <td>-0.557166</td>\n",
              "      <td>-0.431918</td>\n",
              "      <td>-0.514244</td>\n",
              "      <td>-0.153629</td>\n",
              "      <td>-0.494358</td>\n",
              "      <td>-0.262071</td>\n",
              "      <td>-0.341966</td>\n",
              "      <td>...</td>\n",
              "      <td>-0.782185</td>\n",
              "      <td>-0.133736</td>\n",
              "      <td>5.267110</td>\n",
              "      <td>-0.098383</td>\n",
              "      <td>-0.197029</td>\n",
              "      <td>-0.166684</td>\n",
              "      <td>-0.048821</td>\n",
              "      <td>-0.109458</td>\n",
              "      <td>-0.097733</td>\n",
              "      <td>-0.053962</td>\n",
              "    </tr>\n",
              "    <tr>\n",
              "      <th>39950</th>\n",
              "      <td>-0.186569</td>\n",
              "      <td>0.294989</td>\n",
              "      <td>-0.673611</td>\n",
              "      <td>-0.553542</td>\n",
              "      <td>-0.431918</td>\n",
              "      <td>-0.508723</td>\n",
              "      <td>-0.153629</td>\n",
              "      <td>-0.494358</td>\n",
              "      <td>-0.262071</td>\n",
              "      <td>-0.341966</td>\n",
              "      <td>...</td>\n",
              "      <td>-0.782185</td>\n",
              "      <td>-0.133736</td>\n",
              "      <td>5.267110</td>\n",
              "      <td>-0.098383</td>\n",
              "      <td>-0.197029</td>\n",
              "      <td>-0.166684</td>\n",
              "      <td>-0.048821</td>\n",
              "      <td>-0.109458</td>\n",
              "      <td>-0.097733</td>\n",
              "      <td>-0.053962</td>\n",
              "    </tr>\n",
              "    <tr>\n",
              "      <th>39951</th>\n",
              "      <td>-0.190296</td>\n",
              "      <td>-0.378681</td>\n",
              "      <td>1.484537</td>\n",
              "      <td>-0.553542</td>\n",
              "      <td>-0.431918</td>\n",
              "      <td>-0.508723</td>\n",
              "      <td>-0.153629</td>\n",
              "      <td>-0.494358</td>\n",
              "      <td>-0.262071</td>\n",
              "      <td>-0.341966</td>\n",
              "      <td>...</td>\n",
              "      <td>-0.782185</td>\n",
              "      <td>-0.133736</td>\n",
              "      <td>-0.189857</td>\n",
              "      <td>-0.098383</td>\n",
              "      <td>5.075386</td>\n",
              "      <td>-0.166684</td>\n",
              "      <td>-0.048821</td>\n",
              "      <td>-0.109458</td>\n",
              "      <td>-0.097733</td>\n",
              "      <td>-0.053962</td>\n",
              "    </tr>\n",
              "  </tbody>\n",
              "</table>\n",
              "<p>39952 rows × 163 columns</p>\n",
              "</div>\n",
              "      <button class=\"colab-df-convert\" onclick=\"convertToInteractive('df-c60b904f-0959-4675-88b8-a9326ff54190')\"\n",
              "              title=\"Convert this dataframe to an interactive table.\"\n",
              "              style=\"display:none;\">\n",
              "        \n",
              "  <svg xmlns=\"http://www.w3.org/2000/svg\" height=\"24px\"viewBox=\"0 0 24 24\"\n",
              "       width=\"24px\">\n",
              "    <path d=\"M0 0h24v24H0V0z\" fill=\"none\"/>\n",
              "    <path d=\"M18.56 5.44l.94 2.06.94-2.06 2.06-.94-2.06-.94-.94-2.06-.94 2.06-2.06.94zm-11 1L8.5 8.5l.94-2.06 2.06-.94-2.06-.94L8.5 2.5l-.94 2.06-2.06.94zm10 10l.94 2.06.94-2.06 2.06-.94-2.06-.94-.94-2.06-.94 2.06-2.06.94z\"/><path d=\"M17.41 7.96l-1.37-1.37c-.4-.4-.92-.59-1.43-.59-.52 0-1.04.2-1.43.59L10.3 9.45l-7.72 7.72c-.78.78-.78 2.05 0 2.83L4 21.41c.39.39.9.59 1.41.59.51 0 1.02-.2 1.41-.59l7.78-7.78 2.81-2.81c.8-.78.8-2.07 0-2.86zM5.41 20L4 18.59l7.72-7.72 1.47 1.35L5.41 20z\"/>\n",
              "  </svg>\n",
              "      </button>\n",
              "      \n",
              "  <style>\n",
              "    .colab-df-container {\n",
              "      display:flex;\n",
              "      flex-wrap:wrap;\n",
              "      gap: 12px;\n",
              "    }\n",
              "\n",
              "    .colab-df-convert {\n",
              "      background-color: #E8F0FE;\n",
              "      border: none;\n",
              "      border-radius: 50%;\n",
              "      cursor: pointer;\n",
              "      display: none;\n",
              "      fill: #1967D2;\n",
              "      height: 32px;\n",
              "      padding: 0 0 0 0;\n",
              "      width: 32px;\n",
              "    }\n",
              "\n",
              "    .colab-df-convert:hover {\n",
              "      background-color: #E2EBFA;\n",
              "      box-shadow: 0px 1px 2px rgba(60, 64, 67, 0.3), 0px 1px 3px 1px rgba(60, 64, 67, 0.15);\n",
              "      fill: #174EA6;\n",
              "    }\n",
              "\n",
              "    [theme=dark] .colab-df-convert {\n",
              "      background-color: #3B4455;\n",
              "      fill: #D2E3FC;\n",
              "    }\n",
              "\n",
              "    [theme=dark] .colab-df-convert:hover {\n",
              "      background-color: #434B5C;\n",
              "      box-shadow: 0px 1px 3px 1px rgba(0, 0, 0, 0.15);\n",
              "      filter: drop-shadow(0px 1px 2px rgba(0, 0, 0, 0.3));\n",
              "      fill: #FFFFFF;\n",
              "    }\n",
              "  </style>\n",
              "\n",
              "      <script>\n",
              "        const buttonEl =\n",
              "          document.querySelector('#df-c60b904f-0959-4675-88b8-a9326ff54190 button.colab-df-convert');\n",
              "        buttonEl.style.display =\n",
              "          google.colab.kernel.accessAllowed ? 'block' : 'none';\n",
              "\n",
              "        async function convertToInteractive(key) {\n",
              "          const element = document.querySelector('#df-c60b904f-0959-4675-88b8-a9326ff54190');\n",
              "          const dataTable =\n",
              "            await google.colab.kernel.invokeFunction('convertToInteractive',\n",
              "                                                     [key], {});\n",
              "          if (!dataTable) return;\n",
              "\n",
              "          const docLinkHtml = 'Like what you see? Visit the ' +\n",
              "            '<a target=\"_blank\" href=https://colab.research.google.com/notebooks/data_table.ipynb>data table notebook</a>'\n",
              "            + ' to learn more about interactive tables.';\n",
              "          element.innerHTML = '';\n",
              "          dataTable['output_type'] = 'display_data';\n",
              "          await google.colab.output.renderOutput(dataTable, element);\n",
              "          const docLink = document.createElement('div');\n",
              "          docLink.innerHTML = docLinkHtml;\n",
              "          element.appendChild(docLink);\n",
              "        }\n",
              "      </script>\n",
              "    </div>\n",
              "  </div>\n",
              "  "
            ]
          },
          "metadata": {},
          "execution_count": 17
        }
      ]
    },
    {
      "cell_type": "code",
      "source": [
        "X = pd.concat([X_nstd, df['Payment_delay']],axis=1, join='inner')\n",
        "X"
      ],
      "metadata": {
        "colab": {
          "base_uri": "https://localhost:8080/",
          "height": 483
        },
        "id": "uT7V6DT-iDn4",
        "outputId": "fefe36b8-f13c-46b1-baba-4dd4e8260fb0"
      },
      "execution_count": null,
      "outputs": [
        {
          "output_type": "execute_result",
          "data": {
            "text/plain": [
              "              0         1         2         3         4         5         6  \\\n",
              "0     -0.066386  0.126572  1.484537  0.941304 -0.064910  1.547051 -0.146771   \n",
              "1     -0.264828  0.126572  1.484537  0.941304 -0.064910  1.547051 -0.146771   \n",
              "2     -0.238742  0.126572 -0.673611  0.941304 -0.064910  1.547051 -0.146771   \n",
              "3     -0.286256  0.126572 -0.673611  0.941304 -0.064910  1.547051 -0.146771   \n",
              "4      0.283916  0.126572 -0.673611  0.941304 -0.064910  1.547051 -0.146771   \n",
              "...         ...       ...       ...       ...       ...       ...       ...   \n",
              "39947 -0.115763 -0.412365 -0.673611 -0.553542 -0.424809 -0.514244 -0.111336   \n",
              "39948 -0.115763 -0.412365 -0.673611 -0.549918 -0.424809 -0.508723 -0.131911   \n",
              "39949 -0.052411  0.227622 -0.673611 -0.557166 -0.431918 -0.514244 -0.153629   \n",
              "39950 -0.186569  0.294989 -0.673611 -0.553542 -0.431918 -0.508723 -0.153629   \n",
              "39951 -0.190296 -0.378681  1.484537 -0.553542 -0.431918 -0.508723 -0.153629   \n",
              "\n",
              "              7         8         9  ...       154       155       156  \\\n",
              "0     -0.105832 -0.262071 -0.341966  ... -0.133736 -0.189857 -0.098383   \n",
              "1     -0.105832 -0.262071 -0.341966  ... -0.133736 -0.189857 -0.098383   \n",
              "2      0.283596 -0.262071 -0.341966  ... -0.133736 -0.189857 -0.098383   \n",
              "3      0.283596 -0.262071 -0.341966  ... -0.133736 -0.189857 -0.098383   \n",
              "4      0.673024 -0.262071 -0.341966  ... -0.133736 -0.189857 -0.098383   \n",
              "...         ...       ...       ...  ...       ...       ...       ...   \n",
              "39947 -0.494358 -0.262071 -0.341966  ... -0.133736 -0.189857 -0.098383   \n",
              "39948 -0.494358 -0.262071 -0.341966  ... -0.133736 -0.189857 -0.098383   \n",
              "39949 -0.494358 -0.262071 -0.341966  ... -0.133736  5.267110 -0.098383   \n",
              "39950 -0.494358 -0.262071 -0.341966  ... -0.133736  5.267110 -0.098383   \n",
              "39951 -0.494358 -0.262071 -0.341966  ... -0.133736 -0.189857 -0.098383   \n",
              "\n",
              "            157       158       159       160       161       162  \\\n",
              "0     -0.197029 -0.166684 -0.048821 -0.109458 -0.097733 -0.053962   \n",
              "1     -0.197029 -0.166684 -0.048821 -0.109458 -0.097733 -0.053962   \n",
              "2     -0.197029 -0.166684 -0.048821 -0.109458 -0.097733 -0.053962   \n",
              "3     -0.197029 -0.166684 -0.048821 -0.109458 -0.097733 -0.053962   \n",
              "4     -0.197029 -0.166684 -0.048821 -0.109458 -0.097733 -0.053962   \n",
              "...         ...       ...       ...       ...       ...       ...   \n",
              "39947 -0.197029 -0.166684 -0.048821 -0.109458 -0.097733 -0.053962   \n",
              "39948 -0.197029 -0.166684 -0.048821 -0.109458 -0.097733 -0.053962   \n",
              "39949 -0.197029 -0.166684 -0.048821 -0.109458 -0.097733 -0.053962   \n",
              "39950 -0.197029 -0.166684 -0.048821 -0.109458 -0.097733 -0.053962   \n",
              "39951  5.075386 -0.166684 -0.048821 -0.109458 -0.097733 -0.053962   \n",
              "\n",
              "       Payment_delay  \n",
              "0                  0  \n",
              "1                  0  \n",
              "2                  0  \n",
              "3                  0  \n",
              "4                  0  \n",
              "...              ...  \n",
              "39947              1  \n",
              "39948              1  \n",
              "39949              1  \n",
              "39950              1  \n",
              "39951              1  \n",
              "\n",
              "[39904 rows x 164 columns]"
            ],
            "text/html": [
              "\n",
              "  <div id=\"df-3b06ef4c-a1cd-4ae1-a983-615a584460dd\">\n",
              "    <div class=\"colab-df-container\">\n",
              "      <div>\n",
              "<style scoped>\n",
              "    .dataframe tbody tr th:only-of-type {\n",
              "        vertical-align: middle;\n",
              "    }\n",
              "\n",
              "    .dataframe tbody tr th {\n",
              "        vertical-align: top;\n",
              "    }\n",
              "\n",
              "    .dataframe thead th {\n",
              "        text-align: right;\n",
              "    }\n",
              "</style>\n",
              "<table border=\"1\" class=\"dataframe\">\n",
              "  <thead>\n",
              "    <tr style=\"text-align: right;\">\n",
              "      <th></th>\n",
              "      <th>0</th>\n",
              "      <th>1</th>\n",
              "      <th>2</th>\n",
              "      <th>3</th>\n",
              "      <th>4</th>\n",
              "      <th>5</th>\n",
              "      <th>6</th>\n",
              "      <th>7</th>\n",
              "      <th>8</th>\n",
              "      <th>9</th>\n",
              "      <th>...</th>\n",
              "      <th>154</th>\n",
              "      <th>155</th>\n",
              "      <th>156</th>\n",
              "      <th>157</th>\n",
              "      <th>158</th>\n",
              "      <th>159</th>\n",
              "      <th>160</th>\n",
              "      <th>161</th>\n",
              "      <th>162</th>\n",
              "      <th>Payment_delay</th>\n",
              "    </tr>\n",
              "  </thead>\n",
              "  <tbody>\n",
              "    <tr>\n",
              "      <th>0</th>\n",
              "      <td>-0.066386</td>\n",
              "      <td>0.126572</td>\n",
              "      <td>1.484537</td>\n",
              "      <td>0.941304</td>\n",
              "      <td>-0.064910</td>\n",
              "      <td>1.547051</td>\n",
              "      <td>-0.146771</td>\n",
              "      <td>-0.105832</td>\n",
              "      <td>-0.262071</td>\n",
              "      <td>-0.341966</td>\n",
              "      <td>...</td>\n",
              "      <td>-0.133736</td>\n",
              "      <td>-0.189857</td>\n",
              "      <td>-0.098383</td>\n",
              "      <td>-0.197029</td>\n",
              "      <td>-0.166684</td>\n",
              "      <td>-0.048821</td>\n",
              "      <td>-0.109458</td>\n",
              "      <td>-0.097733</td>\n",
              "      <td>-0.053962</td>\n",
              "      <td>0</td>\n",
              "    </tr>\n",
              "    <tr>\n",
              "      <th>1</th>\n",
              "      <td>-0.264828</td>\n",
              "      <td>0.126572</td>\n",
              "      <td>1.484537</td>\n",
              "      <td>0.941304</td>\n",
              "      <td>-0.064910</td>\n",
              "      <td>1.547051</td>\n",
              "      <td>-0.146771</td>\n",
              "      <td>-0.105832</td>\n",
              "      <td>-0.262071</td>\n",
              "      <td>-0.341966</td>\n",
              "      <td>...</td>\n",
              "      <td>-0.133736</td>\n",
              "      <td>-0.189857</td>\n",
              "      <td>-0.098383</td>\n",
              "      <td>-0.197029</td>\n",
              "      <td>-0.166684</td>\n",
              "      <td>-0.048821</td>\n",
              "      <td>-0.109458</td>\n",
              "      <td>-0.097733</td>\n",
              "      <td>-0.053962</td>\n",
              "      <td>0</td>\n",
              "    </tr>\n",
              "    <tr>\n",
              "      <th>2</th>\n",
              "      <td>-0.238742</td>\n",
              "      <td>0.126572</td>\n",
              "      <td>-0.673611</td>\n",
              "      <td>0.941304</td>\n",
              "      <td>-0.064910</td>\n",
              "      <td>1.547051</td>\n",
              "      <td>-0.146771</td>\n",
              "      <td>0.283596</td>\n",
              "      <td>-0.262071</td>\n",
              "      <td>-0.341966</td>\n",
              "      <td>...</td>\n",
              "      <td>-0.133736</td>\n",
              "      <td>-0.189857</td>\n",
              "      <td>-0.098383</td>\n",
              "      <td>-0.197029</td>\n",
              "      <td>-0.166684</td>\n",
              "      <td>-0.048821</td>\n",
              "      <td>-0.109458</td>\n",
              "      <td>-0.097733</td>\n",
              "      <td>-0.053962</td>\n",
              "      <td>0</td>\n",
              "    </tr>\n",
              "    <tr>\n",
              "      <th>3</th>\n",
              "      <td>-0.286256</td>\n",
              "      <td>0.126572</td>\n",
              "      <td>-0.673611</td>\n",
              "      <td>0.941304</td>\n",
              "      <td>-0.064910</td>\n",
              "      <td>1.547051</td>\n",
              "      <td>-0.146771</td>\n",
              "      <td>0.283596</td>\n",
              "      <td>-0.262071</td>\n",
              "      <td>-0.341966</td>\n",
              "      <td>...</td>\n",
              "      <td>-0.133736</td>\n",
              "      <td>-0.189857</td>\n",
              "      <td>-0.098383</td>\n",
              "      <td>-0.197029</td>\n",
              "      <td>-0.166684</td>\n",
              "      <td>-0.048821</td>\n",
              "      <td>-0.109458</td>\n",
              "      <td>-0.097733</td>\n",
              "      <td>-0.053962</td>\n",
              "      <td>0</td>\n",
              "    </tr>\n",
              "    <tr>\n",
              "      <th>4</th>\n",
              "      <td>0.283916</td>\n",
              "      <td>0.126572</td>\n",
              "      <td>-0.673611</td>\n",
              "      <td>0.941304</td>\n",
              "      <td>-0.064910</td>\n",
              "      <td>1.547051</td>\n",
              "      <td>-0.146771</td>\n",
              "      <td>0.673024</td>\n",
              "      <td>-0.262071</td>\n",
              "      <td>-0.341966</td>\n",
              "      <td>...</td>\n",
              "      <td>-0.133736</td>\n",
              "      <td>-0.189857</td>\n",
              "      <td>-0.098383</td>\n",
              "      <td>-0.197029</td>\n",
              "      <td>-0.166684</td>\n",
              "      <td>-0.048821</td>\n",
              "      <td>-0.109458</td>\n",
              "      <td>-0.097733</td>\n",
              "      <td>-0.053962</td>\n",
              "      <td>0</td>\n",
              "    </tr>\n",
              "    <tr>\n",
              "      <th>...</th>\n",
              "      <td>...</td>\n",
              "      <td>...</td>\n",
              "      <td>...</td>\n",
              "      <td>...</td>\n",
              "      <td>...</td>\n",
              "      <td>...</td>\n",
              "      <td>...</td>\n",
              "      <td>...</td>\n",
              "      <td>...</td>\n",
              "      <td>...</td>\n",
              "      <td>...</td>\n",
              "      <td>...</td>\n",
              "      <td>...</td>\n",
              "      <td>...</td>\n",
              "      <td>...</td>\n",
              "      <td>...</td>\n",
              "      <td>...</td>\n",
              "      <td>...</td>\n",
              "      <td>...</td>\n",
              "      <td>...</td>\n",
              "      <td>...</td>\n",
              "    </tr>\n",
              "    <tr>\n",
              "      <th>39947</th>\n",
              "      <td>-0.115763</td>\n",
              "      <td>-0.412365</td>\n",
              "      <td>-0.673611</td>\n",
              "      <td>-0.553542</td>\n",
              "      <td>-0.424809</td>\n",
              "      <td>-0.514244</td>\n",
              "      <td>-0.111336</td>\n",
              "      <td>-0.494358</td>\n",
              "      <td>-0.262071</td>\n",
              "      <td>-0.341966</td>\n",
              "      <td>...</td>\n",
              "      <td>-0.133736</td>\n",
              "      <td>-0.189857</td>\n",
              "      <td>-0.098383</td>\n",
              "      <td>-0.197029</td>\n",
              "      <td>-0.166684</td>\n",
              "      <td>-0.048821</td>\n",
              "      <td>-0.109458</td>\n",
              "      <td>-0.097733</td>\n",
              "      <td>-0.053962</td>\n",
              "      <td>1</td>\n",
              "    </tr>\n",
              "    <tr>\n",
              "      <th>39948</th>\n",
              "      <td>-0.115763</td>\n",
              "      <td>-0.412365</td>\n",
              "      <td>-0.673611</td>\n",
              "      <td>-0.549918</td>\n",
              "      <td>-0.424809</td>\n",
              "      <td>-0.508723</td>\n",
              "      <td>-0.131911</td>\n",
              "      <td>-0.494358</td>\n",
              "      <td>-0.262071</td>\n",
              "      <td>-0.341966</td>\n",
              "      <td>...</td>\n",
              "      <td>-0.133736</td>\n",
              "      <td>-0.189857</td>\n",
              "      <td>-0.098383</td>\n",
              "      <td>-0.197029</td>\n",
              "      <td>-0.166684</td>\n",
              "      <td>-0.048821</td>\n",
              "      <td>-0.109458</td>\n",
              "      <td>-0.097733</td>\n",
              "      <td>-0.053962</td>\n",
              "      <td>1</td>\n",
              "    </tr>\n",
              "    <tr>\n",
              "      <th>39949</th>\n",
              "      <td>-0.052411</td>\n",
              "      <td>0.227622</td>\n",
              "      <td>-0.673611</td>\n",
              "      <td>-0.557166</td>\n",
              "      <td>-0.431918</td>\n",
              "      <td>-0.514244</td>\n",
              "      <td>-0.153629</td>\n",
              "      <td>-0.494358</td>\n",
              "      <td>-0.262071</td>\n",
              "      <td>-0.341966</td>\n",
              "      <td>...</td>\n",
              "      <td>-0.133736</td>\n",
              "      <td>5.267110</td>\n",
              "      <td>-0.098383</td>\n",
              "      <td>-0.197029</td>\n",
              "      <td>-0.166684</td>\n",
              "      <td>-0.048821</td>\n",
              "      <td>-0.109458</td>\n",
              "      <td>-0.097733</td>\n",
              "      <td>-0.053962</td>\n",
              "      <td>1</td>\n",
              "    </tr>\n",
              "    <tr>\n",
              "      <th>39950</th>\n",
              "      <td>-0.186569</td>\n",
              "      <td>0.294989</td>\n",
              "      <td>-0.673611</td>\n",
              "      <td>-0.553542</td>\n",
              "      <td>-0.431918</td>\n",
              "      <td>-0.508723</td>\n",
              "      <td>-0.153629</td>\n",
              "      <td>-0.494358</td>\n",
              "      <td>-0.262071</td>\n",
              "      <td>-0.341966</td>\n",
              "      <td>...</td>\n",
              "      <td>-0.133736</td>\n",
              "      <td>5.267110</td>\n",
              "      <td>-0.098383</td>\n",
              "      <td>-0.197029</td>\n",
              "      <td>-0.166684</td>\n",
              "      <td>-0.048821</td>\n",
              "      <td>-0.109458</td>\n",
              "      <td>-0.097733</td>\n",
              "      <td>-0.053962</td>\n",
              "      <td>1</td>\n",
              "    </tr>\n",
              "    <tr>\n",
              "      <th>39951</th>\n",
              "      <td>-0.190296</td>\n",
              "      <td>-0.378681</td>\n",
              "      <td>1.484537</td>\n",
              "      <td>-0.553542</td>\n",
              "      <td>-0.431918</td>\n",
              "      <td>-0.508723</td>\n",
              "      <td>-0.153629</td>\n",
              "      <td>-0.494358</td>\n",
              "      <td>-0.262071</td>\n",
              "      <td>-0.341966</td>\n",
              "      <td>...</td>\n",
              "      <td>-0.133736</td>\n",
              "      <td>-0.189857</td>\n",
              "      <td>-0.098383</td>\n",
              "      <td>5.075386</td>\n",
              "      <td>-0.166684</td>\n",
              "      <td>-0.048821</td>\n",
              "      <td>-0.109458</td>\n",
              "      <td>-0.097733</td>\n",
              "      <td>-0.053962</td>\n",
              "      <td>1</td>\n",
              "    </tr>\n",
              "  </tbody>\n",
              "</table>\n",
              "<p>39904 rows × 164 columns</p>\n",
              "</div>\n",
              "      <button class=\"colab-df-convert\" onclick=\"convertToInteractive('df-3b06ef4c-a1cd-4ae1-a983-615a584460dd')\"\n",
              "              title=\"Convert this dataframe to an interactive table.\"\n",
              "              style=\"display:none;\">\n",
              "        \n",
              "  <svg xmlns=\"http://www.w3.org/2000/svg\" height=\"24px\"viewBox=\"0 0 24 24\"\n",
              "       width=\"24px\">\n",
              "    <path d=\"M0 0h24v24H0V0z\" fill=\"none\"/>\n",
              "    <path d=\"M18.56 5.44l.94 2.06.94-2.06 2.06-.94-2.06-.94-.94-2.06-.94 2.06-2.06.94zm-11 1L8.5 8.5l.94-2.06 2.06-.94-2.06-.94L8.5 2.5l-.94 2.06-2.06.94zm10 10l.94 2.06.94-2.06 2.06-.94-2.06-.94-.94-2.06-.94 2.06-2.06.94z\"/><path d=\"M17.41 7.96l-1.37-1.37c-.4-.4-.92-.59-1.43-.59-.52 0-1.04.2-1.43.59L10.3 9.45l-7.72 7.72c-.78.78-.78 2.05 0 2.83L4 21.41c.39.39.9.59 1.41.59.51 0 1.02-.2 1.41-.59l7.78-7.78 2.81-2.81c.8-.78.8-2.07 0-2.86zM5.41 20L4 18.59l7.72-7.72 1.47 1.35L5.41 20z\"/>\n",
              "  </svg>\n",
              "      </button>\n",
              "      \n",
              "  <style>\n",
              "    .colab-df-container {\n",
              "      display:flex;\n",
              "      flex-wrap:wrap;\n",
              "      gap: 12px;\n",
              "    }\n",
              "\n",
              "    .colab-df-convert {\n",
              "      background-color: #E8F0FE;\n",
              "      border: none;\n",
              "      border-radius: 50%;\n",
              "      cursor: pointer;\n",
              "      display: none;\n",
              "      fill: #1967D2;\n",
              "      height: 32px;\n",
              "      padding: 0 0 0 0;\n",
              "      width: 32px;\n",
              "    }\n",
              "\n",
              "    .colab-df-convert:hover {\n",
              "      background-color: #E2EBFA;\n",
              "      box-shadow: 0px 1px 2px rgba(60, 64, 67, 0.3), 0px 1px 3px 1px rgba(60, 64, 67, 0.15);\n",
              "      fill: #174EA6;\n",
              "    }\n",
              "\n",
              "    [theme=dark] .colab-df-convert {\n",
              "      background-color: #3B4455;\n",
              "      fill: #D2E3FC;\n",
              "    }\n",
              "\n",
              "    [theme=dark] .colab-df-convert:hover {\n",
              "      background-color: #434B5C;\n",
              "      box-shadow: 0px 1px 3px 1px rgba(0, 0, 0, 0.15);\n",
              "      filter: drop-shadow(0px 1px 2px rgba(0, 0, 0, 0.3));\n",
              "      fill: #FFFFFF;\n",
              "    }\n",
              "  </style>\n",
              "\n",
              "      <script>\n",
              "        const buttonEl =\n",
              "          document.querySelector('#df-3b06ef4c-a1cd-4ae1-a983-615a584460dd button.colab-df-convert');\n",
              "        buttonEl.style.display =\n",
              "          google.colab.kernel.accessAllowed ? 'block' : 'none';\n",
              "\n",
              "        async function convertToInteractive(key) {\n",
              "          const element = document.querySelector('#df-3b06ef4c-a1cd-4ae1-a983-615a584460dd');\n",
              "          const dataTable =\n",
              "            await google.colab.kernel.invokeFunction('convertToInteractive',\n",
              "                                                     [key], {});\n",
              "          if (!dataTable) return;\n",
              "\n",
              "          const docLinkHtml = 'Like what you see? Visit the ' +\n",
              "            '<a target=\"_blank\" href=https://colab.research.google.com/notebooks/data_table.ipynb>data table notebook</a>'\n",
              "            + ' to learn more about interactive tables.';\n",
              "          element.innerHTML = '';\n",
              "          dataTable['output_type'] = 'display_data';\n",
              "          await google.colab.output.renderOutput(dataTable, element);\n",
              "          const docLink = document.createElement('div');\n",
              "          docLink.innerHTML = docLinkHtml;\n",
              "          element.appendChild(docLink);\n",
              "        }\n",
              "      </script>\n",
              "    </div>\n",
              "  </div>\n",
              "  "
            ]
          },
          "metadata": {},
          "execution_count": 18
        }
      ]
    },
    {
      "cell_type": "code",
      "source": [
        "#Splitting dataset to form validation set\n",
        "def split(df):\n",
        "  x_train, x_val, y_train, y_val = train_test_split(df.drop(['Payment_delay'], axis=1), \\\n",
        "                                                  df['Payment_delay'].astype('int'),\n",
        "                                                    test_size=0.20,shuffle=True,\n",
        "                                                    random_state=0,\n",
        "                                                    stratify=df['Payment_delay'])\n",
        "  return x_train, x_val, y_train, y_val"
      ],
      "metadata": {
        "id": "A9pZ7V7FcL0C"
      },
      "execution_count": null,
      "outputs": []
    },
    {
      "cell_type": "code",
      "source": [
        "#Prediction report\n",
        "from sklearn.metrics import matthews_corrcoef\n",
        "def evaluate_model(y_true, y_pred, index_values):\n",
        "  print('Classification report')\n",
        "  print('-'*75)\n",
        "  print(classification_report(y_true,y_pred))\n",
        "  print('Confusion matrix')\n",
        "  print('-'*75)\n",
        "  cm = confusion_matrix(y_true, y_pred)\n",
        "  cm_df = pd.DataFrame(cm.T, index=index_values, columns=index_values)\n",
        "  cm_df.index.name = 'Predicted'\n",
        "  cm_df.columns.name = 'True'\n",
        "  print(cm_df)\n",
        "  print('')\n",
        "  print('Matthew Correlation coefficient')\n",
        "  print('-'*75)\n",
        "  print( matthews_corrcoef(y_true, y_pred))"
      ],
      "metadata": {
        "id": "wrFwLGJ4iXuT"
      },
      "execution_count": null,
      "outputs": []
    },
    {
      "cell_type": "code",
      "source": [
        "#Over sampling and under sampling\n",
        "def sampling_strategy(kind = \"SMOTETOMEK\"):\n",
        "  if(kind == \"SMOTE\"):\n",
        "    oversample = SMOTE(random_state=42)\n",
        "    X, y = oversample.fit_resample(x_train, y_train)\n",
        "  else:\n",
        "    smt = SMOTETomek(random_state=42)\n",
        "    X, y = smt.fit_resample(x_train, y_train)\n",
        "\n",
        "  return X,y"
      ],
      "metadata": {
        "id": "FRYImcboiaTb"
      },
      "execution_count": null,
      "outputs": []
    },
    {
      "cell_type": "code",
      "source": [
        "#Class-wise distribution of target field\n",
        "x_train, x_test, y_train, y_test = split(X)\n",
        "train = pd.concat([x_train,y_train],axis=1)\n",
        "test = pd.concat([x_test, y_test],axis=1)\n",
        "print(\"Train dataset\")\n",
        "print(train['Payment_delay'].value_counts())\n",
        "print(\"Test dataset\")\n",
        "print(test['Payment_delay'].value_counts())"
      ],
      "metadata": {
        "colab": {
          "base_uri": "https://localhost:8080/"
        },
        "id": "btR7f7ujicNC",
        "outputId": "7561a9b3-c905-4dec-abfe-0c38490ff771"
      },
      "execution_count": null,
      "outputs": [
        {
          "output_type": "stream",
          "name": "stdout",
          "text": [
            "Train dataset\n",
            "0    19458\n",
            "1    11438\n",
            "2      763\n",
            "3      162\n",
            "4      102\n",
            "Name: Payment_delay, dtype: int64\n",
            "Test dataset\n",
            "0    4865\n",
            "1    2859\n",
            "2     191\n",
            "3      41\n",
            "4      25\n",
            "Name: Payment_delay, dtype: int64\n"
          ]
        }
      ]
    },
    {
      "cell_type": "markdown",
      "source": [
        "# **Model Baseline**"
      ],
      "metadata": {
        "id": "ALu1Xk8Kim-f"
      }
    },
    {
      "cell_type": "markdown",
      "source": [
        "(a) LGBM classifier"
      ],
      "metadata": {
        "id": "c-nI1inNipXB"
      }
    },
    {
      "cell_type": "code",
      "source": [
        "model1 = lgb.LGBMClassifier(random_state=0, n_estimators=500,\n",
        "                           learning_rate=0.1, num_leaves=31,\n",
        "                           is_unbalance=True)"
      ],
      "metadata": {
        "id": "CqVFXCAyih0Q"
      },
      "execution_count": null,
      "outputs": []
    },
    {
      "cell_type": "code",
      "source": [
        "index_values = list(train.sort_values(by=\"Payment_delay\")['Payment_delay'].unique())\n",
        "x_train, x_val, y_train, y_val = split(train)\n",
        "\n",
        "model1.fit(x_train, y_train, eval_set=(x_val,y_val), verbose=0)\n",
        "val_pred = model1.predict(x_val)\n",
        "\n",
        "evaluate_model(y_val, val_pred, index_values)"
      ],
      "metadata": {
        "colab": {
          "base_uri": "https://localhost:8080/"
        },
        "id": "73Fio-qiiwET",
        "outputId": "348f9e82-1f7d-4dd0-b071-7920045169b2"
      },
      "execution_count": null,
      "outputs": [
        {
          "output_type": "stream",
          "name": "stdout",
          "text": [
            "Classification report\n",
            "---------------------------------------------------------------------------\n",
            "              precision    recall  f1-score   support\n",
            "\n",
            "           0       0.71      0.86      0.78      3892\n",
            "           1       0.62      0.43      0.51      2288\n",
            "           2       0.38      0.12      0.18       153\n",
            "           3       0.27      0.09      0.14        32\n",
            "           4       0.17      0.05      0.08        20\n",
            "\n",
            "    accuracy                           0.68      6385\n",
            "   macro avg       0.43      0.31      0.34      6385\n",
            "weighted avg       0.67      0.68      0.66      6385\n",
            "\n",
            "Confusion matrix\n",
            "---------------------------------------------------------------------------\n",
            "True          0     1   2   3   4\n",
            "Predicted                        \n",
            "0          3362  1279  73  19  15\n",
            "1           519   981  59  10   3\n",
            "2             8    22  18   0   0\n",
            "3             2     3   2   3   1\n",
            "4             1     3   1   0   1\n",
            "\n",
            "Matthew Correlation coefficient\n",
            "---------------------------------------------------------------------------\n",
            "0.32313416901295317\n"
          ]
        }
      ]
    },
    {
      "cell_type": "markdown",
      "source": [
        "(b) Random Forest Classifier"
      ],
      "metadata": {
        "id": "hg2DRd-Ji48Q"
      }
    },
    {
      "cell_type": "code",
      "source": [
        "model2 = RandomForestClassifier(max_depth=2, random_state=0)"
      ],
      "metadata": {
        "id": "CVBDN6pdi2IT"
      },
      "execution_count": null,
      "outputs": []
    },
    {
      "cell_type": "code",
      "source": [
        "index_values = list(train.sort_values(by=\"Payment_delay\")['Payment_delay'].unique())\n",
        "x_train, x_val, y_train, y_val = split(train)\n",
        "\n",
        "model2.fit(x_train, y_train)\n",
        "val_pred = model2.predict(x_val)\n",
        "\n",
        "evaluate_model(y_val, val_pred, index_values)"
      ],
      "metadata": {
        "colab": {
          "base_uri": "https://localhost:8080/"
        },
        "id": "0TUK0JpGjOqW",
        "outputId": "036f725b-cb49-4920-d337-98c7cca3d351"
      },
      "execution_count": null,
      "outputs": [
        {
          "output_type": "stream",
          "name": "stdout",
          "text": [
            "Classification report\n",
            "---------------------------------------------------------------------------\n",
            "              precision    recall  f1-score   support\n",
            "\n",
            "           0       0.61      1.00      0.76      3892\n",
            "           1       0.79      0.00      0.01      2288\n",
            "           2       0.00      0.00      0.00       153\n",
            "           3       0.00      0.00      0.00        32\n",
            "           4       0.00      0.00      0.00        20\n",
            "\n",
            "    accuracy                           0.61      6385\n",
            "   macro avg       0.28      0.20      0.15      6385\n",
            "weighted avg       0.65      0.61      0.47      6385\n",
            "\n",
            "Confusion matrix\n",
            "---------------------------------------------------------------------------\n",
            "True          0     1    2   3   4\n",
            "Predicted                         \n",
            "0          3889  2277  153  32  20\n",
            "1             3    11    0   0   0\n",
            "2             0     0    0   0   0\n",
            "3             0     0    0   0   0\n",
            "4             0     0    0   0   0\n",
            "\n",
            "Matthew Correlation coefficient\n",
            "---------------------------------------------------------------------------\n",
            "0.038585127185800774\n"
          ]
        }
      ]
    },
    {
      "cell_type": "markdown",
      "source": [
        "(c) Catboost Classifier"
      ],
      "metadata": {
        "id": "O1qy_RyajTfa"
      }
    },
    {
      "cell_type": "code",
      "source": [
        "model3 = catboost.CatBoostClassifier(n_estimators=2500,random_state=0, learning_rate=0.03, verbose=100, early_stopping_rounds=50,auto_class_weights=\"Balanced\")"
      ],
      "metadata": {
        "id": "GH8MV_7KjTJB"
      },
      "execution_count": null,
      "outputs": []
    },
    {
      "cell_type": "code",
      "source": [
        "index_values = list(train.sort_values(by=\"Payment_delay\")['Payment_delay'].unique())\n",
        "x_train, x_val, y_train, y_val = split(train)\n",
        "\n",
        "model3.fit(x_train, y_train)\n",
        "val_pred = model3.predict(x_val)\n",
        "\n",
        "evaluate_model(y_val, val_pred, index_values)"
      ],
      "metadata": {
        "colab": {
          "base_uri": "https://localhost:8080/"
        },
        "id": "peSlF4-ajfEa",
        "outputId": "42cfa696-a960-4632-a9bc-41d8799921fa"
      },
      "execution_count": null,
      "outputs": [
        {
          "output_type": "stream",
          "name": "stdout",
          "text": [
            "0:\tlearn: 1.6033206\ttotal: 116ms\tremaining: 4m 49s\n",
            "100:\tlearn: 1.2782714\ttotal: 5.58s\tremaining: 2m 12s\n",
            "200:\tlearn: 1.1182104\ttotal: 11s\tremaining: 2m 6s\n",
            "300:\tlearn: 1.0040625\ttotal: 16.6s\tremaining: 2m 1s\n",
            "400:\tlearn: 0.8927708\ttotal: 24.1s\tremaining: 2m 6s\n",
            "500:\tlearn: 0.7940240\ttotal: 29.6s\tremaining: 1m 58s\n",
            "600:\tlearn: 0.7232505\ttotal: 35.5s\tremaining: 1m 52s\n",
            "700:\tlearn: 0.6688025\ttotal: 41.8s\tremaining: 1m 47s\n",
            "800:\tlearn: 0.6253095\ttotal: 47.2s\tremaining: 1m 40s\n",
            "900:\tlearn: 0.5885245\ttotal: 52.7s\tremaining: 1m 33s\n",
            "1000:\tlearn: 0.5595472\ttotal: 58.2s\tremaining: 1m 27s\n",
            "1100:\tlearn: 0.5339563\ttotal: 1m 3s\tremaining: 1m 20s\n",
            "1200:\tlearn: 0.5130819\ttotal: 1m 9s\tremaining: 1m 14s\n",
            "1300:\tlearn: 0.4932190\ttotal: 1m 14s\tremaining: 1m 8s\n",
            "1400:\tlearn: 0.4756562\ttotal: 1m 19s\tremaining: 1m 2s\n",
            "1500:\tlearn: 0.4598861\ttotal: 1m 25s\tremaining: 56.8s\n",
            "1600:\tlearn: 0.4450983\ttotal: 1m 30s\tremaining: 51s\n",
            "1700:\tlearn: 0.4316591\ttotal: 1m 36s\tremaining: 45.2s\n",
            "1800:\tlearn: 0.4202202\ttotal: 1m 41s\tremaining: 39.5s\n",
            "1900:\tlearn: 0.4091428\ttotal: 1m 47s\tremaining: 33.8s\n",
            "2000:\tlearn: 0.3993564\ttotal: 1m 52s\tremaining: 28.1s\n",
            "2100:\tlearn: 0.3899035\ttotal: 1m 58s\tremaining: 22.4s\n",
            "2200:\tlearn: 0.3815383\ttotal: 2m 3s\tremaining: 16.8s\n",
            "2300:\tlearn: 0.3735610\ttotal: 2m 8s\tremaining: 11.2s\n",
            "2400:\tlearn: 0.3662536\ttotal: 2m 14s\tremaining: 5.54s\n",
            "2499:\tlearn: 0.3595082\ttotal: 2m 20s\tremaining: 0us\n",
            "Classification report\n",
            "---------------------------------------------------------------------------\n",
            "              precision    recall  f1-score   support\n",
            "\n",
            "           0       0.73      0.69      0.71      3892\n",
            "           1       0.51      0.52      0.52      2288\n",
            "           2       0.14      0.28      0.19       153\n",
            "           3       0.13      0.22      0.16        32\n",
            "           4       0.10      0.15      0.12        20\n",
            "\n",
            "    accuracy                           0.62      6385\n",
            "   macro avg       0.32      0.37      0.34      6385\n",
            "weighted avg       0.63      0.62      0.62      6385\n",
            "\n",
            "Confusion matrix\n",
            "---------------------------------------------------------------------------\n",
            "True          0     1   2   3   4\n",
            "Predicted                        \n",
            "0          2689   914  47  10  10\n",
            "1          1069  1196  55   9   3\n",
            "2           105   143  43   4   3\n",
            "3            17    23   6   7   1\n",
            "4            12    12   2   2   3\n",
            "\n",
            "Matthew Correlation coefficient\n",
            "---------------------------------------------------------------------------\n",
            "0.26015168699233\n"
          ]
        }
      ]
    },
    {
      "cell_type": "markdown",
      "source": [
        "# **SMOTE AND SMOTETOMEK sampling strategy on classifiers**"
      ],
      "metadata": {
        "id": "EInpYzpgjyLi"
      }
    },
    {
      "cell_type": "markdown",
      "source": [
        "**(a) On LGBM classifier**"
      ],
      "metadata": {
        "id": "IZhjZIdIj2xj"
      }
    },
    {
      "cell_type": "markdown",
      "source": [
        "(i) SMOTE sampling strategy"
      ],
      "metadata": {
        "id": "xU-ri6nlj8Uv"
      }
    },
    {
      "cell_type": "code",
      "source": [
        "index_values = list(train.sort_values(by=\"Payment_delay\")['Payment_delay'].unique())\n",
        "x_train, x_val, y_train, y_val = split(train)\n",
        "\n",
        "X,y = sampling_strategy(\"SMOTE\")\n",
        "model1.fit(X, y, eval_set=(x_val,y_val), verbose=0)\n",
        "val_pred = model1.predict(x_val)\n",
        "\n",
        "evaluate_model(y_val, val_pred, index_values)"
      ],
      "metadata": {
        "colab": {
          "base_uri": "https://localhost:8080/"
        },
        "id": "DhhHyuXXj74I",
        "outputId": "f52bd0d3-5b30-4071-be6f-c6ea72a51357"
      },
      "execution_count": null,
      "outputs": [
        {
          "output_type": "stream",
          "name": "stdout",
          "text": [
            "Classification report\n",
            "---------------------------------------------------------------------------\n",
            "              precision    recall  f1-score   support\n",
            "\n",
            "           0       0.71      0.84      0.77      3892\n",
            "           1       0.61      0.46      0.52      2288\n",
            "           2       0.32      0.10      0.15       153\n",
            "           3       0.40      0.19      0.26        32\n",
            "           4       0.40      0.10      0.16        20\n",
            "\n",
            "    accuracy                           0.68      6385\n",
            "   macro avg       0.49      0.34      0.37      6385\n",
            "weighted avg       0.66      0.68      0.66      6385\n",
            "\n",
            "Confusion matrix\n",
            "---------------------------------------------------------------------------\n",
            "True          0     1   2   3   4\n",
            "Predicted                        \n",
            "0          3279  1218  72  19  15\n",
            "1           600  1046  59   7   3\n",
            "2            11    21  15   0   0\n",
            "3             1     3   5   6   0\n",
            "4             1     0   2   0   2\n",
            "\n",
            "Matthew Correlation coefficient\n",
            "---------------------------------------------------------------------------\n",
            "0.3214039444221805\n"
          ]
        }
      ]
    },
    {
      "cell_type": "markdown",
      "source": [
        "(ii) SMOTETOMEK sampling strategy"
      ],
      "metadata": {
        "id": "tNFwdMsMkDwj"
      }
    },
    {
      "cell_type": "code",
      "source": [
        "index_values = list(train.sort_values(by=\"Payment_delay\")['Payment_delay'].unique())\n",
        "x_train, x_val, y_train, y_val = split(train)\n",
        "\n",
        "X,y = sampling_strategy(\"SMOTETOMEK\")\n",
        "model1.fit(X, y, eval_set=(x_val,y_val), verbose=0)\n",
        "val_pred = model1.predict(x_val)\n",
        "\n",
        "evaluate_model(y_val, val_pred, index_values)"
      ],
      "metadata": {
        "colab": {
          "base_uri": "https://localhost:8080/"
        },
        "id": "7LW8rz3EkFh0",
        "outputId": "00b3226e-88c5-4859-815c-9346479c1ac7"
      },
      "execution_count": null,
      "outputs": [
        {
          "output_type": "stream",
          "name": "stdout",
          "text": [
            "Classification report\n",
            "---------------------------------------------------------------------------\n",
            "              precision    recall  f1-score   support\n",
            "\n",
            "           0       0.70      0.85      0.77      3892\n",
            "           1       0.61      0.42      0.50      2288\n",
            "           2       0.31      0.11      0.16       153\n",
            "           3       0.31      0.16      0.21        32\n",
            "           4       0.00      0.00      0.00        20\n",
            "\n",
            "    accuracy                           0.67      6385\n",
            "   macro avg       0.39      0.31      0.33      6385\n",
            "weighted avg       0.65      0.67      0.65      6385\n",
            "\n",
            "Confusion matrix\n",
            "---------------------------------------------------------------------------\n",
            "True          0     1   2   3   4\n",
            "Predicted                        \n",
            "0          3310  1287  79  20  16\n",
            "1           569   969  50   7   4\n",
            "2             9    28  17   0   0\n",
            "3             2     4   5   5   0\n",
            "4             2     0   2   0   0\n",
            "\n",
            "Matthew Correlation coefficient\n",
            "---------------------------------------------------------------------------\n",
            "0.3022029811701954\n"
          ]
        }
      ]
    },
    {
      "cell_type": "markdown",
      "source": [
        "**(b) Random Forest Classifier**"
      ],
      "metadata": {
        "id": "TZnqckUzkKxg"
      }
    },
    {
      "cell_type": "markdown",
      "source": [
        "(i) SMOTE sampling strategy"
      ],
      "metadata": {
        "id": "DaQQkHJLkNeQ"
      }
    },
    {
      "cell_type": "code",
      "source": [
        "index_values = list(train.sort_values(by=\"Payment_delay\")['Payment_delay'].unique())\n",
        "x_train, x_val, y_train, y_val = split(train)\n",
        "\n",
        "X,y = sampling_strategy(\"SMOTE\")\n",
        "model2.fit(X, y)\n",
        "val_pred = model2.predict(x_val)\n",
        "\n",
        "evaluate_model(y_val, val_pred, index_values)"
      ],
      "metadata": {
        "colab": {
          "base_uri": "https://localhost:8080/"
        },
        "id": "4bOTwOZlkPAp",
        "outputId": "df2e1027-b01c-424e-a0e5-78829a85dc42"
      },
      "execution_count": null,
      "outputs": [
        {
          "output_type": "stream",
          "name": "stdout",
          "text": [
            "Classification report\n",
            "---------------------------------------------------------------------------\n",
            "              precision    recall  f1-score   support\n",
            "\n",
            "           0       0.65      0.74      0.69      3892\n",
            "           1       0.44      0.06      0.11      2288\n",
            "           2       0.06      0.13      0.08       153\n",
            "           3       0.02      0.25      0.03        32\n",
            "           4       0.00      0.15      0.01        20\n",
            "\n",
            "    accuracy                           0.48      6385\n",
            "   macro avg       0.23      0.27      0.18      6385\n",
            "weighted avg       0.55      0.48      0.46      6385\n",
            "\n",
            "Confusion matrix\n",
            "---------------------------------------------------------------------------\n",
            "True          0     1   2   3   4\n",
            "Predicted                        \n",
            "0          2880  1436  88  17  15\n",
            "1           183   146   4   1   1\n",
            "2           171   165  20   2   0\n",
            "3           206   205  14   8   1\n",
            "4           452   336  27   4   3\n",
            "\n",
            "Matthew Correlation coefficient\n",
            "---------------------------------------------------------------------------\n",
            "0.06952336209627517\n"
          ]
        }
      ]
    },
    {
      "cell_type": "markdown",
      "source": [
        "(ii) SMOTETOMEK sampling strategy"
      ],
      "metadata": {
        "id": "f8PsuhP7kV0F"
      }
    },
    {
      "cell_type": "code",
      "source": [
        "index_values = list(train.sort_values(by=\"Payment_delay\")['Payment_delay'].unique())\n",
        "x_train, x_val, y_train, y_val = split(train)\n",
        "\n",
        "X,y = sampling_strategy(\"SMOTETOMEK\")\n",
        "model2.fit(X, y)\n",
        "val_pred = model2.predict(x_val)\n",
        "\n",
        "evaluate_model(y_val, val_pred, index_values)"
      ],
      "metadata": {
        "colab": {
          "base_uri": "https://localhost:8080/"
        },
        "id": "XKkpxvXikWd8",
        "outputId": "47c79635-8008-4194-9cbd-542a7976f11a"
      },
      "execution_count": null,
      "outputs": [
        {
          "output_type": "stream",
          "name": "stdout",
          "text": [
            "Classification report\n",
            "---------------------------------------------------------------------------\n",
            "              precision    recall  f1-score   support\n",
            "\n",
            "           0       0.66      0.55      0.60      3892\n",
            "           1       0.62      0.01      0.02      2288\n",
            "           2       0.03      0.27      0.06       153\n",
            "           3       0.02      0.28      0.03        32\n",
            "           4       0.00      0.15      0.00        20\n",
            "\n",
            "    accuracy                           0.35      6385\n",
            "   macro avg       0.27      0.25      0.14      6385\n",
            "weighted avg       0.63      0.35      0.37      6385\n",
            "\n",
            "Confusion matrix\n",
            "---------------------------------------------------------------------------\n",
            "True          0     1   2   3   4\n",
            "Predicted                        \n",
            "0          2130  1023  60  12  11\n",
            "1            12    20   0   0   0\n",
            "2           709   479  41   6   3\n",
            "3           287   257  19   9   3\n",
            "4           754   509  33   5   3\n",
            "\n",
            "Matthew Correlation coefficient\n",
            "---------------------------------------------------------------------------\n",
            "0.04991605878359671\n"
          ]
        }
      ]
    },
    {
      "cell_type": "markdown",
      "source": [
        "**(c) Catboost classifier**"
      ],
      "metadata": {
        "id": "VkHbiufUkeOk"
      }
    },
    {
      "cell_type": "markdown",
      "source": [
        "(i) SMOTE sampling strategy"
      ],
      "metadata": {
        "id": "3DPMPyNWlPnO"
      }
    },
    {
      "cell_type": "code",
      "source": [
        "index_values = list(train.sort_values(by=\"Payment_delay\")['Payment_delay'].unique())\n",
        "x_train, x_val, y_train, y_val = split(train)\n",
        "\n",
        "X,y = sampling_strategy(\"SMOTE\")\n",
        "model3.fit(X, y, eval_set=(x_val,y_val), verbose=0)\n",
        "val_pred = model3.predict(x_val)\n",
        "\n",
        "evaluate_model(y_val, val_pred, index_values)"
      ],
      "metadata": {
        "colab": {
          "base_uri": "https://localhost:8080/"
        },
        "id": "y6tUs7JulPHN",
        "outputId": "5679532a-b647-4bf4-cd49-74ec40b10a67"
      },
      "execution_count": null,
      "outputs": [
        {
          "output_type": "stream",
          "name": "stdout",
          "text": [
            "Classification report\n",
            "---------------------------------------------------------------------------\n",
            "              precision    recall  f1-score   support\n",
            "\n",
            "           0       0.70      0.83      0.76      3892\n",
            "           1       0.59      0.43      0.50      2288\n",
            "           2       0.23      0.10      0.14       153\n",
            "           3       0.24      0.12      0.16        32\n",
            "           4       0.11      0.05      0.07        20\n",
            "\n",
            "    accuracy                           0.66      6385\n",
            "   macro avg       0.37      0.31      0.33      6385\n",
            "weighted avg       0.65      0.66      0.65      6385\n",
            "\n",
            "Confusion matrix\n",
            "---------------------------------------------------------------------------\n",
            "True          0     1   2   3   4\n",
            "Predicted                        \n",
            "0          3244  1270  80  18  17\n",
            "1           622   979  49   9   2\n",
            "2            18    34  16   1   0\n",
            "3             4     4   5   4   0\n",
            "4             4     1   3   0   1\n",
            "\n",
            "Matthew Correlation coefficient\n",
            "---------------------------------------------------------------------------\n",
            "0.2868698494434154\n"
          ]
        }
      ]
    },
    {
      "cell_type": "markdown",
      "source": [
        "(ii) SMOTETOMEK sampling strategy"
      ],
      "metadata": {
        "id": "6ATsYCL5lY00"
      }
    },
    {
      "cell_type": "code",
      "source": [
        "index_values = list(train.sort_values(by=\"Payment_delay\")['Payment_delay'].unique())\n",
        "x_train, x_val, y_train, y_val = split(train)\n",
        "\n",
        "X,y = sampling_strategy(\"SMOTETOMEK\")\n",
        "model3.fit(X, y, eval_set=(x_val,y_val), verbose=0)\n",
        "val_pred = model3.predict(x_val)\n",
        "\n",
        "evaluate_model(y_val, val_pred, index_values)"
      ],
      "metadata": {
        "colab": {
          "base_uri": "https://localhost:8080/"
        },
        "id": "M4WLqPUElaZV",
        "outputId": "de4ae2e8-1b00-4b3c-f785-75cecf39d234"
      },
      "execution_count": null,
      "outputs": [
        {
          "output_type": "stream",
          "name": "stdout",
          "text": [
            "Classification report\n",
            "---------------------------------------------------------------------------\n",
            "              precision    recall  f1-score   support\n",
            "\n",
            "           0       0.70      0.84      0.76      3892\n",
            "           1       0.59      0.42      0.49      2288\n",
            "           2       0.24      0.10      0.15       153\n",
            "           3       0.29      0.12      0.17        32\n",
            "           4       0.08      0.05      0.06        20\n",
            "\n",
            "    accuracy                           0.66      6385\n",
            "   macro avg       0.38      0.31      0.33      6385\n",
            "weighted avg       0.65      0.66      0.64      6385\n",
            "\n",
            "Confusion matrix\n",
            "---------------------------------------------------------------------------\n",
            "True          0     1   2   3   4\n",
            "Predicted                        \n",
            "0          3265  1294  78  18  16\n",
            "1           602   957  51   9   3\n",
            "2            18    31  16   1   0\n",
            "3             2     3   5   4   0\n",
            "4             5     3   3   0   1\n",
            "\n",
            "Matthew Correlation coefficient\n",
            "---------------------------------------------------------------------------\n",
            "0.2847691603178953\n"
          ]
        }
      ]
    },
    {
      "cell_type": "markdown",
      "source": [
        "# **One vs Rest dataset split on Classifiers**"
      ],
      "metadata": {
        "id": "mWNyAtmQlgIy"
      }
    },
    {
      "cell_type": "markdown",
      "source": [
        "**(a) LGBM Classifier- SMOTE sampling strategy**"
      ],
      "metadata": {
        "id": "sPmGe5RMlonv"
      }
    },
    {
      "cell_type": "code",
      "source": [
        "onevsrest = train.copy()\n",
        "model1 = lgb.LGBMClassifier(class_weight=\"balanced\")\n",
        "onevsrest['Payment_delay'] = np.where(train['Payment_delay'] == 0, 0, 999)\n",
        "x_train, x_val, y_train, y_val = split(onevsrest)\n",
        "index_values = list(onevsrest['Payment_delay'].unique())\n",
        "\n",
        "X, y = sampling_strategy(\"SMOTE\")\n",
        "\n",
        "model1.fit(X, y, eval_set=(x_val,y_val), verbose=0)\n",
        "val_pred = model1.predict(x_val)\n",
        "evaluate_model(y_val, val_pred, index_values)"
      ],
      "metadata": {
        "colab": {
          "base_uri": "https://localhost:8080/"
        },
        "id": "sR2QjWwjloPN",
        "outputId": "0e63c25e-890c-4383-89c3-faf0c1bad3fd"
      },
      "execution_count": null,
      "outputs": [
        {
          "output_type": "stream",
          "name": "stdout",
          "text": [
            "Classification report\n",
            "---------------------------------------------------------------------------\n",
            "              precision    recall  f1-score   support\n",
            "\n",
            "           0       0.70      0.85      0.77      3892\n",
            "         999       0.64      0.42      0.51      2493\n",
            "\n",
            "    accuracy                           0.68      6385\n",
            "   macro avg       0.67      0.64      0.64      6385\n",
            "weighted avg       0.68      0.68      0.67      6385\n",
            "\n",
            "Confusion matrix\n",
            "---------------------------------------------------------------------------\n",
            "True        0     999\n",
            "Predicted            \n",
            "0          3319  1452\n",
            "999         573  1041\n",
            "\n",
            "Matthew Correlation coefficient\n",
            "---------------------------------------------------------------------------\n",
            "0.3034645773651928\n"
          ]
        }
      ]
    },
    {
      "cell_type": "code",
      "source": [
        "model_1 = lgb.LGBMClassifier(random_state=0, n_estimators=500,\n",
        "                           learning_rate=0.1, num_leaves=31,\n",
        "                           is_unbalance=True)\n",
        "df.dropna(axis=1,inplace=True)\n",
        "others = train[train['Payment_delay'] != 0]\n",
        "index_values = list(others['Payment_delay'].unique())\n",
        "\n",
        "x_train, x_val, y_train, y_val = split(others)\n",
        "\n",
        "X, y = sampling_strategy(\"SMOTE\")\n",
        "\n",
        "model_1.fit(X, y, eval_set=(x_val,y_val), verbose=0)\n",
        "val_pred = model_1.predict(x_val)\n",
        "evaluate_model(y_val, val_pred, index_values)"
      ],
      "metadata": {
        "colab": {
          "base_uri": "https://localhost:8080/"
        },
        "id": "gPHv69Galzj6",
        "outputId": "6d551e88-8152-41e0-ad4d-6392940b6334"
      },
      "execution_count": null,
      "outputs": [
        {
          "output_type": "stream",
          "name": "stdout",
          "text": [
            "Classification report\n",
            "---------------------------------------------------------------------------\n",
            "              precision    recall  f1-score   support\n",
            "\n",
            "           1       0.93      0.99      0.96      2288\n",
            "           2       0.43      0.12      0.19       153\n",
            "           3       0.42      0.16      0.23        32\n",
            "           4       0.67      0.30      0.41        20\n",
            "\n",
            "    accuracy                           0.92      2493\n",
            "   macro avg       0.61      0.39      0.45      2493\n",
            "weighted avg       0.89      0.92      0.90      2493\n",
            "\n",
            "Confusion matrix\n",
            "---------------------------------------------------------------------------\n",
            "True          1    2   3   4\n",
            "Predicted                   \n",
            "1          2260  131  23  14\n",
            "2            22   19   3   0\n",
            "3             5    2   5   0\n",
            "4             1    1   1   6\n",
            "\n",
            "Matthew Correlation coefficient\n",
            "---------------------------------------------------------------------------\n",
            "0.2657638307284758\n"
          ]
        }
      ]
    },
    {
      "cell_type": "code",
      "source": [
        "#Train\n",
        "final_train = train.copy()\n",
        "final_train['prediction'] = model1.predict(final_train[x_train.columns])\n",
        "print(final_train['prediction'].value_counts())\n",
        "print('')\n",
        "\n",
        "one_class = final_train[final_train['prediction'] == 0]\n",
        "other_class = final_train[final_train['prediction'] != 0]\n",
        "other_class['prediction'] = model_1.predict(other_class[x_train.columns])\n",
        "final_train_df = pd.concat([one_class, other_class],axis=0)\n",
        "evaluate_model(final_train_df['Payment_delay'], final_train_df['prediction'], [0,1,2,3,4])"
      ],
      "metadata": {
        "colab": {
          "base_uri": "https://localhost:8080/"
        },
        "id": "9Spaxhowl7N2",
        "outputId": "f769f178-b8c1-4ced-ec77-51d9c83a9dbf"
      },
      "execution_count": null,
      "outputs": [
        {
          "output_type": "stream",
          "name": "stdout",
          "text": [
            "0      23757\n",
            "999     8166\n",
            "Name: prediction, dtype: int64\n",
            "\n",
            "Classification report\n",
            "---------------------------------------------------------------------------\n",
            "              precision    recall  f1-score   support\n",
            "\n",
            "           0       0.73      0.90      0.81     19458\n",
            "           1       0.73      0.48      0.58     11438\n",
            "           2       0.86      0.47      0.61       763\n",
            "           3       0.87      0.51      0.65       162\n",
            "           4       0.96      0.45      0.61       102\n",
            "\n",
            "    accuracy                           0.73     31923\n",
            "   macro avg       0.83      0.56      0.65     31923\n",
            "weighted avg       0.73      0.73      0.72     31923\n",
            "\n",
            "Confusion matrix\n",
            "---------------------------------------------------------------------------\n",
            "True           0     1    2   3   4\n",
            "Predicted                          \n",
            "0          17415  5902  326  63  51\n",
            "1           1998  5511   72  14   5\n",
            "2             39    20  362   2   0\n",
            "3              6     4    2  83   0\n",
            "4              0     1    1   0  46\n",
            "\n",
            "Matthew Correlation coefficient\n",
            "---------------------------------------------------------------------------\n",
            "0.44061736609962815\n"
          ]
        }
      ]
    },
    {
      "cell_type": "code",
      "source": [
        "#Test\n",
        "final_test = test.copy()\n",
        "final_test['prediction'] = model1.predict(final_test[x_train.columns])\n",
        "print(final_test['prediction'].value_counts())\n",
        "print('')\n",
        "\n",
        "one_class = final_test[final_test['prediction'] == 0]\n",
        "other_class = final_test[final_test['prediction'] != 0]\n",
        "other_class['prediction'] = model_1.predict(other_class[x_train.columns])\n",
        "final_test_df = pd.concat([one_class, other_class],axis=0)\n",
        "evaluate_model(final_test_df['Payment_delay'], final_test_df['prediction'], [0,1,2,3,4])"
      ],
      "metadata": {
        "colab": {
          "base_uri": "https://localhost:8080/"
        },
        "id": "u72YlKwXmBq7",
        "outputId": "d16d1c43-9dae-4f2e-f5be-5e4e11f3f9c8"
      },
      "execution_count": null,
      "outputs": [
        {
          "output_type": "stream",
          "name": "stdout",
          "text": [
            "0      5928\n",
            "999    2053\n",
            "Name: prediction, dtype: int64\n",
            "\n",
            "Classification report\n",
            "---------------------------------------------------------------------------\n",
            "              precision    recall  f1-score   support\n",
            "\n",
            "           0       0.70      0.85      0.77      4865\n",
            "           1       0.58      0.40      0.48      2859\n",
            "           2       0.25      0.08      0.13       191\n",
            "           3       0.33      0.15      0.20        41\n",
            "           4       0.33      0.04      0.07        25\n",
            "\n",
            "    accuracy                           0.67      7981\n",
            "   macro avg       0.44      0.30      0.33      7981\n",
            "weighted avg       0.64      0.67      0.64      7981\n",
            "\n",
            "Confusion matrix\n",
            "---------------------------------------------------------------------------\n",
            "True          0     1   2   3   4\n",
            "Predicted                        \n",
            "0          4139  1675  88  16  10\n",
            "1           705  1149  84  18  12\n",
            "2            19    27  16   1   1\n",
            "3             2     7   2   6   1\n",
            "4             0     1   1   0   1\n",
            "\n",
            "Matthew Correlation coefficient\n",
            "---------------------------------------------------------------------------\n",
            "0.28221830275227094\n"
          ]
        }
      ]
    },
    {
      "cell_type": "markdown",
      "source": [
        "**(b) Random Forest Classifier - SMOTE sampling strategy**"
      ],
      "metadata": {
        "id": "4EfidHBDmH_M"
      }
    },
    {
      "cell_type": "code",
      "source": [
        "onevsrest = train.copy()\n",
        "model2 = RandomForestClassifier(class_weight=\"balanced\")\n",
        "onevsrest['Payment_delay'] = np.where(train['Payment_delay'] == 0, 0, 999)\n",
        "x_train, x_val, y_train, y_val = split(onevsrest)\n",
        "index_values = list(onevsrest['Payment_delay'].unique())\n",
        "\n",
        "X, y = sampling_strategy(\"SMOTE\")\n",
        "\n",
        "model2.fit(X, y)\n",
        "val_pred = model2.predict(x_val)\n",
        "evaluate_model(y_val, val_pred, index_values)"
      ],
      "metadata": {
        "colab": {
          "base_uri": "https://localhost:8080/"
        },
        "id": "bp1Io3qUmFIX",
        "outputId": "04f59df8-f461-42f3-978e-bb98a1403d4f"
      },
      "execution_count": null,
      "outputs": [
        {
          "output_type": "stream",
          "name": "stdout",
          "text": [
            "Classification report\n",
            "---------------------------------------------------------------------------\n",
            "              precision    recall  f1-score   support\n",
            "\n",
            "           0       0.73      0.81      0.77      3892\n",
            "         999       0.64      0.53      0.58      2493\n",
            "\n",
            "    accuracy                           0.70      6385\n",
            "   macro avg       0.69      0.67      0.68      6385\n",
            "weighted avg       0.70      0.70      0.70      6385\n",
            "\n",
            "Confusion matrix\n",
            "---------------------------------------------------------------------------\n",
            "True        0     999\n",
            "Predicted            \n",
            "0          3156  1162\n",
            "999         736  1331\n",
            "\n",
            "Matthew Correlation coefficient\n",
            "---------------------------------------------------------------------------\n",
            "0.3594921897888181\n"
          ]
        }
      ]
    },
    {
      "cell_type": "code",
      "source": [
        "model_2 = RandomForestClassifier(class_weight=\"balanced\")\n",
        "df.dropna(axis=1,inplace=True)\n",
        "others = train[train['Payment_delay'] != 0]\n",
        "index_values = list(others['Payment_delay'].unique())\n",
        "\n",
        "x_train, x_val, y_train, y_val = split(others)\n",
        "\n",
        "X, y = sampling_strategy(\"SMOTE\")\n",
        "\n",
        "model_2.fit(X, y)\n",
        "val_pred = model_2.predict(x_val)\n",
        "evaluate_model(y_val, val_pred, index_values)"
      ],
      "metadata": {
        "colab": {
          "base_uri": "https://localhost:8080/"
        },
        "id": "DRrSl5OUmTxS",
        "outputId": "3afd4ef8-ad6b-4181-882e-45ddcdbd5d5a"
      },
      "execution_count": null,
      "outputs": [
        {
          "output_type": "stream",
          "name": "stdout",
          "text": [
            "Classification report\n",
            "---------------------------------------------------------------------------\n",
            "              precision    recall  f1-score   support\n",
            "\n",
            "           1       0.93      0.98      0.96      2288\n",
            "           2       0.39      0.18      0.24       153\n",
            "           3       0.36      0.16      0.22        32\n",
            "           4       0.60      0.30      0.40        20\n",
            "\n",
            "    accuracy                           0.91      2493\n",
            "   macro avg       0.57      0.40      0.45      2493\n",
            "weighted avg       0.89      0.91      0.90      2493\n",
            "\n",
            "Confusion matrix\n",
            "---------------------------------------------------------------------------\n",
            "True          1    2   3   4\n",
            "Predicted                   \n",
            "1          2241  122  24  13\n",
            "2            38   27   3   1\n",
            "3             6    3   5   0\n",
            "4             3    1   0   6\n",
            "\n",
            "Matthew Correlation coefficient\n",
            "---------------------------------------------------------------------------\n",
            "0.2732319602499524\n"
          ]
        }
      ]
    },
    {
      "cell_type": "code",
      "source": [
        "#Train\n",
        "final_train = train.copy()\n",
        "final_train['prediction'] = model2.predict(final_train[x_train.columns])\n",
        "print(final_train['prediction'].value_counts())\n",
        "print('')\n",
        "\n",
        "one_class = final_train[final_train['prediction'] == 0]\n",
        "other_class = final_train[final_train['prediction'] != 0]\n",
        "other_class['prediction'] = model_2.predict(other_class[x_train.columns])\n",
        "final_train_df = pd.concat([one_class, other_class],axis=0)\n",
        "evaluate_model(final_train_df['Payment_delay'], final_train_df['prediction'], [0,1,2,3,4])"
      ],
      "metadata": {
        "colab": {
          "base_uri": "https://localhost:8080/"
        },
        "id": "dPeIPpTTmW8K",
        "outputId": "7f25006d-d418-4461-fcc8-eb404ca75d06"
      },
      "execution_count": null,
      "outputs": [
        {
          "output_type": "stream",
          "name": "stdout",
          "text": [
            "0      19882\n",
            "999    12041\n",
            "Name: prediction, dtype: int64\n",
            "\n",
            "Classification report\n",
            "---------------------------------------------------------------------------\n",
            "              precision    recall  f1-score   support\n",
            "\n",
            "           0       0.94      0.96      0.95     19458\n",
            "           1       0.92      0.90      0.91     11438\n",
            "           2       0.92      0.77      0.84       763\n",
            "           3       0.93      0.77      0.84       162\n",
            "           4       0.94      0.82      0.88       102\n",
            "\n",
            "    accuracy                           0.93     31923\n",
            "   macro avg       0.93      0.85      0.89     31923\n",
            "weighted avg       0.93      0.93      0.93     31923\n",
            "\n",
            "Confusion matrix\n",
            "---------------------------------------------------------------------------\n",
            "True           0      1    2    3   4\n",
            "Predicted                            \n",
            "0          18719   1088   57   11   7\n",
            "1            723  10306  113   23  10\n",
            "2             14     36  589    3   1\n",
            "3              1      5    3  125   0\n",
            "4              1      3    1    0  84\n",
            "\n",
            "Matthew Correlation coefficient\n",
            "---------------------------------------------------------------------------\n",
            "0.8672289688010946\n"
          ]
        }
      ]
    },
    {
      "cell_type": "code",
      "source": [
        "#Test\n",
        "final_test = test.copy()\n",
        "final_test['prediction'] = model2.predict(final_test[x_train.columns])\n",
        "print(final_test['prediction'].value_counts())\n",
        "print('')\n",
        "\n",
        "one_class = final_test[final_test['prediction'] == 0]\n",
        "other_class = final_test[final_test['prediction'] != 0]\n",
        "other_class['prediction'] = model_2.predict(other_class[x_train.columns])\n",
        "final_test_df = pd.concat([one_class, other_class],axis=0)\n",
        "evaluate_model(final_test_df['Payment_delay'], final_test_df['prediction'], [0,1,2,3,4])"
      ],
      "metadata": {
        "colab": {
          "base_uri": "https://localhost:8080/"
        },
        "id": "lHh3npiPmcG3",
        "outputId": "5a845567-f7a7-4d89-b222-93fcaae57c51"
      },
      "execution_count": null,
      "outputs": [
        {
          "output_type": "stream",
          "name": "stdout",
          "text": [
            "0      5333\n",
            "999    2648\n",
            "Name: prediction, dtype: int64\n",
            "\n",
            "Classification report\n",
            "---------------------------------------------------------------------------\n",
            "              precision    recall  f1-score   support\n",
            "\n",
            "           0       0.74      0.81      0.77      4865\n",
            "           1       0.59      0.52      0.55      2859\n",
            "           2       0.35      0.17      0.23       191\n",
            "           3       0.27      0.15      0.19        41\n",
            "           4       0.07      0.04      0.05        25\n",
            "\n",
            "    accuracy                           0.68      7981\n",
            "   macro avg       0.40      0.34      0.36      7981\n",
            "weighted avg       0.67      0.68      0.68      7981\n",
            "\n",
            "Confusion matrix\n",
            "---------------------------------------------------------------------------\n",
            "True          0     1    2   3   4\n",
            "Predicted                         \n",
            "0          3935  1323   55  11   9\n",
            "1           898  1490  100  19  13\n",
            "2            22    33   32   3   1\n",
            "3             3     9    3   6   1\n",
            "4             7     4    1   2   1\n",
            "\n",
            "Matthew Correlation coefficient\n",
            "---------------------------------------------------------------------------\n",
            "0.3443131279966398\n"
          ]
        }
      ]
    },
    {
      "cell_type": "markdown",
      "source": [
        "**(c) Catboost Classifier - SMOTE sampling strategy**"
      ],
      "metadata": {
        "id": "VsMscKAGml2S"
      }
    },
    {
      "cell_type": "code",
      "source": [
        "onevsrest = train.copy()\n",
        "model3 = catboost.CatBoostClassifier(n_estimators=2500,random_state=0, learning_rate=0.03, verbose=100, early_stopping_rounds=50,auto_class_weights=\"Balanced\")\n",
        "onevsrest['Payment_delay'] = np.where(train['Payment_delay'] == 0, 0, 999)\n",
        "x_train, x_val, y_train, y_val = split(onevsrest)\n",
        "index_values = list(onevsrest['Payment_delay'].unique())\n",
        "\n",
        "X, y = sampling_strategy(\"SMOTE\")\n",
        "\n",
        "model3.fit(X, y, eval_set=(x_val,y_val), verbose=0)\n",
        "val_pred = model3.predict(x_val)\n",
        "evaluate_model(y_val, val_pred, index_values)"
      ],
      "metadata": {
        "colab": {
          "base_uri": "https://localhost:8080/"
        },
        "id": "pxdAfcd3mss2",
        "outputId": "e06460e4-be66-407e-b62a-09f830962b7d"
      },
      "execution_count": null,
      "outputs": [
        {
          "output_type": "stream",
          "name": "stdout",
          "text": [
            "Classification report\n",
            "---------------------------------------------------------------------------\n",
            "              precision    recall  f1-score   support\n",
            "\n",
            "           0       0.72      0.85      0.78      3892\n",
            "         999       0.67      0.48      0.56      2493\n",
            "\n",
            "    accuracy                           0.70      6385\n",
            "   macro avg       0.69      0.66      0.67      6385\n",
            "weighted avg       0.70      0.70      0.69      6385\n",
            "\n",
            "Confusion matrix\n",
            "---------------------------------------------------------------------------\n",
            "True        0     999\n",
            "Predicted            \n",
            "0          3297  1293\n",
            "999         595  1200\n",
            "\n",
            "Matthew Correlation coefficient\n",
            "---------------------------------------------------------------------------\n",
            "0.35645507038151225\n"
          ]
        }
      ]
    },
    {
      "cell_type": "code",
      "source": [
        "model_3 = catboost.CatBoostClassifier(n_estimators=2500,random_state=0, learning_rate=0.03, verbose=100, early_stopping_rounds=50,auto_class_weights=\"Balanced\")\n",
        "df.dropna(axis=1,inplace=True)\n",
        "others = train[train['Payment_delay'] != 0]\n",
        "index_values = list(others['Payment_delay'].unique())\n",
        "\n",
        "x_train, x_val, y_train, y_val = split(others)\n",
        "\n",
        "X, y = sampling_strategy(\"SMOTE\")\n",
        "\n",
        "model_3.fit(X, y, eval_set=(x_val,y_val), verbose=0)\n",
        "val_pred = model_3.predict(x_val)\n",
        "evaluate_model(y_val, val_pred, index_values)"
      ],
      "metadata": {
        "colab": {
          "base_uri": "https://localhost:8080/"
        },
        "id": "26wQpQXSm5Jz",
        "outputId": "a45c6344-b7a4-49d8-ad7e-de3d82e1d237"
      },
      "execution_count": null,
      "outputs": [
        {
          "output_type": "stream",
          "name": "stdout",
          "text": [
            "Classification report\n",
            "---------------------------------------------------------------------------\n",
            "              precision    recall  f1-score   support\n",
            "\n",
            "           1       0.93      0.99      0.96      2288\n",
            "           2       0.27      0.05      0.08       153\n",
            "           3       0.50      0.16      0.24        32\n",
            "           4       0.40      0.20      0.27        20\n",
            "\n",
            "    accuracy                           0.91      2493\n",
            "   macro avg       0.52      0.35      0.38      2493\n",
            "weighted avg       0.88      0.91      0.89      2493\n",
            "\n",
            "Confusion matrix\n",
            "---------------------------------------------------------------------------\n",
            "True          1    2   3   4\n",
            "Predicted                   \n",
            "1          2265  142  24  16\n",
            "2            17    7   2   0\n",
            "3             3    2   5   0\n",
            "4             3    2   1   4\n",
            "\n",
            "Matthew Correlation coefficient\n",
            "---------------------------------------------------------------------------\n",
            "0.17913175622967337\n"
          ]
        }
      ]
    },
    {
      "cell_type": "markdown",
      "source": [
        "# **Best Model - Catboost with SMOTE sampling strategy and One-vs-Rest dataset split**"
      ],
      "metadata": {
        "id": "AYDu7pSym9fm"
      }
    },
    {
      "cell_type": "code",
      "source": [
        "#Train\n",
        "final_train = train.copy()\n",
        "final_train['prediction'] = model3.predict(final_train[x_train.columns])\n",
        "print(final_train['prediction'].value_counts())\n",
        "print('')\n",
        "\n",
        "one_class = final_train[final_train['prediction'] == 0]\n",
        "other_class = final_train[final_train['prediction'] != 0]\n",
        "other_class['prediction'] = model_3.predict(other_class[x_train.columns])\n",
        "final_train_df = pd.concat([one_class, other_class],axis=0)\n",
        "evaluate_model(final_train_df['Payment_delay'], final_train_df['prediction'], [0,1,2,3,4])"
      ],
      "metadata": {
        "colab": {
          "base_uri": "https://localhost:8080/"
        },
        "id": "xRwAMGVXm_TP",
        "outputId": "141cd87f-3fbf-481c-e46e-8de87ff4255b"
      },
      "execution_count": null,
      "outputs": [
        {
          "output_type": "stream",
          "name": "stdout",
          "text": [
            "0      22124\n",
            "999     9799\n",
            "Name: prediction, dtype: int64\n",
            "\n",
            "Classification report\n",
            "---------------------------------------------------------------------------\n",
            "              precision    recall  f1-score   support\n",
            "\n",
            "           0       0.81      0.92      0.86     19458\n",
            "           1       0.79      0.65      0.72     11438\n",
            "           2       0.65      0.24      0.35       763\n",
            "           3       0.85      0.41      0.56       162\n",
            "           4       0.68      0.40      0.51       102\n",
            "\n",
            "    accuracy                           0.80     31923\n",
            "   macro avg       0.76      0.53      0.60     31923\n",
            "weighted avg       0.80      0.80      0.80     31923\n",
            "\n",
            "Confusion matrix\n",
            "---------------------------------------------------------------------------\n",
            "True           0     1    2   3   4\n",
            "Predicted                          \n",
            "0          17948  3920  185  36  35\n",
            "1           1459  7451  389  56  25\n",
            "2             39    55  183   3   0\n",
            "3              3     5    3  67   1\n",
            "4              9     7    3   0  41\n",
            "\n",
            "Matthew Correlation coefficient\n",
            "---------------------------------------------------------------------------\n",
            "0.5950349866941594\n"
          ]
        }
      ]
    },
    {
      "cell_type": "code",
      "source": [
        "#Test\n",
        "final_test = test.copy()\n",
        "final_test['prediction'] = model3.predict(final_test[x_train.columns])\n",
        "print(final_test['prediction'].value_counts())\n",
        "print('')\n",
        "\n",
        "one_class = final_test[final_test['prediction'] == 0]\n",
        "other_class = final_test[final_test['prediction'] != 0]\n",
        "other_class['prediction'] = model_3.predict(other_class[x_train.columns])\n",
        "final_test_df = pd.concat([one_class, other_class],axis=0)\n",
        "evaluate_model(final_test_df['Payment_delay'], final_test_df['prediction'], [0,1,2,3,4])"
      ],
      "metadata": {
        "colab": {
          "base_uri": "https://localhost:8080/"
        },
        "id": "Qap0JQ7dnEyA",
        "outputId": "219b1715-5304-47f8-9806-83fb2f0921d8"
      },
      "execution_count": null,
      "outputs": [
        {
          "output_type": "stream",
          "name": "stdout",
          "text": [
            "0      5629\n",
            "999    2352\n",
            "Name: prediction, dtype: int64\n",
            "\n",
            "Classification report\n",
            "---------------------------------------------------------------------------\n",
            "              precision    recall  f1-score   support\n",
            "\n",
            "           0       0.72      0.84      0.78      4865\n",
            "           1       0.60      0.47      0.53      2859\n",
            "           2       0.24      0.09      0.13       191\n",
            "           3       0.50      0.12      0.20        41\n",
            "           4       0.10      0.04      0.06        25\n",
            "\n",
            "    accuracy                           0.68      7981\n",
            "   macro avg       0.43      0.31      0.34      7981\n",
            "weighted avg       0.66      0.68      0.67      7981\n",
            "\n",
            "Confusion matrix\n",
            "---------------------------------------------------------------------------\n",
            "True          0     1    2   3   4\n",
            "Predicted                         \n",
            "0          4074  1464   67  12  12\n",
            "1           767  1356  105  21  11\n",
            "2            20    33   17   1   1\n",
            "3             1     3    1   5   0\n",
            "4             3     3    1   2   1\n",
            "\n",
            "Matthew Correlation coefficient\n",
            "---------------------------------------------------------------------------\n",
            "0.33020233745222555\n"
          ]
        }
      ]
    },
    {
      "cell_type": "markdown",
      "source": [
        "Feature Importance"
      ],
      "metadata": {
        "id": "jk0g_XEknHxJ"
      }
    },
    {
      "cell_type": "code",
      "source": [
        "pd.Series(model3.feature_importances_, index=x_train.columns).nlargest(10).plot(kind='barh')"
      ],
      "metadata": {
        "colab": {
          "base_uri": "https://localhost:8080/",
          "height": 282
        },
        "id": "fdgQThgdnMOg",
        "outputId": "27dfb8aa-3d06-49ac-cca8-fa082a2551d8"
      },
      "execution_count": null,
      "outputs": [
        {
          "output_type": "execute_result",
          "data": {
            "text/plain": [
              "<matplotlib.axes._subplots.AxesSubplot at 0x7ffa5aa07a50>"
            ]
          },
          "metadata": {},
          "execution_count": 49
        },
        {
          "output_type": "display_data",
          "data": {
            "text/plain": [
              "<Figure size 432x288 with 1 Axes>"
            ],
            "image/png": "[encoded data removed]"
          },
          "metadata": {
            "needs_background": "light"
          }
        }
      ]
    },
    {
      "cell_type": "code",
      "source": [
        "pd.Series(model_3.feature_importances_, index=x_train.columns).nlargest(10).plot(kind='barh')"
      ],
      "metadata": {
        "colab": {
          "base_uri": "https://localhost:8080/",
          "height": 282
        },
        "id": "OSxEAnCknPzz",
        "outputId": "63b47020-a65d-4dbf-a274-6d3f52c0d8f8"
      },
      "execution_count": null,
      "outputs": [
        {
          "output_type": "execute_result",
          "data": {
            "text/plain": [
              "<matplotlib.axes._subplots.AxesSubplot at 0x7ffa2bb33d50>"
            ]
          },
          "metadata": {},
          "execution_count": 50
        },
        {
          "output_type": "display_data",
          "data": {
            "text/plain": [
              "<Figure size 432x288 with 1 Axes>"
            ],
            "image/png": "[encoded data removed]"
          },
          "metadata": {
            "needs_background": "light"
          }
        }
      ]
    }
  ]
}