{
  "nbformat": 4,
  "nbformat_minor": 0,
  "metadata": {
    "colab": {
      "provenance": [],
      "mount_file_id": "1jcBWHIOdMZ1A9_mq4_dB6Yd_hSQTkjVi",
      "authorship_tag": "ABX9TyMch0LlHQeYK3DOgE2ISIPH"
    },
    "kernelspec": {
      "name": "python3",
      "display_name": "Python 3"
    },
    "language_info": {
      "name": "python"
    },
    "accelerator": "GPU"
  },
  "cells": [
    {
      "cell_type": "code",
      "execution_count": null,
      "metadata": {
        "id": "l5yfMfGQyJRa"
      },
      "outputs": [],
      "source": [
        "import pandas as pd\n",
        "import numpy as np\n",
        "import matplotlib.pyplot as plt"
      ]
    },
    {
      "cell_type": "code",
      "source": [
        "dataset = pd.read_csv('/content/drive/MyDrive/DL_Krish_Naik/BankCustomers.csv')"
      ],
      "metadata": {
        "id": "zLZhtHLfyR5D"
      },
      "execution_count": null,
      "outputs": []
    },
    {
      "cell_type": "code",
      "source": [
        "X = dataset.iloc[:, 3:13]\n",
        "y = dataset.iloc[:, 13]"
      ],
      "metadata": {
        "id": "o-l1sH6fzdS8"
      },
      "execution_count": null,
      "outputs": []
    },
    {
      "cell_type": "code",
      "source": [
        "states = pd.get_dummies(X['Geography'], drop_first = True)\n",
        "gender = pd.get_dummies(X['Gender'], drop_first = True)"
      ],
      "metadata": {
        "id": "9gvGeO8fzjrc"
      },
      "execution_count": null,
      "outputs": []
    },
    {
      "cell_type": "code",
      "source": [
        "X = X.drop(['Geography', 'Gender'], axis = 1)\n",
        "X = pd.concat([X, states, gender], axis = 1)"
      ],
      "metadata": {
        "id": "ITDTQgC70gLT"
      },
      "execution_count": null,
      "outputs": []
    },
    {
      "cell_type": "code",
      "source": [
        "from sklearn.model_selection import train_test_split\n",
        "X_train, X_test, y_train, y_test = train_test_split(X, y, test_size=0.2, random_state=0)"
      ],
      "metadata": {
        "id": "wKDj07DF0jIE"
      },
      "execution_count": null,
      "outputs": []
    },
    {
      "cell_type": "code",
      "source": [
        "from sklearn.preprocessing import StandardScaler\n",
        "sc = StandardScaler()\n",
        "X_train = sc.fit_transform(X_train)\n",
        "X_test = sc.fit_transform(X_test)"
      ],
      "metadata": {
        "id": "t2xouqZE1JIn"
      },
      "execution_count": null,
      "outputs": []
    },
    {
      "cell_type": "code",
      "source": [
        "import keras\n",
        "from keras.models import Sequential\n",
        "from keras.layers import Dense"
      ],
      "metadata": {
        "id": "qDPwBASC1VcX"
      },
      "execution_count": null,
      "outputs": []
    },
    {
      "cell_type": "code",
      "source": [
        "classifier = Sequential()"
      ],
      "metadata": {
        "id": "EmvsPdkE2TE4"
      },
      "execution_count": null,
      "outputs": []
    },
    {
      "cell_type": "code",
      "source": [
        "classifier.add(Dense(activation='relu', input_dim=11, units=6, kernel_initializer='uniform')) #weights initialized in range 0-1 uniformly"
      ],
      "metadata": {
        "id": "eekranNe2r8G"
      },
      "execution_count": null,
      "outputs": []
    },
    {
      "cell_type": "code",
      "source": [
        "classifier.add(Dense(activation='relu', units=6, kernel_initializer='uniform'))"
      ],
      "metadata": {
        "id": "RxCcswkg27ob"
      },
      "execution_count": null,
      "outputs": []
    },
    {
      "cell_type": "code",
      "source": [
        "classifier.add(Dense(activation='sigmoid', units=1, kernel_initializer='uniform'))"
      ],
      "metadata": {
        "id": "NI5uxTUI3MIM"
      },
      "execution_count": null,
      "outputs": []
    },
    {
      "cell_type": "code",
      "source": [
        "classifier.compile(optimizer='adam', loss='binary_crossentropy', metrics = ['accuracy'])"
      ],
      "metadata": {
        "id": "I8XIS0mT3akV"
      },
      "execution_count": null,
      "outputs": []
    },
    {
      "cell_type": "code",
      "source": [
        "classifier.fit(X_train, y_train, batch_size=10, epochs=50)"
      ],
      "metadata": {
        "colab": {
          "base_uri": "https://localhost:8080/"
        },
        "id": "E9FWbJWm3jwR",
        "outputId": "33dd55fb-e65e-495f-cf1c-86b1becbe626"
      },
      "execution_count": null,
      "outputs": [
        {
          "output_type": "stream",
          "name": "stdout",
          "text": [
            "Epoch 1/50\n",
            "800/800 [==============================] - 8s 3ms/step - loss: 0.4829 - accuracy: 0.7950\n",
            "Epoch 2/50\n",
            "800/800 [==============================] - 2s 2ms/step - loss: 0.4267 - accuracy: 0.7960\n",
            "Epoch 3/50\n",
            "800/800 [==============================] - 2s 2ms/step - loss: 0.4205 - accuracy: 0.8062\n",
            "Epoch 4/50\n",
            "800/800 [==============================] - 2s 2ms/step - loss: 0.4178 - accuracy: 0.8256\n",
            "Epoch 5/50\n",
            "800/800 [==============================] - 2s 3ms/step - loss: 0.4155 - accuracy: 0.8271\n",
            "Epoch 6/50\n",
            "800/800 [==============================] - 2s 3ms/step - loss: 0.4145 - accuracy: 0.8305\n",
            "Epoch 7/50\n",
            "800/800 [==============================] - 3s 3ms/step - loss: 0.4133 - accuracy: 0.8324\n",
            "Epoch 8/50\n",
            "800/800 [==============================] - 3s 4ms/step - loss: 0.4119 - accuracy: 0.8324\n",
            "Epoch 9/50\n",
            "800/800 [==============================] - 3s 4ms/step - loss: 0.4109 - accuracy: 0.8341\n",
            "Epoch 10/50\n",
            "800/800 [==============================] - 3s 4ms/step - loss: 0.4104 - accuracy: 0.8339\n",
            "Epoch 11/50\n",
            "800/800 [==============================] - 3s 3ms/step - loss: 0.4090 - accuracy: 0.8326\n",
            "Epoch 12/50\n",
            "800/800 [==============================] - 3s 3ms/step - loss: 0.4080 - accuracy: 0.8350\n",
            "Epoch 13/50\n",
            "800/800 [==============================] - 2s 3ms/step - loss: 0.4077 - accuracy: 0.8324\n",
            "Epoch 14/50\n",
            "800/800 [==============================] - 3s 4ms/step - loss: 0.4074 - accuracy: 0.8347\n",
            "Epoch 15/50\n",
            "800/800 [==============================] - 3s 3ms/step - loss: 0.4067 - accuracy: 0.8350\n",
            "Epoch 16/50\n",
            "800/800 [==============================] - 2s 2ms/step - loss: 0.4061 - accuracy: 0.8346\n",
            "Epoch 17/50\n",
            "800/800 [==============================] - 2s 3ms/step - loss: 0.4057 - accuracy: 0.8347\n",
            "Epoch 18/50\n",
            "800/800 [==============================] - 2s 3ms/step - loss: 0.4056 - accuracy: 0.8335\n",
            "Epoch 19/50\n",
            "800/800 [==============================] - 2s 3ms/step - loss: 0.4053 - accuracy: 0.8349\n",
            "Epoch 20/50\n",
            "800/800 [==============================] - 2s 3ms/step - loss: 0.4050 - accuracy: 0.8345\n",
            "Epoch 21/50\n",
            "800/800 [==============================] - 2s 3ms/step - loss: 0.4044 - accuracy: 0.8353\n",
            "Epoch 22/50\n",
            "800/800 [==============================] - 2s 2ms/step - loss: 0.4047 - accuracy: 0.8342\n",
            "Epoch 23/50\n",
            "800/800 [==============================] - 2s 2ms/step - loss: 0.4041 - accuracy: 0.8338\n",
            "Epoch 24/50\n",
            "800/800 [==============================] - 2s 2ms/step - loss: 0.4036 - accuracy: 0.8361\n",
            "Epoch 25/50\n",
            "800/800 [==============================] - 2s 3ms/step - loss: 0.4037 - accuracy: 0.8339\n",
            "Epoch 26/50\n",
            "800/800 [==============================] - 2s 3ms/step - loss: 0.4037 - accuracy: 0.8351\n",
            "Epoch 27/50\n",
            "800/800 [==============================] - 2s 3ms/step - loss: 0.4034 - accuracy: 0.8350\n",
            "Epoch 28/50\n",
            "800/800 [==============================] - 2s 3ms/step - loss: 0.4032 - accuracy: 0.8350\n",
            "Epoch 29/50\n",
            "800/800 [==============================] - 2s 3ms/step - loss: 0.4033 - accuracy: 0.8346\n",
            "Epoch 30/50\n",
            "800/800 [==============================] - 3s 3ms/step - loss: 0.4024 - accuracy: 0.8350\n",
            "Epoch 31/50\n",
            "800/800 [==============================] - 4s 5ms/step - loss: 0.4024 - accuracy: 0.8336\n",
            "Epoch 32/50\n",
            "800/800 [==============================] - 3s 4ms/step - loss: 0.4020 - accuracy: 0.8349\n",
            "Epoch 33/50\n",
            "800/800 [==============================] - 3s 3ms/step - loss: 0.4020 - accuracy: 0.8351\n",
            "Epoch 34/50\n",
            "800/800 [==============================] - 3s 3ms/step - loss: 0.4024 - accuracy: 0.8351\n",
            "Epoch 35/50\n",
            "800/800 [==============================] - 3s 3ms/step - loss: 0.4021 - accuracy: 0.8359\n",
            "Epoch 36/50\n",
            "800/800 [==============================] - 3s 3ms/step - loss: 0.4013 - accuracy: 0.8336\n",
            "Epoch 37/50\n",
            "800/800 [==============================] - 3s 3ms/step - loss: 0.4021 - accuracy: 0.8335\n",
            "Epoch 38/50\n",
            "800/800 [==============================] - 3s 3ms/step - loss: 0.4018 - accuracy: 0.8355\n",
            "Epoch 39/50\n",
            "800/800 [==============================] - 3s 3ms/step - loss: 0.4021 - accuracy: 0.8344\n",
            "Epoch 40/50\n",
            "800/800 [==============================] - 3s 4ms/step - loss: 0.4012 - accuracy: 0.8339\n",
            "Epoch 41/50\n",
            "800/800 [==============================] - 3s 4ms/step - loss: 0.4016 - accuracy: 0.8342\n",
            "Epoch 42/50\n",
            "800/800 [==============================] - 3s 4ms/step - loss: 0.4018 - accuracy: 0.8347\n",
            "Epoch 43/50\n",
            "800/800 [==============================] - 3s 3ms/step - loss: 0.4010 - accuracy: 0.8356\n",
            "Epoch 44/50\n",
            "800/800 [==============================] - 3s 3ms/step - loss: 0.4015 - accuracy: 0.8329\n",
            "Epoch 45/50\n",
            "800/800 [==============================] - 3s 4ms/step - loss: 0.4010 - accuracy: 0.8345\n",
            "Epoch 46/50\n",
            "800/800 [==============================] - 2s 3ms/step - loss: 0.4016 - accuracy: 0.8341\n",
            "Epoch 47/50\n",
            "800/800 [==============================] - 2s 2ms/step - loss: 0.4015 - accuracy: 0.8339\n",
            "Epoch 48/50\n",
            "800/800 [==============================] - 2s 2ms/step - loss: 0.4013 - accuracy: 0.8359\n",
            "Epoch 49/50\n",
            "800/800 [==============================] - 2s 2ms/step - loss: 0.4015 - accuracy: 0.8351\n",
            "Epoch 50/50\n",
            "800/800 [==============================] - 2s 2ms/step - loss: 0.4010 - accuracy: 0.8347\n"
          ]
        },
        {
          "output_type": "execute_result",
          "data": {
            "text/plain": [
              "<keras.callbacks.History at 0x7f6670545e90>"
            ]
          },
          "metadata": {},
          "execution_count": 15
        }
      ]
    },
    {
      "cell_type": "code",
      "source": [
        "y_pred = classifier.predict(X_test)\n",
        "y_pred = (y_pred > 0.5)"
      ],
      "metadata": {
        "id": "B1alsPtj34dp"
      },
      "execution_count": null,
      "outputs": []
    },
    {
      "cell_type": "code",
      "source": [
        "from sklearn.metrics import confusion_matrix, accuracy_score\n",
        "cm = confusion_matrix(y_test, y_pred)\n",
        "accuracy = accuracy_score(y_test, y_pred)"
      ],
      "metadata": {
        "id": "PQmGybJ-4CtB"
      },
      "execution_count": null,
      "outputs": []
    },
    {
      "cell_type": "code",
      "source": [
        "cm"
      ],
      "metadata": {
        "colab": {
          "base_uri": "https://localhost:8080/"
        },
        "id": "tC65ZSHd4P_x",
        "outputId": "d91c53e2-59ab-4857-f457-b4656279dea7"
      },
      "execution_count": null,
      "outputs": [
        {
          "output_type": "execute_result",
          "data": {
            "text/plain": [
              "array([[1559,   36],\n",
              "       [ 289,  116]])"
            ]
          },
          "metadata": {},
          "execution_count": 19
        }
      ]
    },
    {
      "cell_type": "code",
      "source": [
        "accuracy"
      ],
      "metadata": {
        "colab": {
          "base_uri": "https://localhost:8080/"
        },
        "id": "ESrt-rPB4hIV",
        "outputId": "367c7dab-5b12-4ded-cd78-9e7ce7ef553e"
      },
      "execution_count": null,
      "outputs": [
        {
          "output_type": "execute_result",
          "data": {
            "text/plain": [
              "0.8375"
            ]
          },
          "metadata": {},
          "execution_count": 20
        }
      ]
    }
  ]
}